{
  "nbformat": 4,
  "nbformat_minor": 0,
  "metadata": {
    "colab": {
      "name": "project_covid.ipynb",
      "provenance": [],
      "collapsed_sections": [],
      "mount_file_id": "1TEMaBHZfZI3ytpBax6kgCoVhlMBtXekY",
      "authorship_tag": "ABX9TyOsKwNXnVHBEH7IASpvFo7I",
      "include_colab_link": true
    },
    "kernelspec": {
      "name": "python3",
      "display_name": "Python 3"
    },
    "language_info": {
      "name": "python"
    }
  },
  "cells": [
    {
      "cell_type": "markdown",
      "metadata": {
        "id": "view-in-github",
        "colab_type": "text"
      },
      "source": [
        "<a href=\"https://colab.research.google.com/github/vishnuraj-git/DataAnalytics/blob/main/project_covid.ipynb\" target=\"_parent\"><img src=\"https://colab.research.google.com/assets/colab-badge.svg\" alt=\"Open In Colab\"/></a>"
      ]
    },
    {
      "cell_type": "markdown",
      "metadata": {
        "id": "FAYpv_vZJ9zq"
      },
      "source": [
        "Importing Required Libraries"
      ]
    },
    {
      "cell_type": "code",
      "metadata": {
        "id": "dxrKR3BiJoRi"
      },
      "source": [
        "\n",
        "import pandas as pd\n",
        "import numpy as np\n",
        "import seaborn as sns\n",
        "import matplotlib.pyplot as plt"
      ],
      "execution_count": 2,
      "outputs": []
    },
    {
      "cell_type": "markdown",
      "metadata": {
        "id": "hr_VKzHSJqnE"
      },
      "source": [
        "Take a copy of original dataset."
      ]
    },
    {
      "cell_type": "code",
      "metadata": {
        "id": "AYT55DBYLltb"
      },
      "source": [
        "main_df = pd.read_csv(\"/content/drive/MyDrive/Latest Covid-19 India Status.csv\")\n",
        "df = main_df.copy()"
      ],
      "execution_count": 3,
      "outputs": []
    },
    {
      "cell_type": "code",
      "metadata": {
        "colab": {
          "base_uri": "https://localhost:8080/"
        },
        "id": "TVM9ksVnMNQS",
        "outputId": "f6d9c94b-2199-46d6-e656-cef78caa359d"
      },
      "source": [
        "# Shape of the dataset\n",
        "df.shape"
      ],
      "execution_count": null,
      "outputs": [
        {
          "output_type": "execute_result",
          "data": {
            "text/plain": [
              "(36, 8)"
            ]
          },
          "metadata": {
            "tags": []
          },
          "execution_count": 5
        }
      ]
    },
    {
      "cell_type": "code",
      "metadata": {
        "colab": {
          "base_uri": "https://localhost:8080/"
        },
        "id": "dT5pg7XnMSIX",
        "outputId": "1f83ef82-ce78-4504-edb7-64d5816f94dd"
      },
      "source": [
        "# Getting list of all columns present in the dataframe\n",
        "df.columns"
      ],
      "execution_count": null,
      "outputs": [
        {
          "output_type": "execute_result",
          "data": {
            "text/plain": [
              "Index(['State/UTs', 'Total Cases', 'Active', 'Discharged', 'Deaths',\n",
              "       'Active Ratio (%)', 'Discharge Ratio (%)', 'Death Ratio (%)'],\n",
              "      dtype='object')"
            ]
          },
          "metadata": {
            "tags": []
          },
          "execution_count": 6
        }
      ]
    },
    {
      "cell_type": "code",
      "metadata": {
        "colab": {
          "base_uri": "https://localhost:8080/",
          "height": 204
        },
        "id": "_3NmYDtcL5AK",
        "outputId": "ee22896e-8018-4f0c-f752-1ca8e0a28707"
      },
      "source": [
        "df.head()"
      ],
      "execution_count": null,
      "outputs": [
        {
          "output_type": "execute_result",
          "data": {
            "text/html": [
              "<div>\n",
              "<style scoped>\n",
              "    .dataframe tbody tr th:only-of-type {\n",
              "        vertical-align: middle;\n",
              "    }\n",
              "\n",
              "    .dataframe tbody tr th {\n",
              "        vertical-align: top;\n",
              "    }\n",
              "\n",
              "    .dataframe thead th {\n",
              "        text-align: right;\n",
              "    }\n",
              "</style>\n",
              "<table border=\"1\" class=\"dataframe\">\n",
              "  <thead>\n",
              "    <tr style=\"text-align: right;\">\n",
              "      <th></th>\n",
              "      <th>State/UTs</th>\n",
              "      <th>Total Cases</th>\n",
              "      <th>Active</th>\n",
              "      <th>Discharged</th>\n",
              "      <th>Deaths</th>\n",
              "      <th>Active Ratio (%)</th>\n",
              "      <th>Discharge Ratio (%)</th>\n",
              "      <th>Death Ratio (%)</th>\n",
              "    </tr>\n",
              "  </thead>\n",
              "  <tbody>\n",
              "    <tr>\n",
              "      <th>0</th>\n",
              "      <td>Andaman and Nicobar</td>\n",
              "      <td>7525</td>\n",
              "      <td>14</td>\n",
              "      <td>7382</td>\n",
              "      <td>129</td>\n",
              "      <td>0.19</td>\n",
              "      <td>98.10</td>\n",
              "      <td>1.71</td>\n",
              "    </tr>\n",
              "    <tr>\n",
              "      <th>1</th>\n",
              "      <td>Andhra Pradesh</td>\n",
              "      <td>1952513</td>\n",
              "      <td>22358</td>\n",
              "      <td>1916914</td>\n",
              "      <td>13241</td>\n",
              "      <td>1.15</td>\n",
              "      <td>98.18</td>\n",
              "      <td>0.68</td>\n",
              "    </tr>\n",
              "    <tr>\n",
              "      <th>2</th>\n",
              "      <td>Arunachal Pradesh</td>\n",
              "      <td>45703</td>\n",
              "      <td>4465</td>\n",
              "      <td>41025</td>\n",
              "      <td>213</td>\n",
              "      <td>9.77</td>\n",
              "      <td>89.76</td>\n",
              "      <td>0.47</td>\n",
              "    </tr>\n",
              "    <tr>\n",
              "      <th>3</th>\n",
              "      <td>Assam</td>\n",
              "      <td>557437</td>\n",
              "      <td>15726</td>\n",
              "      <td>536597</td>\n",
              "      <td>5114</td>\n",
              "      <td>2.82</td>\n",
              "      <td>96.26</td>\n",
              "      <td>0.92</td>\n",
              "    </tr>\n",
              "    <tr>\n",
              "      <th>4</th>\n",
              "      <td>Bihar</td>\n",
              "      <td>724390</td>\n",
              "      <td>530</td>\n",
              "      <td>714223</td>\n",
              "      <td>9637</td>\n",
              "      <td>0.07</td>\n",
              "      <td>98.60</td>\n",
              "      <td>1.33</td>\n",
              "    </tr>\n",
              "  </tbody>\n",
              "</table>\n",
              "</div>"
            ],
            "text/plain": [
              "             State/UTs  Total Cases  ...  Discharge Ratio (%)  Death Ratio (%)\n",
              "0  Andaman and Nicobar         7525  ...                98.10             1.71\n",
              "1       Andhra Pradesh      1952513  ...                98.18             0.68\n",
              "2    Arunachal Pradesh        45703  ...                89.76             0.47\n",
              "3                Assam       557437  ...                96.26             0.92\n",
              "4                Bihar       724390  ...                98.60             1.33\n",
              "\n",
              "[5 rows x 8 columns]"
            ]
          },
          "metadata": {
            "tags": []
          },
          "execution_count": 7
        }
      ]
    },
    {
      "cell_type": "code",
      "metadata": {
        "colab": {
          "base_uri": "https://localhost:8080/",
          "height": 204
        },
        "id": "LUcCcIE4L9Kq",
        "outputId": "8183a273-bb1b-4b89-c38d-05115e3807d1"
      },
      "source": [
        "df.tail()"
      ],
      "execution_count": null,
      "outputs": [
        {
          "output_type": "execute_result",
          "data": {
            "text/html": [
              "<div>\n",
              "<style scoped>\n",
              "    .dataframe tbody tr th:only-of-type {\n",
              "        vertical-align: middle;\n",
              "    }\n",
              "\n",
              "    .dataframe tbody tr th {\n",
              "        vertical-align: top;\n",
              "    }\n",
              "\n",
              "    .dataframe thead th {\n",
              "        text-align: right;\n",
              "    }\n",
              "</style>\n",
              "<table border=\"1\" class=\"dataframe\">\n",
              "  <thead>\n",
              "    <tr style=\"text-align: right;\">\n",
              "      <th></th>\n",
              "      <th>State/UTs</th>\n",
              "      <th>Total Cases</th>\n",
              "      <th>Active</th>\n",
              "      <th>Discharged</th>\n",
              "      <th>Deaths</th>\n",
              "      <th>Active Ratio (%)</th>\n",
              "      <th>Discharge Ratio (%)</th>\n",
              "      <th>Death Ratio (%)</th>\n",
              "    </tr>\n",
              "  </thead>\n",
              "  <tbody>\n",
              "    <tr>\n",
              "      <th>31</th>\n",
              "      <td>Telengana</td>\n",
              "      <td>640659</td>\n",
              "      <td>9625</td>\n",
              "      <td>627254</td>\n",
              "      <td>3780</td>\n",
              "      <td>1.50</td>\n",
              "      <td>97.91</td>\n",
              "      <td>0.59</td>\n",
              "    </tr>\n",
              "    <tr>\n",
              "      <th>32</th>\n",
              "      <td>Tripura</td>\n",
              "      <td>76315</td>\n",
              "      <td>3934</td>\n",
              "      <td>71642</td>\n",
              "      <td>739</td>\n",
              "      <td>5.15</td>\n",
              "      <td>93.88</td>\n",
              "      <td>0.97</td>\n",
              "    </tr>\n",
              "    <tr>\n",
              "      <th>33</th>\n",
              "      <td>Uttar Pradesh</td>\n",
              "      <td>1708152</td>\n",
              "      <td>932</td>\n",
              "      <td>1684471</td>\n",
              "      <td>22749</td>\n",
              "      <td>0.05</td>\n",
              "      <td>98.61</td>\n",
              "      <td>1.33</td>\n",
              "    </tr>\n",
              "    <tr>\n",
              "      <th>34</th>\n",
              "      <td>Uttarakhand</td>\n",
              "      <td>341673</td>\n",
              "      <td>611</td>\n",
              "      <td>333703</td>\n",
              "      <td>7359</td>\n",
              "      <td>0.18</td>\n",
              "      <td>97.67</td>\n",
              "      <td>2.15</td>\n",
              "    </tr>\n",
              "    <tr>\n",
              "      <th>35</th>\n",
              "      <td>West Bengal</td>\n",
              "      <td>1522833</td>\n",
              "      <td>11891</td>\n",
              "      <td>1492878</td>\n",
              "      <td>18064</td>\n",
              "      <td>0.78</td>\n",
              "      <td>98.03</td>\n",
              "      <td>1.19</td>\n",
              "    </tr>\n",
              "  </tbody>\n",
              "</table>\n",
              "</div>"
            ],
            "text/plain": [
              "        State/UTs  Total Cases  ...  Discharge Ratio (%)  Death Ratio (%)\n",
              "31      Telengana       640659  ...                97.91             0.59\n",
              "32        Tripura        76315  ...                93.88             0.97\n",
              "33  Uttar Pradesh      1708152  ...                98.61             1.33\n",
              "34    Uttarakhand       341673  ...                97.67             2.15\n",
              "35    West Bengal      1522833  ...                98.03             1.19\n",
              "\n",
              "[5 rows x 8 columns]"
            ]
          },
          "metadata": {
            "tags": []
          },
          "execution_count": 8
        }
      ]
    },
    {
      "cell_type": "code",
      "metadata": {
        "colab": {
          "base_uri": "https://localhost:8080/"
        },
        "id": "WeYBWwhjMLYE",
        "outputId": "f4122675-e787-4423-8813-280b0660bbef"
      },
      "source": [
        "# Checking for the duplicated value\n",
        "\n",
        "df.duplicated().sum()"
      ],
      "execution_count": null,
      "outputs": [
        {
          "output_type": "execute_result",
          "data": {
            "text/plain": [
              "0"
            ]
          },
          "metadata": {
            "tags": []
          },
          "execution_count": 9
        }
      ]
    },
    {
      "cell_type": "code",
      "metadata": {
        "colab": {
          "base_uri": "https://localhost:8080/"
        },
        "id": "uO4wTklsoaUZ",
        "outputId": "7797c0e2-706c-4884-bfe7-e54ac47bbf40"
      },
      "source": [
        "# Checking for any missing value\n",
        "\n",
        "df.isnull().sum()"
      ],
      "execution_count": null,
      "outputs": [
        {
          "output_type": "execute_result",
          "data": {
            "text/plain": [
              "State/UTs              0\n",
              "Total Cases            0\n",
              "Active                 0\n",
              "Discharged             0\n",
              "Deaths                 0\n",
              "Active Ratio (%)       0\n",
              "Discharge Ratio (%)    0\n",
              "Death Ratio (%)        0\n",
              "dtype: int64"
            ]
          },
          "metadata": {
            "tags": []
          },
          "execution_count": 10
        }
      ]
    },
    {
      "cell_type": "code",
      "metadata": {
        "colab": {
          "base_uri": "https://localhost:8080/",
          "height": 297
        },
        "id": "ydG3ny-3McXN",
        "outputId": "9524f9dc-bbfb-4ab2-c1de-afe5bea4e4a0"
      },
      "source": [
        "# Replacing long name by short name\n",
        "\n",
        "df = df.replace('Dadra and Nagar Haveli and Daman and Diu', 'Daman and Diu')\n",
        "df.head(8)"
      ],
      "execution_count": null,
      "outputs": [
        {
          "output_type": "execute_result",
          "data": {
            "text/html": [
              "<div>\n",
              "<style scoped>\n",
              "    .dataframe tbody tr th:only-of-type {\n",
              "        vertical-align: middle;\n",
              "    }\n",
              "\n",
              "    .dataframe tbody tr th {\n",
              "        vertical-align: top;\n",
              "    }\n",
              "\n",
              "    .dataframe thead th {\n",
              "        text-align: right;\n",
              "    }\n",
              "</style>\n",
              "<table border=\"1\" class=\"dataframe\">\n",
              "  <thead>\n",
              "    <tr style=\"text-align: right;\">\n",
              "      <th></th>\n",
              "      <th>State/UTs</th>\n",
              "      <th>Total Cases</th>\n",
              "      <th>Active</th>\n",
              "      <th>Discharged</th>\n",
              "      <th>Deaths</th>\n",
              "      <th>Active Ratio (%)</th>\n",
              "      <th>Discharge Ratio (%)</th>\n",
              "      <th>Death Ratio (%)</th>\n",
              "    </tr>\n",
              "  </thead>\n",
              "  <tbody>\n",
              "    <tr>\n",
              "      <th>0</th>\n",
              "      <td>Andaman and Nicobar</td>\n",
              "      <td>7525</td>\n",
              "      <td>14</td>\n",
              "      <td>7382</td>\n",
              "      <td>129</td>\n",
              "      <td>0.19</td>\n",
              "      <td>98.10</td>\n",
              "      <td>1.71</td>\n",
              "    </tr>\n",
              "    <tr>\n",
              "      <th>1</th>\n",
              "      <td>Andhra Pradesh</td>\n",
              "      <td>1952513</td>\n",
              "      <td>22358</td>\n",
              "      <td>1916914</td>\n",
              "      <td>13241</td>\n",
              "      <td>1.15</td>\n",
              "      <td>98.18</td>\n",
              "      <td>0.68</td>\n",
              "    </tr>\n",
              "    <tr>\n",
              "      <th>2</th>\n",
              "      <td>Arunachal Pradesh</td>\n",
              "      <td>45703</td>\n",
              "      <td>4465</td>\n",
              "      <td>41025</td>\n",
              "      <td>213</td>\n",
              "      <td>9.77</td>\n",
              "      <td>89.76</td>\n",
              "      <td>0.47</td>\n",
              "    </tr>\n",
              "    <tr>\n",
              "      <th>3</th>\n",
              "      <td>Assam</td>\n",
              "      <td>557437</td>\n",
              "      <td>15726</td>\n",
              "      <td>536597</td>\n",
              "      <td>5114</td>\n",
              "      <td>2.82</td>\n",
              "      <td>96.26</td>\n",
              "      <td>0.92</td>\n",
              "    </tr>\n",
              "    <tr>\n",
              "      <th>4</th>\n",
              "      <td>Bihar</td>\n",
              "      <td>724390</td>\n",
              "      <td>530</td>\n",
              "      <td>714223</td>\n",
              "      <td>9637</td>\n",
              "      <td>0.07</td>\n",
              "      <td>98.60</td>\n",
              "      <td>1.33</td>\n",
              "    </tr>\n",
              "    <tr>\n",
              "      <th>5</th>\n",
              "      <td>Chandigarh</td>\n",
              "      <td>61922</td>\n",
              "      <td>32</td>\n",
              "      <td>61081</td>\n",
              "      <td>809</td>\n",
              "      <td>0.05</td>\n",
              "      <td>98.64</td>\n",
              "      <td>1.31</td>\n",
              "    </tr>\n",
              "    <tr>\n",
              "      <th>6</th>\n",
              "      <td>Chhattisgarh</td>\n",
              "      <td>1001037</td>\n",
              "      <td>2789</td>\n",
              "      <td>984737</td>\n",
              "      <td>13511</td>\n",
              "      <td>0.28</td>\n",
              "      <td>98.37</td>\n",
              "      <td>1.35</td>\n",
              "    </tr>\n",
              "    <tr>\n",
              "      <th>7</th>\n",
              "      <td>Daman and Diu</td>\n",
              "      <td>10637</td>\n",
              "      <td>48</td>\n",
              "      <td>10585</td>\n",
              "      <td>4</td>\n",
              "      <td>0.45</td>\n",
              "      <td>99.51</td>\n",
              "      <td>0.04</td>\n",
              "    </tr>\n",
              "  </tbody>\n",
              "</table>\n",
              "</div>"
            ],
            "text/plain": [
              "             State/UTs  Total Cases  ...  Discharge Ratio (%)  Death Ratio (%)\n",
              "0  Andaman and Nicobar         7525  ...                98.10             1.71\n",
              "1       Andhra Pradesh      1952513  ...                98.18             0.68\n",
              "2    Arunachal Pradesh        45703  ...                89.76             0.47\n",
              "3                Assam       557437  ...                96.26             0.92\n",
              "4                Bihar       724390  ...                98.60             1.33\n",
              "5           Chandigarh        61922  ...                98.64             1.31\n",
              "6         Chhattisgarh      1001037  ...                98.37             1.35\n",
              "7        Daman and Diu        10637  ...                99.51             0.04\n",
              "\n",
              "[8 rows x 8 columns]"
            ]
          },
          "metadata": {
            "tags": []
          },
          "execution_count": 11
        }
      ]
    },
    {
      "cell_type": "code",
      "metadata": {
        "colab": {
          "base_uri": "https://localhost:8080/"
        },
        "id": "RfZJHxjxMlBD",
        "outputId": "32ee1e9c-b84d-4b4d-a867-07b8880feda5"
      },
      "source": [
        "# Information about dataset\n",
        "\n",
        "df.info()"
      ],
      "execution_count": null,
      "outputs": [
        {
          "output_type": "stream",
          "text": [
            "<class 'pandas.core.frame.DataFrame'>\n",
            "RangeIndex: 36 entries, 0 to 35\n",
            "Data columns (total 8 columns):\n",
            " #   Column               Non-Null Count  Dtype  \n",
            "---  ------               --------------  -----  \n",
            " 0   State/UTs            36 non-null     object \n",
            " 1   Total Cases          36 non-null     int64  \n",
            " 2   Active               36 non-null     int64  \n",
            " 3   Discharged           36 non-null     int64  \n",
            " 4   Deaths               36 non-null     int64  \n",
            " 5   Active Ratio (%)     36 non-null     float64\n",
            " 6   Discharge Ratio (%)  36 non-null     float64\n",
            " 7   Death Ratio (%)      36 non-null     float64\n",
            "dtypes: float64(3), int64(4), object(1)\n",
            "memory usage: 2.4+ KB\n"
          ],
          "name": "stdout"
        }
      ]
    },
    {
      "cell_type": "code",
      "metadata": {
        "colab": {
          "base_uri": "https://localhost:8080/",
          "height": 297
        },
        "id": "HE5MBy9bMpvW",
        "outputId": "7103d3b1-9446-4dc3-f7eb-a2a0b196cce5"
      },
      "source": [
        "# Statistical measurement of the dataset\n",
        "\n",
        "df.describe()"
      ],
      "execution_count": null,
      "outputs": [
        {
          "output_type": "execute_result",
          "data": {
            "text/html": [
              "<div>\n",
              "<style scoped>\n",
              "    .dataframe tbody tr th:only-of-type {\n",
              "        vertical-align: middle;\n",
              "    }\n",
              "\n",
              "    .dataframe tbody tr th {\n",
              "        vertical-align: top;\n",
              "    }\n",
              "\n",
              "    .dataframe thead th {\n",
              "        text-align: right;\n",
              "    }\n",
              "</style>\n",
              "<table border=\"1\" class=\"dataframe\">\n",
              "  <thead>\n",
              "    <tr style=\"text-align: right;\">\n",
              "      <th></th>\n",
              "      <th>Total Cases</th>\n",
              "      <th>Active</th>\n",
              "      <th>Discharged</th>\n",
              "      <th>Deaths</th>\n",
              "      <th>Active Ratio (%)</th>\n",
              "      <th>Discharge Ratio (%)</th>\n",
              "      <th>Death Ratio (%)</th>\n",
              "    </tr>\n",
              "  </thead>\n",
              "  <tbody>\n",
              "    <tr>\n",
              "      <th>count</th>\n",
              "      <td>3.600000e+01</td>\n",
              "      <td>3.600000e+01</td>\n",
              "      <td>3.600000e+01</td>\n",
              "      <td>36.000000</td>\n",
              "      <td>36.000000</td>\n",
              "      <td>36.000000</td>\n",
              "      <td>36.000000</td>\n",
              "    </tr>\n",
              "    <tr>\n",
              "      <th>mean</th>\n",
              "      <td>8.714417e+05</td>\n",
              "      <td>4.599578e+04</td>\n",
              "      <td>8.484205e+05</td>\n",
              "      <td>11681.972222</td>\n",
              "      <td>2.665833</td>\n",
              "      <td>96.074722</td>\n",
              "      <td>1.260000</td>\n",
              "    </tr>\n",
              "    <tr>\n",
              "      <th>std</th>\n",
              "      <td>1.255645e+06</td>\n",
              "      <td>2.303794e+05</td>\n",
              "      <td>1.213779e+06</td>\n",
              "      <td>22587.031797</td>\n",
              "      <td>4.985038</td>\n",
              "      <td>4.877221</td>\n",
              "      <td>0.565241</td>\n",
              "    </tr>\n",
              "    <tr>\n",
              "      <th>min</th>\n",
              "      <td>7.525000e+03</td>\n",
              "      <td>1.400000e+01</td>\n",
              "      <td>7.382000e+03</td>\n",
              "      <td>4.000000</td>\n",
              "      <td>0.020000</td>\n",
              "      <td>74.610000</td>\n",
              "      <td>0.040000</td>\n",
              "    </tr>\n",
              "    <tr>\n",
              "      <th>25%</th>\n",
              "      <td>6.159075e+04</td>\n",
              "      <td>4.830000e+02</td>\n",
              "      <td>5.952950e+04</td>\n",
              "      <td>791.500000</td>\n",
              "      <td>0.122500</td>\n",
              "      <td>96.327500</td>\n",
              "      <td>0.935000</td>\n",
              "    </tr>\n",
              "    <tr>\n",
              "      <th>50%</th>\n",
              "      <td>4.521775e+05</td>\n",
              "      <td>1.275000e+03</td>\n",
              "      <td>4.390575e+05</td>\n",
              "      <td>5119.000000</td>\n",
              "      <td>0.750000</td>\n",
              "      <td>97.915000</td>\n",
              "      <td>1.330000</td>\n",
              "    </tr>\n",
              "    <tr>\n",
              "      <th>75%</th>\n",
              "      <td>9.745455e+05</td>\n",
              "      <td>9.781500e+03</td>\n",
              "      <td>9.543658e+05</td>\n",
              "      <td>13308.500000</td>\n",
              "      <td>2.040000</td>\n",
              "      <td>98.602500</td>\n",
              "      <td>1.617500</td>\n",
              "    </tr>\n",
              "    <tr>\n",
              "      <th>max</th>\n",
              "      <td>6.258079e+06</td>\n",
              "      <td>1.386262e+06</td>\n",
              "      <td>6.029817e+06</td>\n",
              "      <td>131429.000000</td>\n",
              "      <td>24.950000</td>\n",
              "      <td>99.510000</td>\n",
              "      <td>2.720000</td>\n",
              "    </tr>\n",
              "  </tbody>\n",
              "</table>\n",
              "</div>"
            ],
            "text/plain": [
              "        Total Cases        Active  ...  Discharge Ratio (%)  Death Ratio (%)\n",
              "count  3.600000e+01  3.600000e+01  ...            36.000000        36.000000\n",
              "mean   8.714417e+05  4.599578e+04  ...            96.074722         1.260000\n",
              "std    1.255645e+06  2.303794e+05  ...             4.877221         0.565241\n",
              "min    7.525000e+03  1.400000e+01  ...            74.610000         0.040000\n",
              "25%    6.159075e+04  4.830000e+02  ...            96.327500         0.935000\n",
              "50%    4.521775e+05  1.275000e+03  ...            97.915000         1.330000\n",
              "75%    9.745455e+05  9.781500e+03  ...            98.602500         1.617500\n",
              "max    6.258079e+06  1.386262e+06  ...            99.510000         2.720000\n",
              "\n",
              "[8 rows x 7 columns]"
            ]
          },
          "metadata": {
            "tags": []
          },
          "execution_count": 13
        }
      ]
    },
    {
      "cell_type": "code",
      "metadata": {
        "colab": {
          "base_uri": "https://localhost:8080/",
          "height": 266
        },
        "id": "8_daaaUbpwgi",
        "outputId": "b248ac67-99a8-4955-8ac5-e0979fe3f3a7"
      },
      "source": [
        "#correlations within variables\n",
        "df.corr()"
      ],
      "execution_count": null,
      "outputs": [
        {
          "output_type": "execute_result",
          "data": {
            "text/html": [
              "<div>\n",
              "<style scoped>\n",
              "    .dataframe tbody tr th:only-of-type {\n",
              "        vertical-align: middle;\n",
              "    }\n",
              "\n",
              "    .dataframe tbody tr th {\n",
              "        vertical-align: top;\n",
              "    }\n",
              "\n",
              "    .dataframe thead th {\n",
              "        text-align: right;\n",
              "    }\n",
              "</style>\n",
              "<table border=\"1\" class=\"dataframe\">\n",
              "  <thead>\n",
              "    <tr style=\"text-align: right;\">\n",
              "      <th></th>\n",
              "      <th>Total Cases</th>\n",
              "      <th>Active</th>\n",
              "      <th>Discharged</th>\n",
              "      <th>Deaths</th>\n",
              "      <th>Active Ratio (%)</th>\n",
              "      <th>Discharge Ratio (%)</th>\n",
              "      <th>Death Ratio (%)</th>\n",
              "    </tr>\n",
              "  </thead>\n",
              "  <tbody>\n",
              "    <tr>\n",
              "      <th>Total Cases</th>\n",
              "      <td>1.000000</td>\n",
              "      <td>0.386029</td>\n",
              "      <td>0.999919</td>\n",
              "      <td>0.915217</td>\n",
              "      <td>-0.195362</td>\n",
              "      <td>0.187941</td>\n",
              "      <td>0.101944</td>\n",
              "    </tr>\n",
              "    <tr>\n",
              "      <th>Active</th>\n",
              "      <td>0.386029</td>\n",
              "      <td>1.000000</td>\n",
              "      <td>0.378549</td>\n",
              "      <td>0.099266</td>\n",
              "      <td>0.056235</td>\n",
              "      <td>-0.031479</td>\n",
              "      <td>-0.224457</td>\n",
              "    </tr>\n",
              "    <tr>\n",
              "      <th>Discharged</th>\n",
              "      <td>0.999919</td>\n",
              "      <td>0.378549</td>\n",
              "      <td>1.000000</td>\n",
              "      <td>0.914909</td>\n",
              "      <td>-0.200224</td>\n",
              "      <td>0.192844</td>\n",
              "      <td>0.102526</td>\n",
              "    </tr>\n",
              "    <tr>\n",
              "      <th>Deaths</th>\n",
              "      <td>0.915217</td>\n",
              "      <td>0.099266</td>\n",
              "      <td>0.914909</td>\n",
              "      <td>1.000000</td>\n",
              "      <td>-0.169711</td>\n",
              "      <td>0.139060</td>\n",
              "      <td>0.297156</td>\n",
              "    </tr>\n",
              "    <tr>\n",
              "      <th>Active Ratio (%)</th>\n",
              "      <td>-0.195362</td>\n",
              "      <td>0.056235</td>\n",
              "      <td>-0.200224</td>\n",
              "      <td>-0.169711</td>\n",
              "      <td>1.000000</td>\n",
              "      <td>-0.993689</td>\n",
              "      <td>-0.247546</td>\n",
              "    </tr>\n",
              "    <tr>\n",
              "      <th>Discharge Ratio (%)</th>\n",
              "      <td>0.187941</td>\n",
              "      <td>-0.031479</td>\n",
              "      <td>0.192844</td>\n",
              "      <td>0.139060</td>\n",
              "      <td>-0.993689</td>\n",
              "      <td>1.000000</td>\n",
              "      <td>0.137311</td>\n",
              "    </tr>\n",
              "    <tr>\n",
              "      <th>Death Ratio (%)</th>\n",
              "      <td>0.101944</td>\n",
              "      <td>-0.224457</td>\n",
              "      <td>0.102526</td>\n",
              "      <td>0.297156</td>\n",
              "      <td>-0.247546</td>\n",
              "      <td>0.137311</td>\n",
              "      <td>1.000000</td>\n",
              "    </tr>\n",
              "  </tbody>\n",
              "</table>\n",
              "</div>"
            ],
            "text/plain": [
              "                     Total Cases  ...  Death Ratio (%)\n",
              "Total Cases             1.000000  ...         0.101944\n",
              "Active                  0.386029  ...        -0.224457\n",
              "Discharged              0.999919  ...         0.102526\n",
              "Deaths                  0.915217  ...         0.297156\n",
              "Active Ratio (%)       -0.195362  ...        -0.247546\n",
              "Discharge Ratio (%)     0.187941  ...         0.137311\n",
              "Death Ratio (%)         0.101944  ...         1.000000\n",
              "\n",
              "[7 rows x 7 columns]"
            ]
          },
          "metadata": {
            "tags": []
          },
          "execution_count": 14
        }
      ]
    },
    {
      "cell_type": "code",
      "metadata": {
        "colab": {
          "base_uri": "https://localhost:8080/",
          "height": 376
        },
        "id": "_ntkLLhFM3u1",
        "outputId": "1c743821-f60b-451e-80e5-add7e7674246"
      },
      "source": [
        "# Visualization of correlations between data\n",
        "\n",
        "sns.heatmap(df.corr(), annot=True)"
      ],
      "execution_count": null,
      "outputs": [
        {
          "output_type": "execute_result",
          "data": {
            "text/plain": [
              "<matplotlib.axes._subplots.AxesSubplot at 0x7f78c4a54490>"
            ]
          },
          "metadata": {
            "tags": []
          },
          "execution_count": 15
        },
        {
          "output_type": "display_data",
          "data": {
            "image/png": "[encoded data removed]",
            "text/plain": [
              "<Figure size 432x288 with 2 Axes>"
            ]
          },
          "metadata": {
            "tags": [],
            "needs_background": "light"
          }
        }
      ]
    },
    {
      "cell_type": "code",
      "metadata": {
        "colab": {
          "base_uri": "https://localhost:8080/",
          "height": 623
        },
        "id": "2jFRk0pNNM_8",
        "outputId": "f7858a34-b3cc-414f-a85a-60e392bbc82a"
      },
      "source": [
        "# Barplot using seaborn\n",
        "\n",
        "plt.figure(figsize=(8, 10))\n",
        "sns.barplot(data = df, y=\"State/UTs\", x=\"Total Cases\")"
      ],
      "execution_count": null,
      "outputs": [
        {
          "output_type": "execute_result",
          "data": {
            "text/plain": [
              "<matplotlib.axes._subplots.AxesSubplot at 0x7f78bc0ef890>"
            ]
          },
          "metadata": {
            "tags": []
          },
          "execution_count": 16
        },
        {
          "output_type": "display_data",
          "data": {
            "image/png": "[encoded data removed]",
            "text/plain": [
              "<Figure size 576x720 with 1 Axes>"
            ]
          },
          "metadata": {
            "tags": [],
            "needs_background": "light"
          }
        }
      ]
    },
    {
      "cell_type": "markdown",
      "metadata": {
        "id": "CNE8KfkdNvhg"
      },
      "source": [
        "In above plot we can see that Maharastra have maximum number of covid cases."
      ]
    },
    {
      "cell_type": "code",
      "metadata": {
        "colab": {
          "base_uri": "https://localhost:8080/",
          "height": 542
        },
        "id": "XJX140BBNwpI",
        "outputId": "81489e35-ba97-4235-9707-b83ce49ba486"
      },
      "source": [
        "#relating the variables with Scatterplots\n",
        "px.scatter(df, x='Active Ratio (%)',y='Death Ratio (%)', color=df['State/UTs'])"
      ],
      "execution_count": null,
      "outputs": [
        {
          "output_type": "display_data",
          "data": {
            "text/html": [
              "<html>\n",
              "<head><meta charset=\"utf-8\" /></head>\n",
              "<body>\n",
              "    <div>\n",
              "            <script src=\"https://cdnjs.cloudflare.com/ajax/libs/mathjax/2.7.5/MathJax.js?config=TeX-AMS-MML_SVG\"></script><script type=\"text/javascript\">if (window.MathJax) {MathJax.Hub.Config({SVG: {font: \"STIX-Web\"}});}</script>\n",
              "                <script type=\"text/javascript\">window.PlotlyConfig = {MathJaxConfig: 'local'};</script>\n",
              "        <script src=\"https://cdn.plot.ly/plotly-latest.min.js\"></script>    \n",
              "            <div id=\"c419ac84-ff47-47f1-9f78-f39825c62f71\" class=\"plotly-graph-div\" style=\"height:525px; width:100%;\"></div>\n",
              "            <script type=\"text/javascript\">\n",
              "                \n",
              "                    window.PLOTLYENV=window.PLOTLYENV || {};\n",
              "                    \n",
              "                if (document.getElementById(\"c419ac84-ff47-47f1-9f78-f39825c62f71\")) {\n",
              "                    Plotly.newPlot(\n",
              "                        'c419ac84-ff47-47f1-9f78-f39825c62f71',\n",
              "                        [{\"hoverlabel\": {\"namelength\": 0}, \"hovertemplate\": \"State/UTs=Andaman and Nicobar<br>Active Ratio (%)=%{x}<br>Death Ratio (%)=%{y}\", \"legendgroup\": \"State/UTs=Andaman and Nicobar\", \"marker\": {\"color\": \"#636efa\", \"symbol\": \"circle\"}, \"mode\": \"markers\", \"name\": \"State/UTs=Andaman and Nicobar\", \"showlegend\": true, \"type\": \"scatter\", \"x\": [0.19], \"xaxis\": \"x\", \"y\": [1.71], \"yaxis\": \"y\"}, {\"hoverlabel\": {\"namelength\": 0}, \"hovertemplate\": \"State/UTs=Andhra Pradesh<br>Active Ratio (%)=%{x}<br>Death Ratio (%)=%{y}\", \"legendgroup\": \"State/UTs=Andhra Pradesh\", \"marker\": {\"color\": \"#EF553B\", \"symbol\": \"circle\"}, \"mode\": \"markers\", \"name\": \"State/UTs=Andhra Pradesh\", \"showlegend\": true, \"type\": \"scatter\", \"x\": [1.15], \"xaxis\": \"x\", \"y\": [0.68], \"yaxis\": \"y\"}, {\"hoverlabel\": {\"namelength\": 0}, \"hovertemplate\": \"State/UTs=Arunachal Pradesh<br>Active Ratio (%)=%{x}<br>Death Ratio (%)=%{y}\", \"legendgroup\": \"State/UTs=Arunachal Pradesh\", \"marker\": {\"color\": \"#00cc96\", \"symbol\": \"circle\"}, \"mode\": \"markers\", \"name\": \"State/UTs=Arunachal Pradesh\", \"showlegend\": true, \"type\": \"scatter\", \"x\": [9.77], \"xaxis\": \"x\", \"y\": [0.47], \"yaxis\": \"y\"}, {\"hoverlabel\": {\"namelength\": 0}, \"hovertemplate\": \"State/UTs=Assam<br>Active Ratio (%)=%{x}<br>Death Ratio (%)=%{y}\", \"legendgroup\": \"State/UTs=Assam\", \"marker\": {\"color\": \"#ab63fa\", \"symbol\": \"circle\"}, \"mode\": \"markers\", \"name\": \"State/UTs=Assam\", \"showlegend\": true, \"type\": \"scatter\", \"x\": [2.82], \"xaxis\": \"x\", \"y\": [0.92], \"yaxis\": \"y\"}, {\"hoverlabel\": {\"namelength\": 0}, \"hovertemplate\": \"State/UTs=Bihar<br>Active Ratio (%)=%{x}<br>Death Ratio (%)=%{y}\", \"legendgroup\": \"State/UTs=Bihar\", \"marker\": {\"color\": \"#FFA15A\", \"symbol\": \"circle\"}, \"mode\": \"markers\", \"name\": \"State/UTs=Bihar\", \"showlegend\": true, \"type\": \"scatter\", \"x\": [0.07], \"xaxis\": \"x\", \"y\": [1.33], \"yaxis\": \"y\"}, {\"hoverlabel\": {\"namelength\": 0}, \"hovertemplate\": \"State/UTs=Chandigarh<br>Active Ratio (%)=%{x}<br>Death Ratio (%)=%{y}\", \"legendgroup\": \"State/UTs=Chandigarh\", \"marker\": {\"color\": \"#19d3f3\", \"symbol\": \"circle\"}, \"mode\": \"markers\", \"name\": \"State/UTs=Chandigarh\", \"showlegend\": true, \"type\": \"scatter\", \"x\": [0.05], \"xaxis\": \"x\", \"y\": [1.31], \"yaxis\": \"y\"}, {\"hoverlabel\": {\"namelength\": 0}, \"hovertemplate\": \"State/UTs=Chhattisgarh<br>Active Ratio (%)=%{x}<br>Death Ratio (%)=%{y}\", \"legendgroup\": \"State/UTs=Chhattisgarh\", \"marker\": {\"color\": \"#FF6692\", \"symbol\": \"circle\"}, \"mode\": \"markers\", \"name\": \"State/UTs=Chhattisgarh\", \"showlegend\": true, \"type\": \"scatter\", \"x\": [0.28], \"xaxis\": \"x\", \"y\": [1.35], \"yaxis\": \"y\"}, {\"hoverlabel\": {\"namelength\": 0}, \"hovertemplate\": \"State/UTs=Daman and Diu<br>Active Ratio (%)=%{x}<br>Death Ratio (%)=%{y}\", \"legendgroup\": \"State/UTs=Daman and Diu\", \"marker\": {\"color\": \"#B6E880\", \"symbol\": \"circle\"}, \"mode\": \"markers\", \"name\": \"State/UTs=Daman and Diu\", \"showlegend\": true, \"type\": \"scatter\", \"x\": [0.45], \"xaxis\": \"x\", \"y\": [0.04], \"yaxis\": \"y\"}, {\"hoverlabel\": {\"namelength\": 0}, \"hovertemplate\": \"State/UTs=Delhi<br>Active Ratio (%)=%{x}<br>Death Ratio (%)=%{y}\", \"legendgroup\": \"State/UTs=Delhi\", \"marker\": {\"color\": \"#FF97FF\", \"symbol\": \"circle\"}, \"mode\": \"markers\", \"name\": \"State/UTs=Delhi\", \"showlegend\": true, \"type\": \"scatter\", \"x\": [0.04], \"xaxis\": \"x\", \"y\": [1.74], \"yaxis\": \"y\"}, {\"hoverlabel\": {\"namelength\": 0}, \"hovertemplate\": \"State/UTs=Goa<br>Active Ratio (%)=%{x}<br>Death Ratio (%)=%{y}\", \"legendgroup\": \"State/UTs=Goa\", \"marker\": {\"color\": \"#FECB52\", \"symbol\": \"circle\"}, \"mode\": \"markers\", \"name\": \"State/UTs=Goa\", \"showlegend\": true, \"type\": \"scatter\", \"x\": [0.73], \"xaxis\": \"x\", \"y\": [1.83], \"yaxis\": \"y\"}, {\"hoverlabel\": {\"namelength\": 0}, \"hovertemplate\": \"State/UTs=Gujarat<br>Active Ratio (%)=%{x}<br>Death Ratio (%)=%{y}\", \"legendgroup\": \"State/UTs=Gujarat\", \"marker\": {\"color\": \"#636efa\", \"symbol\": \"circle\"}, \"mode\": \"markers\", \"name\": \"State/UTs=Gujarat\", \"showlegend\": true, \"type\": \"scatter\", \"x\": [0.04], \"xaxis\": \"x\", \"y\": [1.22], \"yaxis\": \"y\"}, {\"hoverlabel\": {\"namelength\": 0}, \"hovertemplate\": \"State/UTs=Haryana<br>Active Ratio (%)=%{x}<br>Death Ratio (%)=%{y}\", \"legendgroup\": \"State/UTs=Haryana\", \"marker\": {\"color\": \"#EF553B\", \"symbol\": \"circle\"}, \"mode\": \"markers\", \"name\": \"State/UTs=Haryana\", \"showlegend\": true, \"type\": \"scatter\", \"x\": [0.1], \"xaxis\": \"x\", \"y\": [1.25], \"yaxis\": \"y\"}, {\"hoverlabel\": {\"namelength\": 0}, \"hovertemplate\": \"State/UTs=Himachal Pradesh<br>Active Ratio (%)=%{x}<br>Death Ratio (%)=%{y}\", \"legendgroup\": \"State/UTs=Himachal Pradesh\", \"marker\": {\"color\": \"#00cc96\", \"symbol\": \"circle\"}, \"mode\": \"markers\", \"name\": \"State/UTs=Himachal Pradesh\", \"showlegend\": true, \"type\": \"scatter\", \"x\": [0.45], \"xaxis\": \"x\", \"y\": [1.71], \"yaxis\": \"y\"}, {\"hoverlabel\": {\"namelength\": 0}, \"hovertemplate\": \"State/UTs=Jammu and Kashmir<br>Active Ratio (%)=%{x}<br>Death Ratio (%)=%{y}\", \"legendgroup\": \"State/UTs=Jammu and Kashmir\", \"marker\": {\"color\": \"#ab63fa\", \"symbol\": \"circle\"}, \"mode\": \"markers\", \"name\": \"State/UTs=Jammu and Kashmir\", \"showlegend\": true, \"type\": \"scatter\", \"x\": [0.41], \"xaxis\": \"x\", \"y\": [1.36], \"yaxis\": \"y\"}, {\"hoverlabel\": {\"namelength\": 0}, \"hovertemplate\": \"State/UTs=Jharkhand<br>Active Ratio (%)=%{x}<br>Death Ratio (%)=%{y}\", \"legendgroup\": \"State/UTs=Jharkhand\", \"marker\": {\"color\": \"#FFA15A\", \"symbol\": \"circle\"}, \"mode\": \"markers\", \"name\": \"State/UTs=Jharkhand\", \"showlegend\": true, \"type\": \"scatter\", \"x\": [0.08], \"xaxis\": \"x\", \"y\": [1.48], \"yaxis\": \"y\"}, {\"hoverlabel\": {\"namelength\": 0}, \"hovertemplate\": \"State/UTs=Karnataka<br>Active Ratio (%)=%{x}<br>Death Ratio (%)=%{y}\", \"legendgroup\": \"State/UTs=Karnataka\", \"marker\": {\"color\": \"#19d3f3\", \"symbol\": \"circle\"}, \"mode\": \"markers\", \"name\": \"State/UTs=Karnataka\", \"showlegend\": true, \"type\": \"scatter\", \"x\": [0.83], \"xaxis\": \"x\", \"y\": [1.26], \"yaxis\": \"y\"}, {\"hoverlabel\": {\"namelength\": 0}, \"hovertemplate\": \"State/UTs=Kerala<br>Active Ratio (%)=%{x}<br>Death Ratio (%)=%{y}\", \"legendgroup\": \"State/UTs=Kerala\", \"marker\": {\"color\": \"#FF6692\", \"symbol\": \"circle\"}, \"mode\": \"markers\", \"name\": \"State/UTs=Kerala\", \"showlegend\": true, \"type\": \"scatter\", \"x\": [4.26], \"xaxis\": \"x\", \"y\": [0.49], \"yaxis\": \"y\"}, {\"hoverlabel\": {\"namelength\": 0}, \"hovertemplate\": \"State/UTs=Ladakh<br>Active Ratio (%)=%{x}<br>Death Ratio (%)=%{y}\", \"legendgroup\": \"State/UTs=Ladakh\", \"marker\": {\"color\": \"#B6E880\", \"symbol\": \"circle\"}, \"mode\": \"markers\", \"name\": \"State/UTs=Ladakh\", \"showlegend\": true, \"type\": \"scatter\", \"x\": [0.34], \"xaxis\": \"x\", \"y\": [1.02], \"yaxis\": \"y\"}, {\"hoverlabel\": {\"namelength\": 0}, \"hovertemplate\": \"State/UTs=Lakshadweep<br>Active Ratio (%)=%{x}<br>Death Ratio (%)=%{y}\", \"legendgroup\": \"State/UTs=Lakshadweep\", \"marker\": {\"color\": \"#FF97FF\", \"symbol\": \"circle\"}, \"mode\": \"markers\", \"name\": \"State/UTs=Lakshadweep\", \"showlegend\": true, \"type\": \"scatter\", \"x\": [0.8], \"xaxis\": \"x\", \"y\": [0.48], \"yaxis\": \"y\"}, {\"hoverlabel\": {\"namelength\": 0}, \"hovertemplate\": \"State/UTs=Madhya Pradesh<br>Active Ratio (%)=%{x}<br>Death Ratio (%)=%{y}\", \"legendgroup\": \"State/UTs=Madhya Pradesh\", \"marker\": {\"color\": \"#FECB52\", \"symbol\": \"circle\"}, \"mode\": \"markers\", \"name\": \"State/UTs=Madhya Pradesh\", \"showlegend\": true, \"type\": \"scatter\", \"x\": [0.02], \"xaxis\": \"x\", \"y\": [1.33], \"yaxis\": \"y\"}, {\"hoverlabel\": {\"namelength\": 0}, \"hovertemplate\": \"State/UTs=Maharashtra<br>Active Ratio (%)=%{x}<br>Death Ratio (%)=%{y}\", \"legendgroup\": \"State/UTs=Maharashtra\", \"marker\": {\"color\": \"#636efa\", \"symbol\": \"circle\"}, \"mode\": \"markers\", \"name\": \"State/UTs=Maharashtra\", \"showlegend\": true, \"type\": \"scatter\", \"x\": [1.55], \"xaxis\": \"x\", \"y\": [2.1], \"yaxis\": \"y\"}, {\"hoverlabel\": {\"namelength\": 0}, \"hovertemplate\": \"State/UTs=Manipur<br>Active Ratio (%)=%{x}<br>Death Ratio (%)=%{y}\", \"legendgroup\": \"State/UTs=Manipur\", \"marker\": {\"color\": \"#EF553B\", \"symbol\": \"circle\"}, \"mode\": \"markers\", \"name\": \"State/UTs=Manipur\", \"showlegend\": true, \"type\": \"scatter\", \"x\": [11.21], \"xaxis\": \"x\", \"y\": [1.6], \"yaxis\": \"y\"}, {\"hoverlabel\": {\"namelength\": 0}, \"hovertemplate\": \"State/UTs=Meghalaya<br>Active Ratio (%)=%{x}<br>Death Ratio (%)=%{y}\", \"legendgroup\": \"State/UTs=Meghalaya\", \"marker\": {\"color\": \"#00cc96\", \"symbol\": \"circle\"}, \"mode\": \"markers\", \"name\": \"State/UTs=Meghalaya\", \"showlegend\": true, \"type\": \"scatter\", \"x\": [7.77], \"xaxis\": \"x\", \"y\": [1.67], \"yaxis\": \"y\"}, {\"hoverlabel\": {\"namelength\": 0}, \"hovertemplate\": \"State/UTs=Mizoram<br>Active Ratio (%)=%{x}<br>Death Ratio (%)=%{y}\", \"legendgroup\": \"State/UTs=Mizoram\", \"marker\": {\"color\": \"#ab63fa\", \"symbol\": \"circle\"}, \"mode\": \"markers\", \"name\": \"State/UTs=Mizoram\", \"showlegend\": true, \"type\": \"scatter\", \"x\": [24.95], \"xaxis\": \"x\", \"y\": [0.43], \"yaxis\": \"y\"}, {\"hoverlabel\": {\"namelength\": 0}, \"hovertemplate\": \"State/UTs=Nagaland<br>Active Ratio (%)=%{x}<br>Death Ratio (%)=%{y}\", \"legendgroup\": \"State/UTs=Nagaland\", \"marker\": {\"color\": \"#FFA15A\", \"symbol\": \"circle\"}, \"mode\": \"markers\", \"name\": \"State/UTs=Nagaland\", \"showlegend\": true, \"type\": \"scatter\", \"x\": [4.82], \"xaxis\": \"x\", \"y\": [1.98], \"yaxis\": \"y\"}, {\"hoverlabel\": {\"namelength\": 0}, \"hovertemplate\": \"State/UTs=Odisha<br>Active Ratio (%)=%{x}<br>Death Ratio (%)=%{y}\", \"legendgroup\": \"State/UTs=Odisha\", \"marker\": {\"color\": \"#19d3f3\", \"symbol\": \"circle\"}, \"mode\": \"markers\", \"name\": \"State/UTs=Odisha\", \"showlegend\": true, \"type\": \"scatter\", \"x\": [1.78], \"xaxis\": \"x\", \"y\": [0.56], \"yaxis\": \"y\"}, {\"hoverlabel\": {\"namelength\": 0}, \"hovertemplate\": \"State/UTs=Puducherry<br>Active Ratio (%)=%{x}<br>Death Ratio (%)=%{y}\", \"legendgroup\": \"State/UTs=Puducherry\", \"marker\": {\"color\": \"#FF6692\", \"symbol\": \"circle\"}, \"mode\": \"markers\", \"name\": \"State/UTs=Puducherry\", \"showlegend\": true, \"type\": \"scatter\", \"x\": [0.77], \"xaxis\": \"x\", \"y\": [1.49], \"yaxis\": \"y\"}, {\"hoverlabel\": {\"namelength\": 0}, \"hovertemplate\": \"State/UTs=Punjab<br>Active Ratio (%)=%{x}<br>Death Ratio (%)=%{y}\", \"legendgroup\": \"State/UTs=Punjab\", \"marker\": {\"color\": \"#B6E880\", \"symbol\": \"circle\"}, \"mode\": \"markers\", \"name\": \"State/UTs=Punjab\", \"showlegend\": true, \"type\": \"scatter\", \"x\": [0.13], \"xaxis\": \"x\", \"y\": [2.72], \"yaxis\": \"y\"}, {\"hoverlabel\": {\"namelength\": 0}, \"hovertemplate\": \"State/UTs=Rajasthan<br>Active Ratio (%)=%{x}<br>Death Ratio (%)=%{y}\", \"legendgroup\": \"State/UTs=Rajasthan\", \"marker\": {\"color\": \"#FF97FF\", \"symbol\": \"circle\"}, \"mode\": \"markers\", \"name\": \"State/UTs=Rajasthan\", \"showlegend\": true, \"type\": \"scatter\", \"x\": [0.03], \"xaxis\": \"x\", \"y\": [0.94], \"yaxis\": \"y\"}, {\"hoverlabel\": {\"namelength\": 0}, \"hovertemplate\": \"State/UTs=Sikkim<br>Active Ratio (%)=%{x}<br>Death Ratio (%)=%{y}\", \"legendgroup\": \"State/UTs=Sikkim\", \"marker\": {\"color\": \"#FECB52\", \"symbol\": \"circle\"}, \"mode\": \"markers\", \"name\": \"State/UTs=Sikkim\", \"showlegend\": true, \"type\": \"scatter\", \"x\": [11.48], \"xaxis\": \"x\", \"y\": [1.33], \"yaxis\": \"y\"}, {\"hoverlabel\": {\"namelength\": 0}, \"hovertemplate\": \"State/UTs=Tamil Nadu<br>Active Ratio (%)=%{x}<br>Death Ratio (%)=%{y}\", \"legendgroup\": \"State/UTs=Tamil Nadu\", \"marker\": {\"color\": \"#636efa\", \"symbol\": \"circle\"}, \"mode\": \"markers\", \"name\": \"State/UTs=Tamil Nadu\", \"showlegend\": true, \"type\": \"scatter\", \"x\": [0.94], \"xaxis\": \"x\", \"y\": [1.33], \"yaxis\": \"y\"}, {\"hoverlabel\": {\"namelength\": 0}, \"hovertemplate\": \"State/UTs=Telengana<br>Active Ratio (%)=%{x}<br>Death Ratio (%)=%{y}\", \"legendgroup\": \"State/UTs=Telengana\", \"marker\": {\"color\": \"#EF553B\", \"symbol\": \"circle\"}, \"mode\": \"markers\", \"name\": \"State/UTs=Telengana\", \"showlegend\": true, \"type\": \"scatter\", \"x\": [1.5], \"xaxis\": \"x\", \"y\": [0.59], \"yaxis\": \"y\"}, {\"hoverlabel\": {\"namelength\": 0}, \"hovertemplate\": \"State/UTs=Tripura<br>Active Ratio (%)=%{x}<br>Death Ratio (%)=%{y}\", \"legendgroup\": \"State/UTs=Tripura\", \"marker\": {\"color\": \"#00cc96\", \"symbol\": \"circle\"}, \"mode\": \"markers\", \"name\": \"State/UTs=Tripura\", \"showlegend\": true, \"type\": \"scatter\", \"x\": [5.15], \"xaxis\": \"x\", \"y\": [0.97], \"yaxis\": \"y\"}, {\"hoverlabel\": {\"namelength\": 0}, \"hovertemplate\": \"State/UTs=Uttar Pradesh<br>Active Ratio (%)=%{x}<br>Death Ratio (%)=%{y}\", \"legendgroup\": \"State/UTs=Uttar Pradesh\", \"marker\": {\"color\": \"#ab63fa\", \"symbol\": \"circle\"}, \"mode\": \"markers\", \"name\": \"State/UTs=Uttar Pradesh\", \"showlegend\": true, \"type\": \"scatter\", \"x\": [0.05], \"xaxis\": \"x\", \"y\": [1.33], \"yaxis\": \"y\"}, {\"hoverlabel\": {\"namelength\": 0}, \"hovertemplate\": \"State/UTs=Uttarakhand<br>Active Ratio (%)=%{x}<br>Death Ratio (%)=%{y}\", \"legendgroup\": \"State/UTs=Uttarakhand\", \"marker\": {\"color\": \"#FFA15A\", \"symbol\": \"circle\"}, \"mode\": \"markers\", \"name\": \"State/UTs=Uttarakhand\", \"showlegend\": true, \"type\": \"scatter\", \"x\": [0.18], \"xaxis\": \"x\", \"y\": [2.15], \"yaxis\": \"y\"}, {\"hoverlabel\": {\"namelength\": 0}, \"hovertemplate\": \"State/UTs=West Bengal<br>Active Ratio (%)=%{x}<br>Death Ratio (%)=%{y}\", \"legendgroup\": \"State/UTs=West Bengal\", \"marker\": {\"color\": \"#19d3f3\", \"symbol\": \"circle\"}, \"mode\": \"markers\", \"name\": \"State/UTs=West Bengal\", \"showlegend\": true, \"type\": \"scatter\", \"x\": [0.78], \"xaxis\": \"x\", \"y\": [1.19], \"yaxis\": \"y\"}],\n",
              "                        {\"legend\": {\"tracegroupgap\": 0}, \"margin\": {\"t\": 60}, \"template\": {\"data\": {\"bar\": [{\"error_x\": {\"color\": \"#2a3f5f\"}, \"error_y\": {\"color\": \"#2a3f5f\"}, \"marker\": {\"line\": {\"color\": \"#E5ECF6\", \"width\": 0.5}}, \"type\": \"bar\"}], \"barpolar\": [{\"marker\": {\"line\": {\"color\": \"#E5ECF6\", \"width\": 0.5}}, \"type\": \"barpolar\"}], \"carpet\": [{\"aaxis\": {\"endlinecolor\": \"#2a3f5f\", \"gridcolor\": \"white\", \"linecolor\": \"white\", \"minorgridcolor\": \"white\", \"startlinecolor\": \"#2a3f5f\"}, \"baxis\": {\"endlinecolor\": \"#2a3f5f\", \"gridcolor\": \"white\", \"linecolor\": \"white\", \"minorgridcolor\": \"white\", \"startlinecolor\": \"#2a3f5f\"}, \"type\": \"carpet\"}], \"choropleth\": [{\"colorbar\": {\"outlinewidth\": 0, \"ticks\": \"\"}, \"type\": \"choropleth\"}], \"contour\": [{\"colorbar\": {\"outlinewidth\": 0, \"ticks\": \"\"}, \"colorscale\": [[0.0, \"#0d0887\"], [0.1111111111111111, \"#46039f\"], [0.2222222222222222, \"#7201a8\"], [0.3333333333333333, \"#9c179e\"], [0.4444444444444444, \"#bd3786\"], [0.5555555555555556, \"#d8576b\"], [0.6666666666666666, \"#ed7953\"], [0.7777777777777778, \"#fb9f3a\"], [0.8888888888888888, \"#fdca26\"], [1.0, \"#f0f921\"]], \"type\": \"contour\"}], \"contourcarpet\": [{\"colorbar\": {\"outlinewidth\": 0, \"ticks\": \"\"}, \"type\": \"contourcarpet\"}], \"heatmap\": [{\"colorbar\": {\"outlinewidth\": 0, \"ticks\": \"\"}, \"colorscale\": [[0.0, \"#0d0887\"], [0.1111111111111111, \"#46039f\"], [0.2222222222222222, \"#7201a8\"], [0.3333333333333333, \"#9c179e\"], [0.4444444444444444, \"#bd3786\"], [0.5555555555555556, \"#d8576b\"], [0.6666666666666666, \"#ed7953\"], [0.7777777777777778, \"#fb9f3a\"], [0.8888888888888888, \"#fdca26\"], [1.0, \"#f0f921\"]], \"type\": \"heatmap\"}], \"heatmapgl\": [{\"colorbar\": {\"outlinewidth\": 0, \"ticks\": \"\"}, \"colorscale\": [[0.0, \"#0d0887\"], [0.1111111111111111, \"#46039f\"], [0.2222222222222222, \"#7201a8\"], [0.3333333333333333, \"#9c179e\"], [0.4444444444444444, \"#bd3786\"], [0.5555555555555556, \"#d8576b\"], [0.6666666666666666, \"#ed7953\"], [0.7777777777777778, \"#fb9f3a\"], [0.8888888888888888, \"#fdca26\"], [1.0, \"#f0f921\"]], \"type\": \"heatmapgl\"}], \"histogram\": [{\"marker\": {\"colorbar\": {\"outlinewidth\": 0, \"ticks\": \"\"}}, \"type\": \"histogram\"}], \"histogram2d\": [{\"colorbar\": {\"outlinewidth\": 0, \"ticks\": \"\"}, \"colorscale\": [[0.0, \"#0d0887\"], [0.1111111111111111, \"#46039f\"], [0.2222222222222222, \"#7201a8\"], [0.3333333333333333, \"#9c179e\"], [0.4444444444444444, \"#bd3786\"], [0.5555555555555556, \"#d8576b\"], [0.6666666666666666, \"#ed7953\"], [0.7777777777777778, \"#fb9f3a\"], [0.8888888888888888, \"#fdca26\"], [1.0, \"#f0f921\"]], \"type\": \"histogram2d\"}], \"histogram2dcontour\": [{\"colorbar\": {\"outlinewidth\": 0, \"ticks\": \"\"}, \"colorscale\": [[0.0, \"#0d0887\"], [0.1111111111111111, \"#46039f\"], [0.2222222222222222, \"#7201a8\"], [0.3333333333333333, \"#9c179e\"], [0.4444444444444444, \"#bd3786\"], [0.5555555555555556, \"#d8576b\"], [0.6666666666666666, \"#ed7953\"], [0.7777777777777778, \"#fb9f3a\"], [0.8888888888888888, \"#fdca26\"], [1.0, \"#f0f921\"]], \"type\": \"histogram2dcontour\"}], \"mesh3d\": [{\"colorbar\": {\"outlinewidth\": 0, \"ticks\": \"\"}, \"type\": \"mesh3d\"}], \"parcoords\": [{\"line\": {\"colorbar\": {\"outlinewidth\": 0, \"ticks\": \"\"}}, \"type\": \"parcoords\"}], \"pie\": [{\"automargin\": true, \"type\": \"pie\"}], \"scatter\": [{\"marker\": {\"colorbar\": {\"outlinewidth\": 0, \"ticks\": \"\"}}, \"type\": \"scatter\"}], \"scatter3d\": [{\"line\": {\"colorbar\": {\"outlinewidth\": 0, \"ticks\": \"\"}}, \"marker\": {\"colorbar\": {\"outlinewidth\": 0, \"ticks\": \"\"}}, \"type\": \"scatter3d\"}], \"scattercarpet\": [{\"marker\": {\"colorbar\": {\"outlinewidth\": 0, \"ticks\": \"\"}}, \"type\": \"scattercarpet\"}], \"scattergeo\": [{\"marker\": {\"colorbar\": {\"outlinewidth\": 0, \"ticks\": \"\"}}, \"type\": \"scattergeo\"}], \"scattergl\": [{\"marker\": {\"colorbar\": {\"outlinewidth\": 0, \"ticks\": \"\"}}, \"type\": \"scattergl\"}], \"scattermapbox\": [{\"marker\": {\"colorbar\": {\"outlinewidth\": 0, \"ticks\": \"\"}}, \"type\": \"scattermapbox\"}], \"scatterpolar\": [{\"marker\": {\"colorbar\": {\"outlinewidth\": 0, \"ticks\": \"\"}}, \"type\": \"scatterpolar\"}], \"scatterpolargl\": [{\"marker\": {\"colorbar\": {\"outlinewidth\": 0, \"ticks\": \"\"}}, \"type\": \"scatterpolargl\"}], \"scatterternary\": [{\"marker\": {\"colorbar\": {\"outlinewidth\": 0, \"ticks\": \"\"}}, \"type\": \"scatterternary\"}], \"surface\": [{\"colorbar\": {\"outlinewidth\": 0, \"ticks\": \"\"}, \"colorscale\": [[0.0, \"#0d0887\"], [0.1111111111111111, \"#46039f\"], [0.2222222222222222, \"#7201a8\"], [0.3333333333333333, \"#9c179e\"], [0.4444444444444444, \"#bd3786\"], [0.5555555555555556, \"#d8576b\"], [0.6666666666666666, \"#ed7953\"], [0.7777777777777778, \"#fb9f3a\"], [0.8888888888888888, \"#fdca26\"], [1.0, \"#f0f921\"]], \"type\": \"surface\"}], \"table\": [{\"cells\": {\"fill\": {\"color\": \"#EBF0F8\"}, \"line\": {\"color\": \"white\"}}, \"header\": {\"fill\": {\"color\": \"#C8D4E3\"}, \"line\": {\"color\": \"white\"}}, \"type\": \"table\"}]}, \"layout\": {\"annotationdefaults\": {\"arrowcolor\": \"#2a3f5f\", \"arrowhead\": 0, \"arrowwidth\": 1}, \"coloraxis\": {\"colorbar\": {\"outlinewidth\": 0, \"ticks\": \"\"}}, \"colorscale\": {\"diverging\": [[0, \"#8e0152\"], [0.1, \"#c51b7d\"], [0.2, \"#de77ae\"], [0.3, \"#f1b6da\"], [0.4, \"#fde0ef\"], [0.5, \"#f7f7f7\"], [0.6, \"#e6f5d0\"], [0.7, \"#b8e186\"], [0.8, \"#7fbc41\"], [0.9, \"#4d9221\"], [1, \"#276419\"]], \"sequential\": [[0.0, \"#0d0887\"], [0.1111111111111111, \"#46039f\"], [0.2222222222222222, \"#7201a8\"], [0.3333333333333333, \"#9c179e\"], [0.4444444444444444, \"#bd3786\"], [0.5555555555555556, \"#d8576b\"], [0.6666666666666666, \"#ed7953\"], [0.7777777777777778, \"#fb9f3a\"], [0.8888888888888888, \"#fdca26\"], [1.0, \"#f0f921\"]], \"sequentialminus\": [[0.0, \"#0d0887\"], [0.1111111111111111, \"#46039f\"], [0.2222222222222222, \"#7201a8\"], [0.3333333333333333, \"#9c179e\"], [0.4444444444444444, \"#bd3786\"], [0.5555555555555556, \"#d8576b\"], [0.6666666666666666, \"#ed7953\"], [0.7777777777777778, \"#fb9f3a\"], [0.8888888888888888, \"#fdca26\"], [1.0, \"#f0f921\"]]}, \"colorway\": [\"#636efa\", \"#EF553B\", \"#00cc96\", \"#ab63fa\", \"#FFA15A\", \"#19d3f3\", \"#FF6692\", \"#B6E880\", \"#FF97FF\", \"#FECB52\"], \"font\": {\"color\": \"#2a3f5f\"}, \"geo\": {\"bgcolor\": \"white\", \"lakecolor\": \"white\", \"landcolor\": \"#E5ECF6\", \"showlakes\": true, \"showland\": true, \"subunitcolor\": \"white\"}, \"hoverlabel\": {\"align\": \"left\"}, \"hovermode\": \"closest\", \"mapbox\": {\"style\": \"light\"}, \"paper_bgcolor\": \"white\", \"plot_bgcolor\": \"#E5ECF6\", \"polar\": {\"angularaxis\": {\"gridcolor\": \"white\", \"linecolor\": \"white\", \"ticks\": \"\"}, \"bgcolor\": \"#E5ECF6\", \"radialaxis\": {\"gridcolor\": \"white\", \"linecolor\": \"white\", \"ticks\": \"\"}}, \"scene\": {\"xaxis\": {\"backgroundcolor\": \"#E5ECF6\", \"gridcolor\": \"white\", \"gridwidth\": 2, \"linecolor\": \"white\", \"showbackground\": true, \"ticks\": \"\", \"zerolinecolor\": \"white\"}, \"yaxis\": {\"backgroundcolor\": \"#E5ECF6\", \"gridcolor\": \"white\", \"gridwidth\": 2, \"linecolor\": \"white\", \"showbackground\": true, \"ticks\": \"\", \"zerolinecolor\": \"white\"}, \"zaxis\": {\"backgroundcolor\": \"#E5ECF6\", \"gridcolor\": \"white\", \"gridwidth\": 2, \"linecolor\": \"white\", \"showbackground\": true, \"ticks\": \"\", \"zerolinecolor\": \"white\"}}, \"shapedefaults\": {\"line\": {\"color\": \"#2a3f5f\"}}, \"ternary\": {\"aaxis\": {\"gridcolor\": \"white\", \"linecolor\": \"white\", \"ticks\": \"\"}, \"baxis\": {\"gridcolor\": \"white\", \"linecolor\": \"white\", \"ticks\": \"\"}, \"bgcolor\": \"#E5ECF6\", \"caxis\": {\"gridcolor\": \"white\", \"linecolor\": \"white\", \"ticks\": \"\"}}, \"title\": {\"x\": 0.05}, \"xaxis\": {\"automargin\": true, \"gridcolor\": \"white\", \"linecolor\": \"white\", \"ticks\": \"\", \"title\": {\"standoff\": 15}, \"zerolinecolor\": \"white\", \"zerolinewidth\": 2}, \"yaxis\": {\"automargin\": true, \"gridcolor\": \"white\", \"linecolor\": \"white\", \"ticks\": \"\", \"title\": {\"standoff\": 15}, \"zerolinecolor\": \"white\", \"zerolinewidth\": 2}}}, \"xaxis\": {\"anchor\": \"y\", \"domain\": [0.0, 1.0], \"title\": {\"text\": \"Active Ratio (%)\"}}, \"yaxis\": {\"anchor\": \"x\", \"domain\": [0.0, 1.0], \"title\": {\"text\": \"Death Ratio (%)\"}}},\n",
              "                        {\"responsive\": true}\n",
              "                    ).then(function(){\n",
              "                            \n",
              "var gd = document.getElementById('c419ac84-ff47-47f1-9f78-f39825c62f71');\n",
              "var x = new MutationObserver(function (mutations, observer) {{\n",
              "        var display = window.getComputedStyle(gd).display;\n",
              "        if (!display || display === 'none') {{\n",
              "            console.log([gd, 'removed!']);\n",
              "            Plotly.purge(gd);\n",
              "            observer.disconnect();\n",
              "        }}\n",
              "}});\n",
              "\n",
              "// Listen for the removal of the full notebook cells\n",
              "var notebookContainer = gd.closest('#notebook-container');\n",
              "if (notebookContainer) {{\n",
              "    x.observe(notebookContainer, {childList: true});\n",
              "}}\n",
              "\n",
              "// Listen for the clearing of the current output cell\n",
              "var outputEl = gd.closest('.output');\n",
              "if (outputEl) {{\n",
              "    x.observe(outputEl, {childList: true});\n",
              "}}\n",
              "\n",
              "                        })\n",
              "                };\n",
              "                \n",
              "            </script>\n",
              "        </div>\n",
              "</body>\n",
              "</html>"
            ]
          },
          "metadata": {
            "tags": []
          }
        }
      ]
    },
    {
      "cell_type": "markdown",
      "metadata": {
        "id": "wPcl13fSPAW2"
      },
      "source": [
        "Here we can see that have the highest Active Ratio i.e 24.95%.\n",
        "we can again see that Punjab have highest Death Ratio of 2.72%, while its active ratio is 0.13%."
      ]
    },
    {
      "cell_type": "code",
      "metadata": {
        "colab": {
          "base_uri": "https://localhost:8080/",
          "height": 542
        },
        "id": "qxbPjqpAPDsZ",
        "outputId": "c2635036-9e26-4199-825c-454134d2da06"
      },
      "source": [
        "fig = px.scatter_matrix(df, dimensions=[\"Total Cases\", \"Active\", \"Discharged\", \"Deaths\"], color=df['State/UTs'])\n",
        "fig.show()"
      ],
      "execution_count": null,
      "outputs": [
        {
          "output_type": "display_data",
          "data": {
            "text/html": [
              "<html>\n",
              "<head><meta charset=\"utf-8\" /></head>\n",
              "<body>\n",
              "    <div>\n",
              "            <script src=\"https://cdnjs.cloudflare.com/ajax/libs/mathjax/2.7.5/MathJax.js?config=TeX-AMS-MML_SVG\"></script><script type=\"text/javascript\">if (window.MathJax) {MathJax.Hub.Config({SVG: {font: \"STIX-Web\"}});}</script>\n",
              "                <script type=\"text/javascript\">window.PlotlyConfig = {MathJaxConfig: 'local'};</script>\n",
              "        <script src=\"https://cdn.plot.ly/plotly-latest.min.js\"></script>    \n",
              "            <div id=\"0a9519df-6f25-4b61-a4ec-3cd1e715eca7\" class=\"plotly-graph-div\" style=\"height:525px; width:100%;\"></div>\n",
              "            <script type=\"text/javascript\">\n",
              "                \n",
              "                    window.PLOTLYENV=window.PLOTLYENV || {};\n",
              "                    \n",
              "                if (document.getElementById(\"0a9519df-6f25-4b61-a4ec-3cd1e715eca7\")) {\n",
              "                    Plotly.newPlot(\n",
              "                        '0a9519df-6f25-4b61-a4ec-3cd1e715eca7',\n",
              "                        [{\"dimensions\": [{\"axis\": {\"matches\": true}, \"label\": \"Total Cases\", \"values\": [7525]}, {\"axis\": {\"matches\": true}, \"label\": \"Active\", \"values\": [14]}, {\"axis\": {\"matches\": true}, \"label\": \"Discharged\", \"values\": [7382]}, {\"axis\": {\"matches\": true}, \"label\": \"Deaths\", \"values\": [129]}], \"hoverlabel\": {\"namelength\": 0}, \"hovertemplate\": \"State/UTs=Andaman and Nicobar<br>%{xaxis.title.text}=%{x}<br>%{yaxis.title.text}=%{y}\", \"legendgroup\": \"State/UTs=Andaman and Nicobar\", \"marker\": {\"color\": \"#636efa\", \"symbol\": \"circle\"}, \"name\": \"State/UTs=Andaman and Nicobar\", \"showlegend\": true, \"type\": \"splom\"}, {\"dimensions\": [{\"axis\": {\"matches\": true}, \"label\": \"Total Cases\", \"values\": [1952513]}, {\"axis\": {\"matches\": true}, \"label\": \"Active\", \"values\": [22358]}, {\"axis\": {\"matches\": true}, \"label\": \"Discharged\", \"values\": [1916914]}, {\"axis\": {\"matches\": true}, \"label\": \"Deaths\", \"values\": [13241]}], \"hoverlabel\": {\"namelength\": 0}, \"hovertemplate\": \"State/UTs=Andhra Pradesh<br>%{xaxis.title.text}=%{x}<br>%{yaxis.title.text}=%{y}\", \"legendgroup\": \"State/UTs=Andhra Pradesh\", \"marker\": {\"color\": \"#EF553B\", \"symbol\": \"circle\"}, \"name\": \"State/UTs=Andhra Pradesh\", \"showlegend\": true, \"type\": \"splom\"}, {\"dimensions\": [{\"axis\": {\"matches\": true}, \"label\": \"Total Cases\", \"values\": [45703]}, {\"axis\": {\"matches\": true}, \"label\": \"Active\", \"values\": [4465]}, {\"axis\": {\"matches\": true}, \"label\": \"Discharged\", \"values\": [41025]}, {\"axis\": {\"matches\": true}, \"label\": \"Deaths\", \"values\": [213]}], \"hoverlabel\": {\"namelength\": 0}, \"hovertemplate\": \"State/UTs=Arunachal Pradesh<br>%{xaxis.title.text}=%{x}<br>%{yaxis.title.text}=%{y}\", \"legendgroup\": \"State/UTs=Arunachal Pradesh\", \"marker\": {\"color\": \"#00cc96\", \"symbol\": \"circle\"}, \"name\": \"State/UTs=Arunachal Pradesh\", \"showlegend\": true, \"type\": \"splom\"}, {\"dimensions\": [{\"axis\": {\"matches\": true}, \"label\": \"Total Cases\", \"values\": [557437]}, {\"axis\": {\"matches\": true}, \"label\": \"Active\", \"values\": [15726]}, {\"axis\": {\"matches\": true}, \"label\": \"Discharged\", \"values\": [536597]}, {\"axis\": {\"matches\": true}, \"label\": \"Deaths\", \"values\": [5114]}], \"hoverlabel\": {\"namelength\": 0}, \"hovertemplate\": \"State/UTs=Assam<br>%{xaxis.title.text}=%{x}<br>%{yaxis.title.text}=%{y}\", \"legendgroup\": \"State/UTs=Assam\", \"marker\": {\"color\": \"#ab63fa\", \"symbol\": \"circle\"}, \"name\": \"State/UTs=Assam\", \"showlegend\": true, \"type\": \"splom\"}, {\"dimensions\": [{\"axis\": {\"matches\": true}, \"label\": \"Total Cases\", \"values\": [724390]}, {\"axis\": {\"matches\": true}, \"label\": \"Active\", \"values\": [530]}, {\"axis\": {\"matches\": true}, \"label\": \"Discharged\", \"values\": [714223]}, {\"axis\": {\"matches\": true}, \"label\": \"Deaths\", \"values\": [9637]}], \"hoverlabel\": {\"namelength\": 0}, \"hovertemplate\": \"State/UTs=Bihar<br>%{xaxis.title.text}=%{x}<br>%{yaxis.title.text}=%{y}\", \"legendgroup\": \"State/UTs=Bihar\", \"marker\": {\"color\": \"#FFA15A\", \"symbol\": \"circle\"}, \"name\": \"State/UTs=Bihar\", \"showlegend\": true, \"type\": \"splom\"}, {\"dimensions\": [{\"axis\": {\"matches\": true}, \"label\": \"Total Cases\", \"values\": [61922]}, {\"axis\": {\"matches\": true}, \"label\": \"Active\", \"values\": [32]}, {\"axis\": {\"matches\": true}, \"label\": \"Discharged\", \"values\": [61081]}, {\"axis\": {\"matches\": true}, \"label\": \"Deaths\", \"values\": [809]}], \"hoverlabel\": {\"namelength\": 0}, \"hovertemplate\": \"State/UTs=Chandigarh<br>%{xaxis.title.text}=%{x}<br>%{yaxis.title.text}=%{y}\", \"legendgroup\": \"State/UTs=Chandigarh\", \"marker\": {\"color\": \"#19d3f3\", \"symbol\": \"circle\"}, \"name\": \"State/UTs=Chandigarh\", \"showlegend\": true, \"type\": \"splom\"}, {\"dimensions\": [{\"axis\": {\"matches\": true}, \"label\": \"Total Cases\", \"values\": [1001037]}, {\"axis\": {\"matches\": true}, \"label\": \"Active\", \"values\": [2789]}, {\"axis\": {\"matches\": true}, \"label\": \"Discharged\", \"values\": [984737]}, {\"axis\": {\"matches\": true}, \"label\": \"Deaths\", \"values\": [13511]}], \"hoverlabel\": {\"namelength\": 0}, \"hovertemplate\": \"State/UTs=Chhattisgarh<br>%{xaxis.title.text}=%{x}<br>%{yaxis.title.text}=%{y}\", \"legendgroup\": \"State/UTs=Chhattisgarh\", \"marker\": {\"color\": \"#FF6692\", \"symbol\": \"circle\"}, \"name\": \"State/UTs=Chhattisgarh\", \"showlegend\": true, \"type\": \"splom\"}, {\"dimensions\": [{\"axis\": {\"matches\": true}, \"label\": \"Total Cases\", \"values\": [10637]}, {\"axis\": {\"matches\": true}, \"label\": \"Active\", \"values\": [48]}, {\"axis\": {\"matches\": true}, \"label\": \"Discharged\", \"values\": [10585]}, {\"axis\": {\"matches\": true}, \"label\": \"Deaths\", \"values\": [4]}], \"hoverlabel\": {\"namelength\": 0}, \"hovertemplate\": \"State/UTs=Daman and Diu<br>%{xaxis.title.text}=%{x}<br>%{yaxis.title.text}=%{y}\", \"legendgroup\": \"State/UTs=Daman and Diu\", \"marker\": {\"color\": \"#B6E880\", \"symbol\": \"circle\"}, \"name\": \"State/UTs=Daman and Diu\", \"showlegend\": true, \"type\": \"splom\"}, {\"dimensions\": [{\"axis\": {\"matches\": true}, \"label\": \"Total Cases\", \"values\": [1435844]}, {\"axis\": {\"matches\": true}, \"label\": \"Active\", \"values\": [587]}, {\"axis\": {\"matches\": true}, \"label\": \"Discharged\", \"values\": [1410216]}, {\"axis\": {\"matches\": true}, \"label\": \"Deaths\", \"values\": [25041]}], \"hoverlabel\": {\"namelength\": 0}, \"hovertemplate\": \"State/UTs=Delhi<br>%{xaxis.title.text}=%{x}<br>%{yaxis.title.text}=%{y}\", \"legendgroup\": \"State/UTs=Delhi\", \"marker\": {\"color\": \"#FF97FF\", \"symbol\": \"circle\"}, \"name\": \"State/UTs=Delhi\", \"showlegend\": true, \"type\": \"splom\"}, {\"dimensions\": [{\"axis\": {\"matches\": true}, \"label\": \"Total Cases\", \"values\": [170416]}, {\"axis\": {\"matches\": true}, \"label\": \"Active\", \"values\": [1238]}, {\"axis\": {\"matches\": true}, \"label\": \"Discharged\", \"values\": [166052]}, {\"axis\": {\"matches\": true}, \"label\": \"Deaths\", \"values\": [3126]}], \"hoverlabel\": {\"namelength\": 0}, \"hovertemplate\": \"State/UTs=Goa<br>%{xaxis.title.text}=%{x}<br>%{yaxis.title.text}=%{y}\", \"legendgroup\": \"State/UTs=Goa\", \"marker\": {\"color\": \"#FECB52\", \"symbol\": \"circle\"}, \"name\": \"State/UTs=Goa\", \"showlegend\": true, \"type\": \"splom\"}, {\"dimensions\": [{\"axis\": {\"matches\": true}, \"label\": \"Total Cases\", \"values\": [824683]}, {\"axis\": {\"matches\": true}, \"label\": \"Active\", \"values\": [342]}, {\"axis\": {\"matches\": true}, \"label\": \"Discharged\", \"values\": [814265]}, {\"axis\": {\"matches\": true}, \"label\": \"Deaths\", \"values\": [10076]}], \"hoverlabel\": {\"namelength\": 0}, \"hovertemplate\": \"State/UTs=Gujarat<br>%{xaxis.title.text}=%{x}<br>%{yaxis.title.text}=%{y}\", \"legendgroup\": \"State/UTs=Gujarat\", \"marker\": {\"color\": \"#636efa\", \"symbol\": \"circle\"}, \"name\": \"State/UTs=Gujarat\", \"showlegend\": true, \"type\": \"splom\"}, {\"dimensions\": [{\"axis\": {\"matches\": true}, \"label\": \"Total Cases\", \"values\": [769717]}, {\"axis\": {\"matches\": true}, \"label\": \"Active\", \"values\": [740]}, {\"axis\": {\"matches\": true}, \"label\": \"Discharged\", \"values\": [759360]}, {\"axis\": {\"matches\": true}, \"label\": \"Deaths\", \"values\": [9617]}], \"hoverlabel\": {\"namelength\": 0}, \"hovertemplate\": \"State/UTs=Haryana<br>%{xaxis.title.text}=%{x}<br>%{yaxis.title.text}=%{y}\", \"legendgroup\": \"State/UTs=Haryana\", \"marker\": {\"color\": \"#EF553B\", \"symbol\": \"circle\"}, \"name\": \"State/UTs=Haryana\", \"showlegend\": true, \"type\": \"splom\"}, {\"dimensions\": [{\"axis\": {\"matches\": true}, \"label\": \"Total Cases\", \"values\": [205017]}, {\"axis\": {\"matches\": true}, \"label\": \"Active\", \"values\": [931]}, {\"axis\": {\"matches\": true}, \"label\": \"Discharged\", \"values\": [200573]}, {\"axis\": {\"matches\": true}, \"label\": \"Deaths\", \"values\": [3513]}], \"hoverlabel\": {\"namelength\": 0}, \"hovertemplate\": \"State/UTs=Himachal Pradesh<br>%{xaxis.title.text}=%{x}<br>%{yaxis.title.text}=%{y}\", \"legendgroup\": \"State/UTs=Himachal Pradesh\", \"marker\": {\"color\": \"#00cc96\", \"symbol\": \"circle\"}, \"name\": \"State/UTs=Himachal Pradesh\", \"showlegend\": true, \"type\": \"splom\"}, {\"dimensions\": [{\"axis\": {\"matches\": true}, \"label\": \"Total Cases\", \"values\": [320491]}, {\"axis\": {\"matches\": true}, \"label\": \"Active\", \"values\": [1319]}, {\"axis\": {\"matches\": true}, \"label\": \"Discharged\", \"values\": [314798]}, {\"axis\": {\"matches\": true}, \"label\": \"Deaths\", \"values\": [4374]}], \"hoverlabel\": {\"namelength\": 0}, \"hovertemplate\": \"State/UTs=Jammu and Kashmir<br>%{xaxis.title.text}=%{x}<br>%{yaxis.title.text}=%{y}\", \"legendgroup\": \"State/UTs=Jammu and Kashmir\", \"marker\": {\"color\": \"#ab63fa\", \"symbol\": \"circle\"}, \"name\": \"State/UTs=Jammu and Kashmir\", \"showlegend\": true, \"type\": \"splom\"}, {\"dimensions\": [{\"axis\": {\"matches\": true}, \"label\": \"Total Cases\", \"values\": [346918]}, {\"axis\": {\"matches\": true}, \"label\": \"Active\", \"values\": [276]}, {\"axis\": {\"matches\": true}, \"label\": \"Discharged\", \"values\": [341518]}, {\"axis\": {\"matches\": true}, \"label\": \"Deaths\", \"values\": [5124]}], \"hoverlabel\": {\"namelength\": 0}, \"hovertemplate\": \"State/UTs=Jharkhand<br>%{xaxis.title.text}=%{x}<br>%{yaxis.title.text}=%{y}\", \"legendgroup\": \"State/UTs=Jharkhand\", \"marker\": {\"color\": \"#FFA15A\", \"symbol\": \"circle\"}, \"name\": \"State/UTs=Jharkhand\", \"showlegend\": true, \"type\": \"splom\"}, {\"dimensions\": [{\"axis\": {\"matches\": true}, \"label\": \"Total Cases\", \"values\": [2893556]}, {\"axis\": {\"matches\": true}, \"label\": \"Active\", \"values\": [23928]}, {\"axis\": {\"matches\": true}, \"label\": \"Discharged\", \"values\": [2833276]}, {\"axis\": {\"matches\": true}, \"label\": \"Deaths\", \"values\": [36352]}], \"hoverlabel\": {\"namelength\": 0}, \"hovertemplate\": \"State/UTs=Karnataka<br>%{xaxis.title.text}=%{x}<br>%{yaxis.title.text}=%{y}\", \"legendgroup\": \"State/UTs=Karnataka\", \"marker\": {\"color\": \"#19d3f3\", \"symbol\": \"circle\"}, \"name\": \"State/UTs=Karnataka\", \"showlegend\": true, \"type\": \"splom\"}, {\"dimensions\": [{\"axis\": {\"matches\": true}, \"label\": \"Total Cases\", \"values\": [3254064]}, {\"axis\": {\"matches\": true}, \"label\": \"Active\", \"values\": [1386262]}, {\"axis\": {\"matches\": true}, \"label\": \"Discharged\", \"values\": [3099469]}, {\"axis\": {\"matches\": true}, \"label\": \"Deaths\", \"values\": [15969]}], \"hoverlabel\": {\"namelength\": 0}, \"hovertemplate\": \"State/UTs=Kerala<br>%{xaxis.title.text}=%{x}<br>%{yaxis.title.text}=%{y}\", \"legendgroup\": \"State/UTs=Kerala\", \"marker\": {\"color\": \"#FF6692\", \"symbol\": \"circle\"}, \"name\": \"State/UTs=Kerala\", \"showlegend\": true, \"type\": \"splom\"}, {\"dimensions\": [{\"axis\": {\"matches\": true}, \"label\": \"Total Cases\", \"values\": [20296]}, {\"axis\": {\"matches\": true}, \"label\": \"Active\", \"values\": [68]}, {\"axis\": {\"matches\": true}, \"label\": \"Discharged\", \"values\": [20021]}, {\"axis\": {\"matches\": true}, \"label\": \"Deaths\", \"values\": [207]}], \"hoverlabel\": {\"namelength\": 0}, \"hovertemplate\": \"State/UTs=Ladakh<br>%{xaxis.title.text}=%{x}<br>%{yaxis.title.text}=%{y}\", \"legendgroup\": \"State/UTs=Ladakh\", \"marker\": {\"color\": \"#B6E880\", \"symbol\": \"circle\"}, \"name\": \"State/UTs=Ladakh\", \"showlegend\": true, \"type\": \"splom\"}, {\"dimensions\": [{\"axis\": {\"matches\": true}, \"label\": \"Total Cases\", \"values\": [10127]}, {\"axis\": {\"matches\": true}, \"label\": \"Active\", \"values\": [81]}, {\"axis\": {\"matches\": true}, \"label\": \"Discharged\", \"values\": [9997]}, {\"axis\": {\"matches\": true}, \"label\": \"Deaths\", \"values\": [49]}], \"hoverlabel\": {\"namelength\": 0}, \"hovertemplate\": \"State/UTs=Lakshadweep<br>%{xaxis.title.text}=%{x}<br>%{yaxis.title.text}=%{y}\", \"legendgroup\": \"State/UTs=Lakshadweep\", \"marker\": {\"color\": \"#FF97FF\", \"symbol\": \"circle\"}, \"name\": \"State/UTs=Lakshadweep\", \"showlegend\": true, \"type\": \"splom\"}, {\"dimensions\": [{\"axis\": {\"matches\": true}, \"label\": \"Total Cases\", \"values\": [791738]}, {\"axis\": {\"matches\": true}, \"label\": \"Active\", \"values\": [149]}, {\"axis\": {\"matches\": true}, \"label\": \"Discharged\", \"values\": [781077]}, {\"axis\": {\"matches\": true}, \"label\": \"Deaths\", \"values\": [10512]}], \"hoverlabel\": {\"namelength\": 0}, \"hovertemplate\": \"State/UTs=Madhya Pradesh<br>%{xaxis.title.text}=%{x}<br>%{yaxis.title.text}=%{y}\", \"legendgroup\": \"State/UTs=Madhya Pradesh\", \"marker\": {\"color\": \"#FECB52\", \"symbol\": \"circle\"}, \"name\": \"State/UTs=Madhya Pradesh\", \"showlegend\": true, \"type\": \"splom\"}, {\"dimensions\": [{\"axis\": {\"matches\": true}, \"label\": \"Total Cases\", \"values\": [6258079]}, {\"axis\": {\"matches\": true}, \"label\": \"Active\", \"values\": [96833]}, {\"axis\": {\"matches\": true}, \"label\": \"Discharged\", \"values\": [6029817]}, {\"axis\": {\"matches\": true}, \"label\": \"Deaths\", \"values\": [131429]}], \"hoverlabel\": {\"namelength\": 0}, \"hovertemplate\": \"State/UTs=Maharashtra<br>%{xaxis.title.text}=%{x}<br>%{yaxis.title.text}=%{y}\", \"legendgroup\": \"State/UTs=Maharashtra\", \"marker\": {\"color\": \"#636efa\", \"symbol\": \"circle\"}, \"name\": \"State/UTs=Maharashtra\", \"showlegend\": true, \"type\": \"splom\"}, {\"dimensions\": [{\"axis\": {\"matches\": true}, \"label\": \"Total Cases\", \"values\": [91460]}, {\"axis\": {\"matches\": true}, \"label\": \"Active\", \"values\": [10251]}, {\"axis\": {\"matches\": true}, \"label\": \"Discharged\", \"values\": [79744]}, {\"axis\": {\"matches\": true}, \"label\": \"Deaths\", \"values\": [1465]}], \"hoverlabel\": {\"namelength\": 0}, \"hovertemplate\": \"State/UTs=Manipur<br>%{xaxis.title.text}=%{x}<br>%{yaxis.title.text}=%{y}\", \"legendgroup\": \"State/UTs=Manipur\", \"marker\": {\"color\": \"#EF553B\", \"symbol\": \"circle\"}, \"name\": \"State/UTs=Manipur\", \"showlegend\": true, \"type\": \"splom\"}, {\"dimensions\": [{\"axis\": {\"matches\": true}, \"label\": \"Total Cases\", \"values\": [60597]}, {\"axis\": {\"matches\": true}, \"label\": \"Active\", \"values\": [4708]}, {\"axis\": {\"matches\": true}, \"label\": \"Discharged\", \"values\": [54875]}, {\"axis\": {\"matches\": true}, \"label\": \"Deaths\", \"values\": [1014]}], \"hoverlabel\": {\"namelength\": 0}, \"hovertemplate\": \"State/UTs=Meghalaya<br>%{xaxis.title.text}=%{x}<br>%{yaxis.title.text}=%{y}\", \"legendgroup\": \"State/UTs=Meghalaya\", \"marker\": {\"color\": \"#00cc96\", \"symbol\": \"circle\"}, \"name\": \"State/UTs=Meghalaya\", \"showlegend\": true, \"type\": \"splom\"}, {\"dimensions\": [{\"axis\": {\"matches\": true}, \"label\": \"Total Cases\", \"values\": [31145]}, {\"axis\": {\"matches\": true}, \"label\": \"Active\", \"values\": [7772]}, {\"axis\": {\"matches\": true}, \"label\": \"Discharged\", \"values\": [23238]}, {\"axis\": {\"matches\": true}, \"label\": \"Deaths\", \"values\": [135]}], \"hoverlabel\": {\"namelength\": 0}, \"hovertemplate\": \"State/UTs=Mizoram<br>%{xaxis.title.text}=%{x}<br>%{yaxis.title.text}=%{y}\", \"legendgroup\": \"State/UTs=Mizoram\", \"marker\": {\"color\": \"#ab63fa\", \"symbol\": \"circle\"}, \"name\": \"State/UTs=Mizoram\", \"showlegend\": true, \"type\": \"splom\"}, {\"dimensions\": [{\"axis\": {\"matches\": true}, \"label\": \"Total Cases\", \"values\": [27240]}, {\"axis\": {\"matches\": true}, \"label\": \"Active\", \"values\": [1312]}, {\"axis\": {\"matches\": true}, \"label\": \"Discharged\", \"values\": [25390]}, {\"axis\": {\"matches\": true}, \"label\": \"Deaths\", \"values\": [538]}], \"hoverlabel\": {\"namelength\": 0}, \"hovertemplate\": \"State/UTs=Nagaland<br>%{xaxis.title.text}=%{x}<br>%{yaxis.title.text}=%{y}\", \"legendgroup\": \"State/UTs=Nagaland\", \"marker\": {\"color\": \"#FFA15A\", \"symbol\": \"circle\"}, \"name\": \"State/UTs=Nagaland\", \"showlegend\": true, \"type\": \"splom\"}, {\"dimensions\": [{\"axis\": {\"matches\": true}, \"label\": \"Total Cases\", \"values\": [965715]}, {\"axis\": {\"matches\": true}, \"label\": \"Active\", \"values\": [17201]}, {\"axis\": {\"matches\": true}, \"label\": \"Discharged\", \"values\": [943069]}, {\"axis\": {\"matches\": true}, \"label\": \"Deaths\", \"values\": [5445]}], \"hoverlabel\": {\"namelength\": 0}, \"hovertemplate\": \"State/UTs=Odisha<br>%{xaxis.title.text}=%{x}<br>%{yaxis.title.text}=%{y}\", \"legendgroup\": \"State/UTs=Odisha\", \"marker\": {\"color\": \"#19d3f3\", \"symbol\": \"circle\"}, \"name\": \"State/UTs=Odisha\", \"showlegend\": true, \"type\": \"splom\"}, {\"dimensions\": [{\"axis\": {\"matches\": true}, \"label\": \"Total Cases\", \"values\": [120227]}, {\"axis\": {\"matches\": true}, \"label\": \"Active\", \"values\": [922]}, {\"axis\": {\"matches\": true}, \"label\": \"Discharged\", \"values\": [117518]}, {\"axis\": {\"matches\": true}, \"label\": \"Deaths\", \"values\": [1787]}], \"hoverlabel\": {\"namelength\": 0}, \"hovertemplate\": \"State/UTs=Puducherry<br>%{xaxis.title.text}=%{x}<br>%{yaxis.title.text}=%{y}\", \"legendgroup\": \"State/UTs=Puducherry\", \"marker\": {\"color\": \"#FF6692\", \"symbol\": \"circle\"}, \"name\": \"State/UTs=Puducherry\", \"showlegend\": true, \"type\": \"splom\"}, {\"dimensions\": [{\"axis\": {\"matches\": true}, \"label\": \"Total Cases\", \"values\": [598741]}, {\"axis\": {\"matches\": true}, \"label\": \"Active\", \"values\": [771]}, {\"axis\": {\"matches\": true}, \"label\": \"Discharged\", \"values\": [581712]}, {\"axis\": {\"matches\": true}, \"label\": \"Deaths\", \"values\": [16258]}], \"hoverlabel\": {\"namelength\": 0}, \"hovertemplate\": \"State/UTs=Punjab<br>%{xaxis.title.text}=%{x}<br>%{yaxis.title.text}=%{y}\", \"legendgroup\": \"State/UTs=Punjab\", \"marker\": {\"color\": \"#B6E880\", \"symbol\": \"circle\"}, \"name\": \"State/UTs=Punjab\", \"showlegend\": true, \"type\": \"splom\"}, {\"dimensions\": [{\"axis\": {\"matches\": true}, \"label\": \"Total Cases\", \"values\": [953522]}, {\"axis\": {\"matches\": true}, \"label\": \"Active\", \"values\": [328]}, {\"axis\": {\"matches\": true}, \"label\": \"Discharged\", \"values\": [944242]}, {\"axis\": {\"matches\": true}, \"label\": \"Deaths\", \"values\": [8952]}], \"hoverlabel\": {\"namelength\": 0}, \"hovertemplate\": \"State/UTs=Rajasthan<br>%{xaxis.title.text}=%{x}<br>%{yaxis.title.text}=%{y}\", \"legendgroup\": \"State/UTs=Rajasthan\", \"marker\": {\"color\": \"#FF97FF\", \"symbol\": \"circle\"}, \"name\": \"State/UTs=Rajasthan\", \"showlegend\": true, \"type\": \"splom\"}, {\"dimensions\": [{\"axis\": {\"matches\": true}, \"label\": \"Total Cases\", \"values\": [24823]}, {\"axis\": {\"matches\": true}, \"label\": \"Active\", \"values\": [2849]}, {\"axis\": {\"matches\": true}, \"label\": \"Discharged\", \"values\": [21644]}, {\"axis\": {\"matches\": true}, \"label\": \"Deaths\", \"values\": [330]}], \"hoverlabel\": {\"namelength\": 0}, \"hovertemplate\": \"State/UTs=Sikkim<br>%{xaxis.title.text}=%{x}<br>%{yaxis.title.text}=%{y}\", \"legendgroup\": \"State/UTs=Sikkim\", \"marker\": {\"color\": \"#FECB52\", \"symbol\": \"circle\"}, \"name\": \"State/UTs=Sikkim\", \"showlegend\": true, \"type\": \"splom\"}, {\"dimensions\": [{\"axis\": {\"matches\": true}, \"label\": \"Total Cases\", \"values\": [2546689]}, {\"axis\": {\"matches\": true}, \"label\": \"Active\", \"values\": [24025]}, {\"axis\": {\"matches\": true}, \"label\": \"Discharged\", \"values\": [2488775]}, {\"axis\": {\"matches\": true}, \"label\": \"Deaths\", \"values\": [33889]}], \"hoverlabel\": {\"namelength\": 0}, \"hovertemplate\": \"State/UTs=Tamil Nadu<br>%{xaxis.title.text}=%{x}<br>%{yaxis.title.text}=%{y}\", \"legendgroup\": \"State/UTs=Tamil Nadu\", \"marker\": {\"color\": \"#636efa\", \"symbol\": \"circle\"}, \"name\": \"State/UTs=Tamil Nadu\", \"showlegend\": true, \"type\": \"splom\"}, {\"dimensions\": [{\"axis\": {\"matches\": true}, \"label\": \"Total Cases\", \"values\": [640659]}, {\"axis\": {\"matches\": true}, \"label\": \"Active\", \"values\": [9625]}, {\"axis\": {\"matches\": true}, \"label\": \"Discharged\", \"values\": [627254]}, {\"axis\": {\"matches\": true}, \"label\": \"Deaths\", \"values\": [3780]}], \"hoverlabel\": {\"namelength\": 0}, \"hovertemplate\": \"State/UTs=Telengana<br>%{xaxis.title.text}=%{x}<br>%{yaxis.title.text}=%{y}\", \"legendgroup\": \"State/UTs=Telengana\", \"marker\": {\"color\": \"#EF553B\", \"symbol\": \"circle\"}, \"name\": \"State/UTs=Telengana\", \"showlegend\": true, \"type\": \"splom\"}, {\"dimensions\": [{\"axis\": {\"matches\": true}, \"label\": \"Total Cases\", \"values\": [76315]}, {\"axis\": {\"matches\": true}, \"label\": \"Active\", \"values\": [3934]}, {\"axis\": {\"matches\": true}, \"label\": \"Discharged\", \"values\": [71642]}, {\"axis\": {\"matches\": true}, \"label\": \"Deaths\", \"values\": [739]}], \"hoverlabel\": {\"namelength\": 0}, \"hovertemplate\": \"State/UTs=Tripura<br>%{xaxis.title.text}=%{x}<br>%{yaxis.title.text}=%{y}\", \"legendgroup\": \"State/UTs=Tripura\", \"marker\": {\"color\": \"#00cc96\", \"symbol\": \"circle\"}, \"name\": \"State/UTs=Tripura\", \"showlegend\": true, \"type\": \"splom\"}, {\"dimensions\": [{\"axis\": {\"matches\": true}, \"label\": \"Total Cases\", \"values\": [1708152]}, {\"axis\": {\"matches\": true}, \"label\": \"Active\", \"values\": [932]}, {\"axis\": {\"matches\": true}, \"label\": \"Discharged\", \"values\": [1684471]}, {\"axis\": {\"matches\": true}, \"label\": \"Deaths\", \"values\": [22749]}], \"hoverlabel\": {\"namelength\": 0}, \"hovertemplate\": \"State/UTs=Uttar Pradesh<br>%{xaxis.title.text}=%{x}<br>%{yaxis.title.text}=%{y}\", \"legendgroup\": \"State/UTs=Uttar Pradesh\", \"marker\": {\"color\": \"#ab63fa\", \"symbol\": \"circle\"}, \"name\": \"State/UTs=Uttar Pradesh\", \"showlegend\": true, \"type\": \"splom\"}, {\"dimensions\": [{\"axis\": {\"matches\": true}, \"label\": \"Total Cases\", \"values\": [341673]}, {\"axis\": {\"matches\": true}, \"label\": \"Active\", \"values\": [611]}, {\"axis\": {\"matches\": true}, \"label\": \"Discharged\", \"values\": [333703]}, {\"axis\": {\"matches\": true}, \"label\": \"Deaths\", \"values\": [7359]}], \"hoverlabel\": {\"namelength\": 0}, \"hovertemplate\": \"State/UTs=Uttarakhand<br>%{xaxis.title.text}=%{x}<br>%{yaxis.title.text}=%{y}\", \"legendgroup\": \"State/UTs=Uttarakhand\", \"marker\": {\"color\": \"#FFA15A\", \"symbol\": \"circle\"}, \"name\": \"State/UTs=Uttarakhand\", \"showlegend\": true, \"type\": \"splom\"}, {\"dimensions\": [{\"axis\": {\"matches\": true}, \"label\": \"Total Cases\", \"values\": [1522833]}, {\"axis\": {\"matches\": true}, \"label\": \"Active\", \"values\": [11891]}, {\"axis\": {\"matches\": true}, \"label\": \"Discharged\", \"values\": [1492878]}, {\"axis\": {\"matches\": true}, \"label\": \"Deaths\", \"values\": [18064]}], \"hoverlabel\": {\"namelength\": 0}, \"hovertemplate\": \"State/UTs=West Bengal<br>%{xaxis.title.text}=%{x}<br>%{yaxis.title.text}=%{y}\", \"legendgroup\": \"State/UTs=West Bengal\", \"marker\": {\"color\": \"#19d3f3\", \"symbol\": \"circle\"}, \"name\": \"State/UTs=West Bengal\", \"showlegend\": true, \"type\": \"splom\"}],\n",
              "                        {\"dragmode\": \"select\", \"legend\": {\"tracegroupgap\": 0}, \"margin\": {\"t\": 60}, \"template\": {\"data\": {\"bar\": [{\"error_x\": {\"color\": \"#2a3f5f\"}, \"error_y\": {\"color\": \"#2a3f5f\"}, \"marker\": {\"line\": {\"color\": \"#E5ECF6\", \"width\": 0.5}}, \"type\": \"bar\"}], \"barpolar\": [{\"marker\": {\"line\": {\"color\": \"#E5ECF6\", \"width\": 0.5}}, \"type\": \"barpolar\"}], \"carpet\": [{\"aaxis\": {\"endlinecolor\": \"#2a3f5f\", \"gridcolor\": \"white\", \"linecolor\": \"white\", \"minorgridcolor\": \"white\", \"startlinecolor\": \"#2a3f5f\"}, \"baxis\": {\"endlinecolor\": \"#2a3f5f\", \"gridcolor\": \"white\", \"linecolor\": \"white\", \"minorgridcolor\": \"white\", \"startlinecolor\": \"#2a3f5f\"}, \"type\": \"carpet\"}], \"choropleth\": [{\"colorbar\": {\"outlinewidth\": 0, \"ticks\": \"\"}, \"type\": \"choropleth\"}], \"contour\": [{\"colorbar\": {\"outlinewidth\": 0, \"ticks\": \"\"}, \"colorscale\": [[0.0, \"#0d0887\"], [0.1111111111111111, \"#46039f\"], [0.2222222222222222, \"#7201a8\"], [0.3333333333333333, \"#9c179e\"], [0.4444444444444444, \"#bd3786\"], [0.5555555555555556, \"#d8576b\"], [0.6666666666666666, \"#ed7953\"], [0.7777777777777778, \"#fb9f3a\"], [0.8888888888888888, \"#fdca26\"], [1.0, \"#f0f921\"]], \"type\": \"contour\"}], \"contourcarpet\": [{\"colorbar\": {\"outlinewidth\": 0, \"ticks\": \"\"}, \"type\": \"contourcarpet\"}], \"heatmap\": [{\"colorbar\": {\"outlinewidth\": 0, \"ticks\": \"\"}, \"colorscale\": [[0.0, \"#0d0887\"], [0.1111111111111111, \"#46039f\"], [0.2222222222222222, \"#7201a8\"], [0.3333333333333333, \"#9c179e\"], [0.4444444444444444, \"#bd3786\"], [0.5555555555555556, \"#d8576b\"], [0.6666666666666666, \"#ed7953\"], [0.7777777777777778, \"#fb9f3a\"], [0.8888888888888888, \"#fdca26\"], [1.0, \"#f0f921\"]], \"type\": \"heatmap\"}], \"heatmapgl\": [{\"colorbar\": {\"outlinewidth\": 0, \"ticks\": \"\"}, \"colorscale\": [[0.0, \"#0d0887\"], [0.1111111111111111, \"#46039f\"], [0.2222222222222222, \"#7201a8\"], [0.3333333333333333, \"#9c179e\"], [0.4444444444444444, \"#bd3786\"], [0.5555555555555556, \"#d8576b\"], [0.6666666666666666, \"#ed7953\"], [0.7777777777777778, \"#fb9f3a\"], [0.8888888888888888, \"#fdca26\"], [1.0, \"#f0f921\"]], \"type\": \"heatmapgl\"}], \"histogram\": [{\"marker\": {\"colorbar\": {\"outlinewidth\": 0, \"ticks\": \"\"}}, \"type\": \"histogram\"}], \"histogram2d\": [{\"colorbar\": {\"outlinewidth\": 0, \"ticks\": \"\"}, \"colorscale\": [[0.0, \"#0d0887\"], [0.1111111111111111, \"#46039f\"], [0.2222222222222222, \"#7201a8\"], [0.3333333333333333, \"#9c179e\"], [0.4444444444444444, \"#bd3786\"], [0.5555555555555556, \"#d8576b\"], [0.6666666666666666, \"#ed7953\"], [0.7777777777777778, \"#fb9f3a\"], [0.8888888888888888, \"#fdca26\"], [1.0, \"#f0f921\"]], \"type\": \"histogram2d\"}], \"histogram2dcontour\": [{\"colorbar\": {\"outlinewidth\": 0, \"ticks\": \"\"}, \"colorscale\": [[0.0, \"#0d0887\"], [0.1111111111111111, \"#46039f\"], [0.2222222222222222, \"#7201a8\"], [0.3333333333333333, \"#9c179e\"], [0.4444444444444444, \"#bd3786\"], [0.5555555555555556, \"#d8576b\"], [0.6666666666666666, \"#ed7953\"], [0.7777777777777778, \"#fb9f3a\"], [0.8888888888888888, \"#fdca26\"], [1.0, \"#f0f921\"]], \"type\": \"histogram2dcontour\"}], \"mesh3d\": [{\"colorbar\": {\"outlinewidth\": 0, \"ticks\": \"\"}, \"type\": \"mesh3d\"}], \"parcoords\": [{\"line\": {\"colorbar\": {\"outlinewidth\": 0, \"ticks\": \"\"}}, \"type\": \"parcoords\"}], \"pie\": [{\"automargin\": true, \"type\": \"pie\"}], \"scatter\": [{\"marker\": {\"colorbar\": {\"outlinewidth\": 0, \"ticks\": \"\"}}, \"type\": \"scatter\"}], \"scatter3d\": [{\"line\": {\"colorbar\": {\"outlinewidth\": 0, \"ticks\": \"\"}}, \"marker\": {\"colorbar\": {\"outlinewidth\": 0, \"ticks\": \"\"}}, \"type\": \"scatter3d\"}], \"scattercarpet\": [{\"marker\": {\"colorbar\": {\"outlinewidth\": 0, \"ticks\": \"\"}}, \"type\": \"scattercarpet\"}], \"scattergeo\": [{\"marker\": {\"colorbar\": {\"outlinewidth\": 0, \"ticks\": \"\"}}, \"type\": \"scattergeo\"}], \"scattergl\": [{\"marker\": {\"colorbar\": {\"outlinewidth\": 0, \"ticks\": \"\"}}, \"type\": \"scattergl\"}], \"scattermapbox\": [{\"marker\": {\"colorbar\": {\"outlinewidth\": 0, \"ticks\": \"\"}}, \"type\": \"scattermapbox\"}], \"scatterpolar\": [{\"marker\": {\"colorbar\": {\"outlinewidth\": 0, \"ticks\": \"\"}}, \"type\": \"scatterpolar\"}], \"scatterpolargl\": [{\"marker\": {\"colorbar\": {\"outlinewidth\": 0, \"ticks\": \"\"}}, \"type\": \"scatterpolargl\"}], \"scatterternary\": [{\"marker\": {\"colorbar\": {\"outlinewidth\": 0, \"ticks\": \"\"}}, \"type\": \"scatterternary\"}], \"surface\": [{\"colorbar\": {\"outlinewidth\": 0, \"ticks\": \"\"}, \"colorscale\": [[0.0, \"#0d0887\"], [0.1111111111111111, \"#46039f\"], [0.2222222222222222, \"#7201a8\"], [0.3333333333333333, \"#9c179e\"], [0.4444444444444444, \"#bd3786\"], [0.5555555555555556, \"#d8576b\"], [0.6666666666666666, \"#ed7953\"], [0.7777777777777778, \"#fb9f3a\"], [0.8888888888888888, \"#fdca26\"], [1.0, \"#f0f921\"]], \"type\": \"surface\"}], \"table\": [{\"cells\": {\"fill\": {\"color\": \"#EBF0F8\"}, \"line\": {\"color\": \"white\"}}, \"header\": {\"fill\": {\"color\": \"#C8D4E3\"}, \"line\": {\"color\": \"white\"}}, \"type\": \"table\"}]}, \"layout\": {\"annotationdefaults\": {\"arrowcolor\": \"#2a3f5f\", \"arrowhead\": 0, \"arrowwidth\": 1}, \"coloraxis\": {\"colorbar\": {\"outlinewidth\": 0, \"ticks\": \"\"}}, \"colorscale\": {\"diverging\": [[0, \"#8e0152\"], [0.1, \"#c51b7d\"], [0.2, \"#de77ae\"], [0.3, \"#f1b6da\"], [0.4, \"#fde0ef\"], [0.5, \"#f7f7f7\"], [0.6, \"#e6f5d0\"], [0.7, \"#b8e186\"], [0.8, \"#7fbc41\"], [0.9, \"#4d9221\"], [1, \"#276419\"]], \"sequential\": [[0.0, \"#0d0887\"], [0.1111111111111111, \"#46039f\"], [0.2222222222222222, \"#7201a8\"], [0.3333333333333333, \"#9c179e\"], [0.4444444444444444, \"#bd3786\"], [0.5555555555555556, \"#d8576b\"], [0.6666666666666666, \"#ed7953\"], [0.7777777777777778, \"#fb9f3a\"], [0.8888888888888888, \"#fdca26\"], [1.0, \"#f0f921\"]], \"sequentialminus\": [[0.0, \"#0d0887\"], [0.1111111111111111, \"#46039f\"], [0.2222222222222222, \"#7201a8\"], [0.3333333333333333, \"#9c179e\"], [0.4444444444444444, \"#bd3786\"], [0.5555555555555556, \"#d8576b\"], [0.6666666666666666, \"#ed7953\"], [0.7777777777777778, \"#fb9f3a\"], [0.8888888888888888, \"#fdca26\"], [1.0, \"#f0f921\"]]}, \"colorway\": [\"#636efa\", \"#EF553B\", \"#00cc96\", \"#ab63fa\", \"#FFA15A\", \"#19d3f3\", \"#FF6692\", \"#B6E880\", \"#FF97FF\", \"#FECB52\"], \"font\": {\"color\": \"#2a3f5f\"}, \"geo\": {\"bgcolor\": \"white\", \"lakecolor\": \"white\", \"landcolor\": \"#E5ECF6\", \"showlakes\": true, \"showland\": true, \"subunitcolor\": \"white\"}, \"hoverlabel\": {\"align\": \"left\"}, \"hovermode\": \"closest\", \"mapbox\": {\"style\": \"light\"}, \"paper_bgcolor\": \"white\", \"plot_bgcolor\": \"#E5ECF6\", \"polar\": {\"angularaxis\": {\"gridcolor\": \"white\", \"linecolor\": \"white\", \"ticks\": \"\"}, \"bgcolor\": \"#E5ECF6\", \"radialaxis\": {\"gridcolor\": \"white\", \"linecolor\": \"white\", \"ticks\": \"\"}}, \"scene\": {\"xaxis\": {\"backgroundcolor\": \"#E5ECF6\", \"gridcolor\": \"white\", \"gridwidth\": 2, \"linecolor\": \"white\", \"showbackground\": true, \"ticks\": \"\", \"zerolinecolor\": \"white\"}, \"yaxis\": {\"backgroundcolor\": \"#E5ECF6\", \"gridcolor\": \"white\", \"gridwidth\": 2, \"linecolor\": \"white\", \"showbackground\": true, \"ticks\": \"\", \"zerolinecolor\": \"white\"}, \"zaxis\": {\"backgroundcolor\": \"#E5ECF6\", \"gridcolor\": \"white\", \"gridwidth\": 2, \"linecolor\": \"white\", \"showbackground\": true, \"ticks\": \"\", \"zerolinecolor\": \"white\"}}, \"shapedefaults\": {\"line\": {\"color\": \"#2a3f5f\"}}, \"ternary\": {\"aaxis\": {\"gridcolor\": \"white\", \"linecolor\": \"white\", \"ticks\": \"\"}, \"baxis\": {\"gridcolor\": \"white\", \"linecolor\": \"white\", \"ticks\": \"\"}, \"bgcolor\": \"#E5ECF6\", \"caxis\": {\"gridcolor\": \"white\", \"linecolor\": \"white\", \"ticks\": \"\"}}, \"title\": {\"x\": 0.05}, \"xaxis\": {\"automargin\": true, \"gridcolor\": \"white\", \"linecolor\": \"white\", \"ticks\": \"\", \"title\": {\"standoff\": 15}, \"zerolinecolor\": \"white\", \"zerolinewidth\": 2}, \"yaxis\": {\"automargin\": true, \"gridcolor\": \"white\", \"linecolor\": \"white\", \"ticks\": \"\", \"title\": {\"standoff\": 15}, \"zerolinecolor\": \"white\", \"zerolinewidth\": 2}}}},\n",
              "                        {\"responsive\": true}\n",
              "                    ).then(function(){\n",
              "                            \n",
              "var gd = document.getElementById('0a9519df-6f25-4b61-a4ec-3cd1e715eca7');\n",
              "var x = new MutationObserver(function (mutations, observer) {{\n",
              "        var display = window.getComputedStyle(gd).display;\n",
              "        if (!display || display === 'none') {{\n",
              "            console.log([gd, 'removed!']);\n",
              "            Plotly.purge(gd);\n",
              "            observer.disconnect();\n",
              "        }}\n",
              "}});\n",
              "\n",
              "// Listen for the removal of the full notebook cells\n",
              "var notebookContainer = gd.closest('#notebook-container');\n",
              "if (notebookContainer) {{\n",
              "    x.observe(notebookContainer, {childList: true});\n",
              "}}\n",
              "\n",
              "// Listen for the clearing of the current output cell\n",
              "var outputEl = gd.closest('.output');\n",
              "if (outputEl) {{\n",
              "    x.observe(outputEl, {childList: true});\n",
              "}}\n",
              "\n",
              "                        })\n",
              "                };\n",
              "                \n",
              "            </script>\n",
              "        </div>\n",
              "</body>\n",
              "</html>"
            ]
          },
          "metadata": {
            "tags": []
          }
        }
      ]
    },
    {
      "cell_type": "markdown",
      "metadata": {
        "id": "8-fEV0jpPbLE"
      },
      "source": [
        "Above graph shows us the relationship between different variables of all states of India."
      ]
    },
    {
      "cell_type": "code",
      "metadata": {
        "colab": {
          "base_uri": "https://localhost:8080/",
          "height": 542
        },
        "id": "uIreyj9lPfXD",
        "outputId": "10cc0e5e-f20d-40d8-a10a-bffdea9d3e7f"
      },
      "source": [
        "fig = px.pie(df, values='Total Cases', names=df['State/UTs'], title='Covid cases (%) in all states of India')\n",
        "fig.show()"
      ],
      "execution_count": null,
      "outputs": [
        {
          "output_type": "display_data",
          "data": {
            "text/html": [
              "<html>\n",
              "<head><meta charset=\"utf-8\" /></head>\n",
              "<body>\n",
              "    <div>\n",
              "            <script src=\"https://cdnjs.cloudflare.com/ajax/libs/mathjax/2.7.5/MathJax.js?config=TeX-AMS-MML_SVG\"></script><script type=\"text/javascript\">if (window.MathJax) {MathJax.Hub.Config({SVG: {font: \"STIX-Web\"}});}</script>\n",
              "                <script type=\"text/javascript\">window.PlotlyConfig = {MathJaxConfig: 'local'};</script>\n",
              "        <script src=\"https://cdn.plot.ly/plotly-latest.min.js\"></script>    \n",
              "            <div id=\"c0cd6466-25c4-40f9-b1e1-35e20719b07b\" class=\"plotly-graph-div\" style=\"height:525px; width:100%;\"></div>\n",
              "            <script type=\"text/javascript\">\n",
              "                \n",
              "                    window.PLOTLYENV=window.PLOTLYENV || {};\n",
              "                    \n",
              "                if (document.getElementById(\"c0cd6466-25c4-40f9-b1e1-35e20719b07b\")) {\n",
              "                    Plotly.newPlot(\n",
              "                        'c0cd6466-25c4-40f9-b1e1-35e20719b07b',\n",
              "                        [{\"domain\": {\"x\": [0.0, 1.0], \"y\": [0.0, 1.0]}, \"hoverlabel\": {\"namelength\": 0}, \"hovertemplate\": \"State/UTs=%{label}<br>Total Cases=%{value}\", \"labels\": [\"Andaman and Nicobar\", \"Andhra Pradesh\", \"Arunachal Pradesh\", \"Assam\", \"Bihar\", \"Chandigarh\", \"Chhattisgarh\", \"Daman and Diu\", \"Delhi\", \"Goa\", \"Gujarat\", \"Haryana\", \"Himachal Pradesh\", \"Jammu and Kashmir\", \"Jharkhand\", \"Karnataka\", \"Kerala\", \"Ladakh\", \"Lakshadweep\", \"Madhya Pradesh\", \"Maharashtra\", \"Manipur\", \"Meghalaya\", \"Mizoram\", \"Nagaland\", \"Odisha\", \"Puducherry\", \"Punjab\", \"Rajasthan\", \"Sikkim\", \"Tamil Nadu\", \"Telengana\", \"Tripura\", \"Uttar Pradesh\", \"Uttarakhand\", \"West Bengal\"], \"legendgroup\": \"\", \"name\": \"\", \"showlegend\": true, \"type\": \"pie\", \"values\": [7525, 1952513, 45703, 557437, 724390, 61922, 1001037, 10637, 1435844, 170416, 824683, 769717, 205017, 320491, 346918, 2893556, 3254064, 20296, 10127, 791738, 6258079, 91460, 60597, 31145, 27240, 965715, 120227, 598741, 953522, 24823, 2546689, 640659, 76315, 1708152, 341673, 1522833]}],\n",
              "                        {\"legend\": {\"tracegroupgap\": 0}, \"template\": {\"data\": {\"bar\": [{\"error_x\": {\"color\": \"#2a3f5f\"}, \"error_y\": {\"color\": \"#2a3f5f\"}, \"marker\": {\"line\": {\"color\": \"#E5ECF6\", \"width\": 0.5}}, \"type\": \"bar\"}], \"barpolar\": [{\"marker\": {\"line\": {\"color\": \"#E5ECF6\", \"width\": 0.5}}, \"type\": \"barpolar\"}], \"carpet\": [{\"aaxis\": {\"endlinecolor\": \"#2a3f5f\", \"gridcolor\": \"white\", \"linecolor\": \"white\", \"minorgridcolor\": \"white\", \"startlinecolor\": \"#2a3f5f\"}, \"baxis\": {\"endlinecolor\": \"#2a3f5f\", \"gridcolor\": \"white\", \"linecolor\": \"white\", \"minorgridcolor\": \"white\", \"startlinecolor\": \"#2a3f5f\"}, \"type\": \"carpet\"}], \"choropleth\": [{\"colorbar\": {\"outlinewidth\": 0, \"ticks\": \"\"}, \"type\": \"choropleth\"}], \"contour\": [{\"colorbar\": {\"outlinewidth\": 0, \"ticks\": \"\"}, \"colorscale\": [[0.0, \"#0d0887\"], [0.1111111111111111, \"#46039f\"], [0.2222222222222222, \"#7201a8\"], [0.3333333333333333, \"#9c179e\"], [0.4444444444444444, \"#bd3786\"], [0.5555555555555556, \"#d8576b\"], [0.6666666666666666, \"#ed7953\"], [0.7777777777777778, \"#fb9f3a\"], [0.8888888888888888, \"#fdca26\"], [1.0, \"#f0f921\"]], \"type\": \"contour\"}], \"contourcarpet\": [{\"colorbar\": {\"outlinewidth\": 0, \"ticks\": \"\"}, \"type\": \"contourcarpet\"}], \"heatmap\": [{\"colorbar\": {\"outlinewidth\": 0, \"ticks\": \"\"}, \"colorscale\": [[0.0, \"#0d0887\"], [0.1111111111111111, \"#46039f\"], [0.2222222222222222, \"#7201a8\"], [0.3333333333333333, \"#9c179e\"], [0.4444444444444444, \"#bd3786\"], [0.5555555555555556, \"#d8576b\"], [0.6666666666666666, \"#ed7953\"], [0.7777777777777778, \"#fb9f3a\"], [0.8888888888888888, \"#fdca26\"], [1.0, \"#f0f921\"]], \"type\": \"heatmap\"}], \"heatmapgl\": [{\"colorbar\": {\"outlinewidth\": 0, \"ticks\": \"\"}, \"colorscale\": [[0.0, \"#0d0887\"], [0.1111111111111111, \"#46039f\"], [0.2222222222222222, \"#7201a8\"], [0.3333333333333333, \"#9c179e\"], [0.4444444444444444, \"#bd3786\"], [0.5555555555555556, \"#d8576b\"], [0.6666666666666666, \"#ed7953\"], [0.7777777777777778, \"#fb9f3a\"], [0.8888888888888888, \"#fdca26\"], [1.0, \"#f0f921\"]], \"type\": \"heatmapgl\"}], \"histogram\": [{\"marker\": {\"colorbar\": {\"outlinewidth\": 0, \"ticks\": \"\"}}, \"type\": \"histogram\"}], \"histogram2d\": [{\"colorbar\": {\"outlinewidth\": 0, \"ticks\": \"\"}, \"colorscale\": [[0.0, \"#0d0887\"], [0.1111111111111111, \"#46039f\"], [0.2222222222222222, \"#7201a8\"], [0.3333333333333333, \"#9c179e\"], [0.4444444444444444, \"#bd3786\"], [0.5555555555555556, \"#d8576b\"], [0.6666666666666666, \"#ed7953\"], [0.7777777777777778, \"#fb9f3a\"], [0.8888888888888888, \"#fdca26\"], [1.0, \"#f0f921\"]], \"type\": \"histogram2d\"}], \"histogram2dcontour\": [{\"colorbar\": {\"outlinewidth\": 0, \"ticks\": \"\"}, \"colorscale\": [[0.0, \"#0d0887\"], [0.1111111111111111, \"#46039f\"], [0.2222222222222222, \"#7201a8\"], [0.3333333333333333, \"#9c179e\"], [0.4444444444444444, \"#bd3786\"], [0.5555555555555556, \"#d8576b\"], [0.6666666666666666, \"#ed7953\"], [0.7777777777777778, \"#fb9f3a\"], [0.8888888888888888, \"#fdca26\"], [1.0, \"#f0f921\"]], \"type\": \"histogram2dcontour\"}], \"mesh3d\": [{\"colorbar\": {\"outlinewidth\": 0, \"ticks\": \"\"}, \"type\": \"mesh3d\"}], \"parcoords\": [{\"line\": {\"colorbar\": {\"outlinewidth\": 0, \"ticks\": \"\"}}, \"type\": \"parcoords\"}], \"pie\": [{\"automargin\": true, \"type\": \"pie\"}], \"scatter\": [{\"marker\": {\"colorbar\": {\"outlinewidth\": 0, \"ticks\": \"\"}}, \"type\": \"scatter\"}], \"scatter3d\": [{\"line\": {\"colorbar\": {\"outlinewidth\": 0, \"ticks\": \"\"}}, \"marker\": {\"colorbar\": {\"outlinewidth\": 0, \"ticks\": \"\"}}, \"type\": \"scatter3d\"}], \"scattercarpet\": [{\"marker\": {\"colorbar\": {\"outlinewidth\": 0, \"ticks\": \"\"}}, \"type\": \"scattercarpet\"}], \"scattergeo\": [{\"marker\": {\"colorbar\": {\"outlinewidth\": 0, \"ticks\": \"\"}}, \"type\": \"scattergeo\"}], \"scattergl\": [{\"marker\": {\"colorbar\": {\"outlinewidth\": 0, \"ticks\": \"\"}}, \"type\": \"scattergl\"}], \"scattermapbox\": [{\"marker\": {\"colorbar\": {\"outlinewidth\": 0, \"ticks\": \"\"}}, \"type\": \"scattermapbox\"}], \"scatterpolar\": [{\"marker\": {\"colorbar\": {\"outlinewidth\": 0, \"ticks\": \"\"}}, \"type\": \"scatterpolar\"}], \"scatterpolargl\": [{\"marker\": {\"colorbar\": {\"outlinewidth\": 0, \"ticks\": \"\"}}, \"type\": \"scatterpolargl\"}], \"scatterternary\": [{\"marker\": {\"colorbar\": {\"outlinewidth\": 0, \"ticks\": \"\"}}, \"type\": \"scatterternary\"}], \"surface\": [{\"colorbar\": {\"outlinewidth\": 0, \"ticks\": \"\"}, \"colorscale\": [[0.0, \"#0d0887\"], [0.1111111111111111, \"#46039f\"], [0.2222222222222222, \"#7201a8\"], [0.3333333333333333, \"#9c179e\"], [0.4444444444444444, \"#bd3786\"], [0.5555555555555556, \"#d8576b\"], [0.6666666666666666, \"#ed7953\"], [0.7777777777777778, \"#fb9f3a\"], [0.8888888888888888, \"#fdca26\"], [1.0, \"#f0f921\"]], \"type\": \"surface\"}], \"table\": [{\"cells\": {\"fill\": {\"color\": \"#EBF0F8\"}, \"line\": {\"color\": \"white\"}}, \"header\": {\"fill\": {\"color\": \"#C8D4E3\"}, \"line\": {\"color\": \"white\"}}, \"type\": \"table\"}]}, \"layout\": {\"annotationdefaults\": {\"arrowcolor\": \"#2a3f5f\", \"arrowhead\": 0, \"arrowwidth\": 1}, \"coloraxis\": {\"colorbar\": {\"outlinewidth\": 0, \"ticks\": \"\"}}, \"colorscale\": {\"diverging\": [[0, \"#8e0152\"], [0.1, \"#c51b7d\"], [0.2, \"#de77ae\"], [0.3, \"#f1b6da\"], [0.4, \"#fde0ef\"], [0.5, \"#f7f7f7\"], [0.6, \"#e6f5d0\"], [0.7, \"#b8e186\"], [0.8, \"#7fbc41\"], [0.9, \"#4d9221\"], [1, \"#276419\"]], \"sequential\": [[0.0, \"#0d0887\"], [0.1111111111111111, \"#46039f\"], [0.2222222222222222, \"#7201a8\"], [0.3333333333333333, \"#9c179e\"], [0.4444444444444444, \"#bd3786\"], [0.5555555555555556, \"#d8576b\"], [0.6666666666666666, \"#ed7953\"], [0.7777777777777778, \"#fb9f3a\"], [0.8888888888888888, \"#fdca26\"], [1.0, \"#f0f921\"]], \"sequentialminus\": [[0.0, \"#0d0887\"], [0.1111111111111111, \"#46039f\"], [0.2222222222222222, \"#7201a8\"], [0.3333333333333333, \"#9c179e\"], [0.4444444444444444, \"#bd3786\"], [0.5555555555555556, \"#d8576b\"], [0.6666666666666666, \"#ed7953\"], [0.7777777777777778, \"#fb9f3a\"], [0.8888888888888888, \"#fdca26\"], [1.0, \"#f0f921\"]]}, \"colorway\": [\"#636efa\", \"#EF553B\", \"#00cc96\", \"#ab63fa\", \"#FFA15A\", \"#19d3f3\", \"#FF6692\", \"#B6E880\", \"#FF97FF\", \"#FECB52\"], \"font\": {\"color\": \"#2a3f5f\"}, \"geo\": {\"bgcolor\": \"white\", \"lakecolor\": \"white\", \"landcolor\": \"#E5ECF6\", \"showlakes\": true, \"showland\": true, \"subunitcolor\": \"white\"}, \"hoverlabel\": {\"align\": \"left\"}, \"hovermode\": \"closest\", \"mapbox\": {\"style\": \"light\"}, \"paper_bgcolor\": \"white\", \"plot_bgcolor\": \"#E5ECF6\", \"polar\": {\"angularaxis\": {\"gridcolor\": \"white\", \"linecolor\": \"white\", \"ticks\": \"\"}, \"bgcolor\": \"#E5ECF6\", \"radialaxis\": {\"gridcolor\": \"white\", \"linecolor\": \"white\", \"ticks\": \"\"}}, \"scene\": {\"xaxis\": {\"backgroundcolor\": \"#E5ECF6\", \"gridcolor\": \"white\", \"gridwidth\": 2, \"linecolor\": \"white\", \"showbackground\": true, \"ticks\": \"\", \"zerolinecolor\": \"white\"}, \"yaxis\": {\"backgroundcolor\": \"#E5ECF6\", \"gridcolor\": \"white\", \"gridwidth\": 2, \"linecolor\": \"white\", \"showbackground\": true, \"ticks\": \"\", \"zerolinecolor\": \"white\"}, \"zaxis\": {\"backgroundcolor\": \"#E5ECF6\", \"gridcolor\": \"white\", \"gridwidth\": 2, \"linecolor\": \"white\", \"showbackground\": true, \"ticks\": \"\", \"zerolinecolor\": \"white\"}}, \"shapedefaults\": {\"line\": {\"color\": \"#2a3f5f\"}}, \"ternary\": {\"aaxis\": {\"gridcolor\": \"white\", \"linecolor\": \"white\", \"ticks\": \"\"}, \"baxis\": {\"gridcolor\": \"white\", \"linecolor\": \"white\", \"ticks\": \"\"}, \"bgcolor\": \"#E5ECF6\", \"caxis\": {\"gridcolor\": \"white\", \"linecolor\": \"white\", \"ticks\": \"\"}}, \"title\": {\"x\": 0.05}, \"xaxis\": {\"automargin\": true, \"gridcolor\": \"white\", \"linecolor\": \"white\", \"ticks\": \"\", \"title\": {\"standoff\": 15}, \"zerolinecolor\": \"white\", \"zerolinewidth\": 2}, \"yaxis\": {\"automargin\": true, \"gridcolor\": \"white\", \"linecolor\": \"white\", \"ticks\": \"\", \"title\": {\"standoff\": 15}, \"zerolinecolor\": \"white\", \"zerolinewidth\": 2}}}, \"title\": {\"text\": \"Covid cases (%) in all states of India\"}},\n",
              "                        {\"responsive\": true}\n",
              "                    ).then(function(){\n",
              "                            \n",
              "var gd = document.getElementById('c0cd6466-25c4-40f9-b1e1-35e20719b07b');\n",
              "var x = new MutationObserver(function (mutations, observer) {{\n",
              "        var display = window.getComputedStyle(gd).display;\n",
              "        if (!display || display === 'none') {{\n",
              "            console.log([gd, 'removed!']);\n",
              "            Plotly.purge(gd);\n",
              "            observer.disconnect();\n",
              "        }}\n",
              "}});\n",
              "\n",
              "// Listen for the removal of the full notebook cells\n",
              "var notebookContainer = gd.closest('#notebook-container');\n",
              "if (notebookContainer) {{\n",
              "    x.observe(notebookContainer, {childList: true});\n",
              "}}\n",
              "\n",
              "// Listen for the clearing of the current output cell\n",
              "var outputEl = gd.closest('.output');\n",
              "if (outputEl) {{\n",
              "    x.observe(outputEl, {childList: true});\n",
              "}}\n",
              "\n",
              "                        })\n",
              "                };\n",
              "                \n",
              "            </script>\n",
              "        </div>\n",
              "</body>\n",
              "</html>"
            ]
          },
          "metadata": {
            "tags": []
          }
        }
      ]
    },
    {
      "cell_type": "markdown",
      "metadata": {
        "id": "2H5cJ4S_Pr7e"
      },
      "source": [
        "Above graph shows us that more than 50% of covid cases in india are coming only from 4 to 5 states."
      ]
    },
    {
      "cell_type": "code",
      "metadata": {
        "colab": {
          "base_uri": "https://localhost:8080/",
          "height": 612
        },
        "id": "ULArOiX3a0UC",
        "outputId": "664e6838-107a-4f2d-8b24-f2442124ee27"
      },
      "source": [
        "#Active Cases - State/UTs\n",
        "plt.figure(figsize=(5,10))\n",
        "data = df.sort_values(by=['Active'],ascending=False)\n",
        "sns.barplot(x=data['Active'],y=data['State/UTs'])\n",
        "plt.xticks(rotation=90)\n",
        "plt.xlabel('Active')\n",
        "plt.ylabel('State/UTs')\n",
        "plt.show()"
      ],
      "execution_count": null,
      "outputs": [
        {
          "output_type": "display_data",
          "data": {
            "image/png": "[encoded data removed]",
            "text/plain": [
              "<Figure size 360x720 with 1 Axes>"
            ]
          },
          "metadata": {
            "tags": [],
            "needs_background": "light"
          }
        }
      ]
    },
    {
      "cell_type": "code",
      "metadata": {
        "colab": {
          "base_uri": "https://localhost:8080/",
          "height": 568
        },
        "id": "p0iGQfRLbyle",
        "outputId": "0b1a2fdc-d1bd-4644-d7ba-5cb0ac29e192"
      },
      "source": [
        "#Active - Total Cases - State/UTs\n",
        "plt.figure(figsize=(20,5))\n",
        "plt.xticks(rotation=90)\n",
        "sns.pointplot(x='State/UTs',y='Active',data=df,color='darkblue')\n",
        "sns.pointplot(x='State/UTs',y='Total Cases',data=df,color='darkgreen')\n",
        "\n",
        "plt.text(32,5200000,'Active',color='darkblue',fontsize=12)\n",
        "plt.text(32,4600000,'Total Cases',color='darkgreen',fontsize=12)\n",
        "\n",
        "plt.xlabel('State',fontsize=14)\n",
        "plt.ylabel('Value',fontsize=14)\n",
        "plt.title('Active - Total Cases - State/UTs',fontsize=14)\n",
        "plt.grid()"
      ],
      "execution_count": 16,
      "outputs": [
        {
          "output_type": "display_data",
          "data": {
            "image/png": "[encoded data removed]",
            "text/plain": [
              "<Figure size 1440x360 with 1 Axes>"
            ]
          },
          "metadata": {
            "tags": [],
            "needs_background": "light"
          }
        }
      ]
    },
    {
      "cell_type": "code",
      "metadata": {
        "colab": {
          "base_uri": "https://localhost:8080/",
          "height": 507
        },
        "id": "RKSrtQ1JIWtF",
        "outputId": "d07b0218-797d-449e-9fc4-3c56580774c1"
      },
      "source": [
        "#Discharged\n",
        "plt.xticks(rotation=90)\n",
        "plt.bar(df['State/UTs'],height=df['Discharged'],color = 'green')"
      ],
      "execution_count": 5,
      "outputs": [
        {
          "output_type": "execute_result",
          "data": {
            "text/plain": [
              "<BarContainer object of 36 artists>"
            ]
          },
          "metadata": {
            "tags": []
          },
          "execution_count": 5
        },
        {
          "output_type": "display_data",
          "data": {
            "image/png": "[encoded data removed]",
            "text/plain": [
              "<Figure size 432x288 with 1 Axes>"
            ]
          },
          "metadata": {
            "tags": [],
            "needs_background": "light"
          }
        }
      ]
    },
    {
      "cell_type": "code",
      "metadata": {
        "colab": {
          "base_uri": "https://localhost:8080/",
          "height": 496
        },
        "id": "Xz9K80_jJAaJ",
        "outputId": "5a5c6e7f-8be5-43d8-db41-fdf6e49bca5b"
      },
      "source": [
        "#Active Ratio\n",
        "plt.xticks(rotation=90)\n",
        "plt.bar(df['State/UTs'],height=df['Active Ratio (%)'],color = 'red')"
      ],
      "execution_count": 12,
      "outputs": [
        {
          "output_type": "execute_result",
          "data": {
            "text/plain": [
              "<BarContainer object of 36 artists>"
            ]
          },
          "metadata": {
            "tags": []
          },
          "execution_count": 12
        },
        {
          "output_type": "display_data",
          "data": {
            "image/png": "[encoded data removed]",
            "text/plain": [
              "<Figure size 432x288 with 1 Axes>"
            ]
          },
          "metadata": {
            "tags": [],
            "needs_background": "light"
          }
        }
      ]
    },
    {
      "cell_type": "markdown",
      "metadata": {
        "id": "lTU0ilhSlIIv"
      },
      "source": [
        "**Q1)Active cases in india?**\n"
      ]
    },
    {
      "cell_type": "code",
      "metadata": {
        "colab": {
          "base_uri": "https://localhost:8080/"
        },
        "id": "VBD2FbltlVBu",
        "outputId": "210043cd-84bc-4efe-ca85-2e5d1e8bf60b"
      },
      "source": [
        "df.Active.sum()"
      ],
      "execution_count": null,
      "outputs": [
        {
          "output_type": "execute_result",
          "data": {
            "text/plain": [
              "1655848"
            ]
          },
          "metadata": {
            "tags": []
          },
          "execution_count": 29
        }
      ]
    },
    {
      "cell_type": "markdown",
      "metadata": {
        "id": "UCOinQkQlyTf"
      },
      "source": [
        "**Q2)Total Number of covid death in India?**"
      ]
    },
    {
      "cell_type": "code",
      "metadata": {
        "colab": {
          "base_uri": "https://localhost:8080/"
        },
        "id": "LgdXx4iHmC6u",
        "outputId": "61fd7a78-cff0-466e-ed69-e9ae3542f853"
      },
      "source": [
        "df.Deaths.sum()"
      ],
      "execution_count": null,
      "outputs": [
        {
          "output_type": "execute_result",
          "data": {
            "text/plain": [
              "420551"
            ]
          },
          "metadata": {
            "tags": []
          },
          "execution_count": 30
        }
      ]
    },
    {
      "cell_type": "markdown",
      "metadata": {
        "id": "SiAZCVk_P54v"
      },
      "source": [
        "**Q3)State having highest number of Covid cases in India.**"
      ]
    },
    {
      "cell_type": "code",
      "metadata": {
        "colab": {
          "base_uri": "https://localhost:8080/",
          "height": 80
        },
        "id": "_ipoqZioP8tH",
        "outputId": "813b575f-fc45-45be-c2dd-9f3e578990ae"
      },
      "source": [
        "highest_cases = df[df['Total Cases'] == max(df['Total Cases'])]\n",
        "highest_cases"
      ],
      "execution_count": null,
      "outputs": [
        {
          "output_type": "execute_result",
          "data": {
            "text/html": [
              "<div>\n",
              "<style scoped>\n",
              "    .dataframe tbody tr th:only-of-type {\n",
              "        vertical-align: middle;\n",
              "    }\n",
              "\n",
              "    .dataframe tbody tr th {\n",
              "        vertical-align: top;\n",
              "    }\n",
              "\n",
              "    .dataframe thead th {\n",
              "        text-align: right;\n",
              "    }\n",
              "</style>\n",
              "<table border=\"1\" class=\"dataframe\">\n",
              "  <thead>\n",
              "    <tr style=\"text-align: right;\">\n",
              "      <th></th>\n",
              "      <th>State/UTs</th>\n",
              "      <th>Total Cases</th>\n",
              "      <th>Active</th>\n",
              "      <th>Discharged</th>\n",
              "      <th>Deaths</th>\n",
              "      <th>Active Ratio (%)</th>\n",
              "      <th>Discharge Ratio (%)</th>\n",
              "      <th>Death Ratio (%)</th>\n",
              "    </tr>\n",
              "  </thead>\n",
              "  <tbody>\n",
              "    <tr>\n",
              "      <th>20</th>\n",
              "      <td>Maharashtra</td>\n",
              "      <td>6258079</td>\n",
              "      <td>96833</td>\n",
              "      <td>6029817</td>\n",
              "      <td>131429</td>\n",
              "      <td>1.55</td>\n",
              "      <td>96.35</td>\n",
              "      <td>2.1</td>\n",
              "    </tr>\n",
              "  </tbody>\n",
              "</table>\n",
              "</div>"
            ],
            "text/plain": [
              "      State/UTs  Total Cases  ...  Discharge Ratio (%)  Death Ratio (%)\n",
              "20  Maharashtra      6258079  ...                96.35              2.1\n",
              "\n",
              "[1 rows x 8 columns]"
            ]
          },
          "metadata": {
            "tags": []
          },
          "execution_count": 20
        }
      ]
    },
    {
      "cell_type": "markdown",
      "metadata": {
        "id": "hgoLh736tIG-"
      },
      "source": [
        "**Q4)State having Lowest number of covid cases in India.**"
      ]
    },
    {
      "cell_type": "code",
      "metadata": {
        "colab": {
          "base_uri": "https://localhost:8080/",
          "height": 80
        },
        "id": "loRnQ_2VQF9L",
        "outputId": "89e55db3-3308-426c-d962-fd7c848764b0"
      },
      "source": [
        "lowest_cases = df[df['Total Cases'] == min(df['Total Cases'])]\n",
        "lowest_cases"
      ],
      "execution_count": null,
      "outputs": [
        {
          "output_type": "execute_result",
          "data": {
            "text/html": [
              "<div>\n",
              "<style scoped>\n",
              "    .dataframe tbody tr th:only-of-type {\n",
              "        vertical-align: middle;\n",
              "    }\n",
              "\n",
              "    .dataframe tbody tr th {\n",
              "        vertical-align: top;\n",
              "    }\n",
              "\n",
              "    .dataframe thead th {\n",
              "        text-align: right;\n",
              "    }\n",
              "</style>\n",
              "<table border=\"1\" class=\"dataframe\">\n",
              "  <thead>\n",
              "    <tr style=\"text-align: right;\">\n",
              "      <th></th>\n",
              "      <th>State/UTs</th>\n",
              "      <th>Total Cases</th>\n",
              "      <th>Active</th>\n",
              "      <th>Discharged</th>\n",
              "      <th>Deaths</th>\n",
              "      <th>Active Ratio (%)</th>\n",
              "      <th>Discharge Ratio (%)</th>\n",
              "      <th>Death Ratio (%)</th>\n",
              "    </tr>\n",
              "  </thead>\n",
              "  <tbody>\n",
              "    <tr>\n",
              "      <th>0</th>\n",
              "      <td>Andaman and Nicobar</td>\n",
              "      <td>7525</td>\n",
              "      <td>14</td>\n",
              "      <td>7382</td>\n",
              "      <td>129</td>\n",
              "      <td>0.19</td>\n",
              "      <td>98.1</td>\n",
              "      <td>1.71</td>\n",
              "    </tr>\n",
              "  </tbody>\n",
              "</table>\n",
              "</div>"
            ],
            "text/plain": [
              "             State/UTs  Total Cases  ...  Discharge Ratio (%)  Death Ratio (%)\n",
              "0  Andaman and Nicobar         7525  ...                 98.1             1.71\n",
              "\n",
              "[1 rows x 8 columns]"
            ]
          },
          "metadata": {
            "tags": []
          },
          "execution_count": 21
        }
      ]
    },
    {
      "cell_type": "code",
      "metadata": {
        "colab": {
          "base_uri": "https://localhost:8080/",
          "height": 507
        },
        "id": "0gKUTApffvIH",
        "outputId": "1ac23125-4de1-40e0-8663-080d8cd95d40"
      },
      "source": [
        "plt.xticks(rotation=90)\n",
        "plt.bar(df['State/UTs'],height=df['Total Cases'])"
      ],
      "execution_count": null,
      "outputs": [
        {
          "output_type": "execute_result",
          "data": {
            "text/plain": [
              "<BarContainer object of 36 artists>"
            ]
          },
          "metadata": {
            "tags": []
          },
          "execution_count": 14
        },
        {
          "output_type": "display_data",
          "data": {
            "image/png": "[encoded data removed]",
            "text/plain": [
              "<Figure size 432x288 with 1 Axes>"
            ]
          },
          "metadata": {
            "tags": [],
            "needs_background": "light"
          }
        }
      ]
    },
    {
      "cell_type": "markdown",
      "metadata": {
        "id": "cPvKCKEUgE-V"
      },
      "source": [
        "Highest total cases are in Maharashtra and \n",
        "Lowest total cases are in Andaman and Nicobar"
      ]
    },
    {
      "cell_type": "markdown",
      "metadata": {
        "id": "TzoglRfvdE7c"
      },
      "source": [
        "**Q5)Top 5 total cases in the country?**"
      ]
    },
    {
      "cell_type": "code",
      "metadata": {
        "colab": {
          "base_uri": "https://localhost:8080/",
          "height": 388
        },
        "id": "LnAiZwo0c9tj",
        "outputId": "9b0c1cb7-b641-4dcf-e6ae-3f99774581fe"
      },
      "source": [
        "\n",
        "top_5 = df.sort_values(by=['Total Cases'], ascending=False).head()\n",
        "\n",
        "plt.figure(figsize=(15,5))\n",
        "Total = sns.barplot(top_5['Total Cases'], top_5['State/UTs'], color = 'red', label='Total Cases')"
      ],
      "execution_count": null,
      "outputs": [
        {
          "output_type": "stream",
          "text": [
            "/usr/local/lib/python3.7/dist-packages/seaborn/_decorators.py:43: FutureWarning: Pass the following variables as keyword args: x, y. From version 0.12, the only valid positional argument will be `data`, and passing other arguments without an explicit keyword will result in an error or misinterpretation.\n",
            "  FutureWarning\n"
          ],
          "name": "stderr"
        },
        {
          "output_type": "display_data",
          "data": {
            "image/png": "[encoded data removed]",
            "text/plain": [
              "<Figure size 1080x360 with 1 Axes>"
            ]
          },
          "metadata": {
            "tags": [],
            "needs_background": "light"
          }
        }
      ]
    },
    {
      "cell_type": "markdown",
      "metadata": {
        "id": "sTdZXilUtDdV"
      },
      "source": [
        "**Q6)State having highest number of Active cases in India.**"
      ]
    },
    {
      "cell_type": "code",
      "metadata": {
        "colab": {
          "base_uri": "https://localhost:8080/",
          "height": 80
        },
        "id": "x5tU-M73QO5E",
        "outputId": "3b487ce7-7955-4424-9d32-3728b95a4b64"
      },
      "source": [
        "highest_active = df[df['Active'] == max(df['Active'])]\n",
        "highest_active"
      ],
      "execution_count": null,
      "outputs": [
        {
          "output_type": "execute_result",
          "data": {
            "text/html": [
              "<div>\n",
              "<style scoped>\n",
              "    .dataframe tbody tr th:only-of-type {\n",
              "        vertical-align: middle;\n",
              "    }\n",
              "\n",
              "    .dataframe tbody tr th {\n",
              "        vertical-align: top;\n",
              "    }\n",
              "\n",
              "    .dataframe thead th {\n",
              "        text-align: right;\n",
              "    }\n",
              "</style>\n",
              "<table border=\"1\" class=\"dataframe\">\n",
              "  <thead>\n",
              "    <tr style=\"text-align: right;\">\n",
              "      <th></th>\n",
              "      <th>State/UTs</th>\n",
              "      <th>Total Cases</th>\n",
              "      <th>Active</th>\n",
              "      <th>Discharged</th>\n",
              "      <th>Deaths</th>\n",
              "      <th>Active Ratio (%)</th>\n",
              "      <th>Discharge Ratio (%)</th>\n",
              "      <th>Death Ratio (%)</th>\n",
              "    </tr>\n",
              "  </thead>\n",
              "  <tbody>\n",
              "    <tr>\n",
              "      <th>16</th>\n",
              "      <td>Kerala</td>\n",
              "      <td>3254064</td>\n",
              "      <td>1386262</td>\n",
              "      <td>3099469</td>\n",
              "      <td>15969</td>\n",
              "      <td>4.26</td>\n",
              "      <td>95.25</td>\n",
              "      <td>0.49</td>\n",
              "    </tr>\n",
              "  </tbody>\n",
              "</table>\n",
              "</div>"
            ],
            "text/plain": [
              "   State/UTs  Total Cases  ...  Discharge Ratio (%)  Death Ratio (%)\n",
              "16    Kerala      3254064  ...                95.25             0.49\n",
              "\n",
              "[1 rows x 8 columns]"
            ]
          },
          "metadata": {
            "tags": []
          },
          "execution_count": 22
        }
      ]
    },
    {
      "cell_type": "markdown",
      "metadata": {
        "id": "Oy2xKSHStbkI"
      },
      "source": [
        "**Q7)State having Lowest number of Active cases in India.**"
      ]
    },
    {
      "cell_type": "code",
      "metadata": {
        "colab": {
          "base_uri": "https://localhost:8080/",
          "height": 80
        },
        "id": "mNE5s0_MQQo2",
        "outputId": "b30d75c6-456b-4ddb-e849-a6e0ae72e188"
      },
      "source": [
        "lowest_active = df[df['Active'] == min(df['Active'])]\n",
        "lowest_active"
      ],
      "execution_count": null,
      "outputs": [
        {
          "output_type": "execute_result",
          "data": {
            "text/html": [
              "<div>\n",
              "<style scoped>\n",
              "    .dataframe tbody tr th:only-of-type {\n",
              "        vertical-align: middle;\n",
              "    }\n",
              "\n",
              "    .dataframe tbody tr th {\n",
              "        vertical-align: top;\n",
              "    }\n",
              "\n",
              "    .dataframe thead th {\n",
              "        text-align: right;\n",
              "    }\n",
              "</style>\n",
              "<table border=\"1\" class=\"dataframe\">\n",
              "  <thead>\n",
              "    <tr style=\"text-align: right;\">\n",
              "      <th></th>\n",
              "      <th>State/UTs</th>\n",
              "      <th>Total Cases</th>\n",
              "      <th>Active</th>\n",
              "      <th>Discharged</th>\n",
              "      <th>Deaths</th>\n",
              "      <th>Active Ratio (%)</th>\n",
              "      <th>Discharge Ratio (%)</th>\n",
              "      <th>Death Ratio (%)</th>\n",
              "    </tr>\n",
              "  </thead>\n",
              "  <tbody>\n",
              "    <tr>\n",
              "      <th>0</th>\n",
              "      <td>Andaman and Nicobar</td>\n",
              "      <td>7525</td>\n",
              "      <td>14</td>\n",
              "      <td>7382</td>\n",
              "      <td>129</td>\n",
              "      <td>0.19</td>\n",
              "      <td>98.1</td>\n",
              "      <td>1.71</td>\n",
              "    </tr>\n",
              "  </tbody>\n",
              "</table>\n",
              "</div>"
            ],
            "text/plain": [
              "             State/UTs  Total Cases  ...  Discharge Ratio (%)  Death Ratio (%)\n",
              "0  Andaman and Nicobar         7525  ...                 98.1             1.71\n",
              "\n",
              "[1 rows x 8 columns]"
            ]
          },
          "metadata": {
            "tags": []
          },
          "execution_count": 27
        }
      ]
    },
    {
      "cell_type": "code",
      "metadata": {
        "colab": {
          "base_uri": "https://localhost:8080/",
          "height": 507
        },
        "id": "K9Cbfa6ogXYq",
        "outputId": "10fe6a8e-1501-4b10-a56b-d7c9a26f249a"
      },
      "source": [
        "plt.xticks(rotation=90)\n",
        "plt.bar(df['State/UTs'],height=df['Active'],color = 'red')"
      ],
      "execution_count": null,
      "outputs": [
        {
          "output_type": "execute_result",
          "data": {
            "text/plain": [
              "<BarContainer object of 36 artists>"
            ]
          },
          "metadata": {
            "tags": []
          },
          "execution_count": 16
        },
        {
          "output_type": "display_data",
          "data": {
            "image/png": "[encoded data removed]",
            "text/plain": [
              "<Figure size 432x288 with 1 Axes>"
            ]
          },
          "metadata": {
            "tags": [],
            "needs_background": "light"
          }
        }
      ]
    },
    {
      "cell_type": "markdown",
      "metadata": {
        "id": "Gl2aAEKegiEU"
      },
      "source": [
        "Highest active cases are in Kerala and\n",
        "Lowest active cases are in Andaman and Nicobar"
      ]
    },
    {
      "cell_type": "markdown",
      "metadata": {
        "id": "5ORTs_vLti97"
      },
      "source": [
        "**Q8)State having highest number of death ratio in India?**"
      ]
    },
    {
      "cell_type": "code",
      "metadata": {
        "colab": {
          "base_uri": "https://localhost:8080/",
          "height": 80
        },
        "id": "tPRl_mg6QV75",
        "outputId": "5ab3e6f8-44bb-469e-fd22-4004c998f2cf"
      },
      "source": [
        "highest_death_ratio = df[df['Death Ratio (%)'] == max(df['Death Ratio (%)'])]\n",
        "highest_death_ratio"
      ],
      "execution_count": null,
      "outputs": [
        {
          "output_type": "execute_result",
          "data": {
            "text/html": [
              "<div>\n",
              "<style scoped>\n",
              "    .dataframe tbody tr th:only-of-type {\n",
              "        vertical-align: middle;\n",
              "    }\n",
              "\n",
              "    .dataframe tbody tr th {\n",
              "        vertical-align: top;\n",
              "    }\n",
              "\n",
              "    .dataframe thead th {\n",
              "        text-align: right;\n",
              "    }\n",
              "</style>\n",
              "<table border=\"1\" class=\"dataframe\">\n",
              "  <thead>\n",
              "    <tr style=\"text-align: right;\">\n",
              "      <th></th>\n",
              "      <th>State/UTs</th>\n",
              "      <th>Total Cases</th>\n",
              "      <th>Active</th>\n",
              "      <th>Discharged</th>\n",
              "      <th>Deaths</th>\n",
              "      <th>Active Ratio (%)</th>\n",
              "      <th>Discharge Ratio (%)</th>\n",
              "      <th>Death Ratio (%)</th>\n",
              "    </tr>\n",
              "  </thead>\n",
              "  <tbody>\n",
              "    <tr>\n",
              "      <th>27</th>\n",
              "      <td>Punjab</td>\n",
              "      <td>598741</td>\n",
              "      <td>771</td>\n",
              "      <td>581712</td>\n",
              "      <td>16258</td>\n",
              "      <td>0.13</td>\n",
              "      <td>97.16</td>\n",
              "      <td>2.72</td>\n",
              "    </tr>\n",
              "  </tbody>\n",
              "</table>\n",
              "</div>"
            ],
            "text/plain": [
              "   State/UTs  Total Cases  ...  Discharge Ratio (%)  Death Ratio (%)\n",
              "27    Punjab       598741  ...                97.16             2.72\n",
              "\n",
              "[1 rows x 8 columns]"
            ]
          },
          "metadata": {
            "tags": []
          },
          "execution_count": 28
        }
      ]
    },
    {
      "cell_type": "markdown",
      "metadata": {
        "id": "P6XTxiuut0sY"
      },
      "source": [
        "**Q9)State having lowest number of death ratio in India?**"
      ]
    },
    {
      "cell_type": "code",
      "metadata": {
        "colab": {
          "base_uri": "https://localhost:8080/",
          "height": 80
        },
        "id": "a49w2kOWQbkm",
        "outputId": "6a7a46f3-8cd4-4772-d341-17f1cd425216"
      },
      "source": [
        "lowest_death_ratio = df[df['Death Ratio (%)'] == min(df['Death Ratio (%)'])]\n",
        "lowest_death_ratio"
      ],
      "execution_count": null,
      "outputs": [
        {
          "output_type": "execute_result",
          "data": {
            "text/html": [
              "<div>\n",
              "<style scoped>\n",
              "    .dataframe tbody tr th:only-of-type {\n",
              "        vertical-align: middle;\n",
              "    }\n",
              "\n",
              "    .dataframe tbody tr th {\n",
              "        vertical-align: top;\n",
              "    }\n",
              "\n",
              "    .dataframe thead th {\n",
              "        text-align: right;\n",
              "    }\n",
              "</style>\n",
              "<table border=\"1\" class=\"dataframe\">\n",
              "  <thead>\n",
              "    <tr style=\"text-align: right;\">\n",
              "      <th></th>\n",
              "      <th>State/UTs</th>\n",
              "      <th>Total Cases</th>\n",
              "      <th>Active</th>\n",
              "      <th>Discharged</th>\n",
              "      <th>Deaths</th>\n",
              "      <th>Active Ratio (%)</th>\n",
              "      <th>Discharge Ratio (%)</th>\n",
              "      <th>Death Ratio (%)</th>\n",
              "    </tr>\n",
              "  </thead>\n",
              "  <tbody>\n",
              "    <tr>\n",
              "      <th>7</th>\n",
              "      <td>Daman and Diu</td>\n",
              "      <td>10637</td>\n",
              "      <td>48</td>\n",
              "      <td>10585</td>\n",
              "      <td>4</td>\n",
              "      <td>0.45</td>\n",
              "      <td>99.51</td>\n",
              "      <td>0.04</td>\n",
              "    </tr>\n",
              "  </tbody>\n",
              "</table>\n",
              "</div>"
            ],
            "text/plain": [
              "       State/UTs  Total Cases  ...  Discharge Ratio (%)  Death Ratio (%)\n",
              "7  Daman and Diu        10637  ...                99.51             0.04\n",
              "\n",
              "[1 rows x 8 columns]"
            ]
          },
          "metadata": {
            "tags": []
          },
          "execution_count": 29
        }
      ]
    },
    {
      "cell_type": "code",
      "metadata": {
        "colab": {
          "base_uri": "https://localhost:8080/",
          "height": 496
        },
        "id": "h5s-TWpMidEn",
        "outputId": "4d962518-d01d-4c4a-bcb2-53a0934bea43"
      },
      "source": [
        "#DEATH RATIO\n",
        "plt.xticks(rotation=90)\n",
        "plt.bar(df['State/UTs'],height=df['Death Ratio (%)'],color = 'Black')"
      ],
      "execution_count": null,
      "outputs": [
        {
          "output_type": "execute_result",
          "data": {
            "text/plain": [
              "<BarContainer object of 36 artists>"
            ]
          },
          "metadata": {
            "tags": []
          },
          "execution_count": 22
        },
        {
          "output_type": "display_data",
          "data": {
            "image/png": "[encoded data removed]",
            "text/plain": [
              "<Figure size 432x288 with 1 Axes>"
            ]
          },
          "metadata": {
            "tags": [],
            "needs_background": "light"
          }
        }
      ]
    },
    {
      "cell_type": "markdown",
      "metadata": {
        "id": "5NseFfrHjODj"
      },
      "source": [
        "**Q10)Top 5 dicharge reported state in india?**"
      ]
    },
    {
      "cell_type": "code",
      "metadata": {
        "colab": {
          "base_uri": "https://localhost:8080/",
          "height": 388
        },
        "id": "kzjKOCNMjJ8N",
        "outputId": "76c2ba56-9586-4510-a915-1aab49e0cb2a"
      },
      "source": [
        "top_5 = df.sort_values(by=['Discharged'], ascending=False).head()\n",
        "\n",
        "plt.figure(figsize=(15,5))\n",
        "Total = sns.barplot(top_5['Discharged'], top_5['State/UTs'], color = 'green', label='Discharged')"
      ],
      "execution_count": null,
      "outputs": [
        {
          "output_type": "stream",
          "text": [
            "/usr/local/lib/python3.7/dist-packages/seaborn/_decorators.py:43: FutureWarning: Pass the following variables as keyword args: x, y. From version 0.12, the only valid positional argument will be `data`, and passing other arguments without an explicit keyword will result in an error or misinterpretation.\n",
            "  FutureWarning\n"
          ],
          "name": "stderr"
        },
        {
          "output_type": "display_data",
          "data": {
            "image/png": "[encoded data removed]",
            "text/plain": [
              "<Figure size 1080x360 with 1 Axes>"
            ]
          },
          "metadata": {
            "tags": [],
            "needs_background": "light"
          }
        }
      ]
    },
    {
      "cell_type": "markdown",
      "metadata": {
        "id": "z9RUbAR8uCXL"
      },
      "source": [
        "**Q11)State having highest discharge ratio in India?**"
      ]
    },
    {
      "cell_type": "code",
      "metadata": {
        "colab": {
          "base_uri": "https://localhost:8080/",
          "height": 80
        },
        "id": "KixvjG7vQkI_",
        "outputId": "7f988b5e-6dbf-4f40-983b-9e791b87141b"
      },
      "source": [
        "\n",
        "highest_discharge_ratio = df[df['Discharge Ratio (%)'] == max(df['Discharge Ratio (%)'])]\n",
        "highest_discharge_ratio"
      ],
      "execution_count": null,
      "outputs": [
        {
          "output_type": "execute_result",
          "data": {
            "text/html": [
              "<div>\n",
              "<style scoped>\n",
              "    .dataframe tbody tr th:only-of-type {\n",
              "        vertical-align: middle;\n",
              "    }\n",
              "\n",
              "    .dataframe tbody tr th {\n",
              "        vertical-align: top;\n",
              "    }\n",
              "\n",
              "    .dataframe thead th {\n",
              "        text-align: right;\n",
              "    }\n",
              "</style>\n",
              "<table border=\"1\" class=\"dataframe\">\n",
              "  <thead>\n",
              "    <tr style=\"text-align: right;\">\n",
              "      <th></th>\n",
              "      <th>State/UTs</th>\n",
              "      <th>Total Cases</th>\n",
              "      <th>Active</th>\n",
              "      <th>Discharged</th>\n",
              "      <th>Deaths</th>\n",
              "      <th>Active Ratio (%)</th>\n",
              "      <th>Discharge Ratio (%)</th>\n",
              "      <th>Death Ratio (%)</th>\n",
              "    </tr>\n",
              "  </thead>\n",
              "  <tbody>\n",
              "    <tr>\n",
              "      <th>7</th>\n",
              "      <td>Daman and Diu</td>\n",
              "      <td>10637</td>\n",
              "      <td>48</td>\n",
              "      <td>10585</td>\n",
              "      <td>4</td>\n",
              "      <td>0.45</td>\n",
              "      <td>99.51</td>\n",
              "      <td>0.04</td>\n",
              "    </tr>\n",
              "  </tbody>\n",
              "</table>\n",
              "</div>"
            ],
            "text/plain": [
              "       State/UTs  Total Cases  ...  Discharge Ratio (%)  Death Ratio (%)\n",
              "7  Daman and Diu        10637  ...                99.51             0.04\n",
              "\n",
              "[1 rows x 8 columns]"
            ]
          },
          "metadata": {
            "tags": []
          },
          "execution_count": 30
        }
      ]
    },
    {
      "cell_type": "markdown",
      "metadata": {
        "id": "WZjmVixCuPec"
      },
      "source": [
        "**Q12)State having lowest discharge ratio in India?**"
      ]
    },
    {
      "cell_type": "code",
      "metadata": {
        "colab": {
          "base_uri": "https://localhost:8080/",
          "height": 80
        },
        "id": "WLohwYIPQlwL",
        "outputId": "dc83006c-69ee-4774-80a7-439839b43b89"
      },
      "source": [
        "lowest_discharge_ratio = df[df['Discharge Ratio (%)'] == min(df['Discharge Ratio (%)'])]\n",
        "lowest_discharge_ratio"
      ],
      "execution_count": null,
      "outputs": [
        {
          "output_type": "execute_result",
          "data": {
            "text/html": [
              "<div>\n",
              "<style scoped>\n",
              "    .dataframe tbody tr th:only-of-type {\n",
              "        vertical-align: middle;\n",
              "    }\n",
              "\n",
              "    .dataframe tbody tr th {\n",
              "        vertical-align: top;\n",
              "    }\n",
              "\n",
              "    .dataframe thead th {\n",
              "        text-align: right;\n",
              "    }\n",
              "</style>\n",
              "<table border=\"1\" class=\"dataframe\">\n",
              "  <thead>\n",
              "    <tr style=\"text-align: right;\">\n",
              "      <th></th>\n",
              "      <th>State/UTs</th>\n",
              "      <th>Total Cases</th>\n",
              "      <th>Active</th>\n",
              "      <th>Discharged</th>\n",
              "      <th>Deaths</th>\n",
              "      <th>Active Ratio (%)</th>\n",
              "      <th>Discharge Ratio (%)</th>\n",
              "      <th>Death Ratio (%)</th>\n",
              "    </tr>\n",
              "  </thead>\n",
              "  <tbody>\n",
              "    <tr>\n",
              "      <th>23</th>\n",
              "      <td>Mizoram</td>\n",
              "      <td>31145</td>\n",
              "      <td>7772</td>\n",
              "      <td>23238</td>\n",
              "      <td>135</td>\n",
              "      <td>24.95</td>\n",
              "      <td>74.61</td>\n",
              "      <td>0.43</td>\n",
              "    </tr>\n",
              "  </tbody>\n",
              "</table>\n",
              "</div>"
            ],
            "text/plain": [
              "   State/UTs  Total Cases  ...  Discharge Ratio (%)  Death Ratio (%)\n",
              "23   Mizoram        31145  ...                74.61             0.43\n",
              "\n",
              "[1 rows x 8 columns]"
            ]
          },
          "metadata": {
            "tags": []
          },
          "execution_count": 27
        }
      ]
    },
    {
      "cell_type": "code",
      "metadata": {
        "colab": {
          "base_uri": "https://localhost:8080/",
          "height": 496
        },
        "id": "AnUao-E-hCAE",
        "outputId": "5704a608-1f24-4db7-d992-b91ae32cad30"
      },
      "source": [
        "plt.xticks(rotation=90)\n",
        "plt.bar(df['State/UTs'],height=df['Discharge Ratio (%)'],color = 'Green')"
      ],
      "execution_count": null,
      "outputs": [
        {
          "output_type": "execute_result",
          "data": {
            "text/plain": [
              "<BarContainer object of 36 artists>"
            ]
          },
          "metadata": {
            "tags": []
          },
          "execution_count": 18
        },
        {
          "output_type": "display_data",
          "data": {
            "image/png": "[encoded data removed]",
            "text/plain": [
              "<Figure size 432x288 with 1 Axes>"
            ]
          },
          "metadata": {
            "tags": [],
            "needs_background": "light"
          }
        }
      ]
    },
    {
      "cell_type": "markdown",
      "metadata": {
        "id": "9zZqQ0TGhFZC"
      },
      "source": [
        "Highest no of discharged people are in Maharashtra\n",
        "Lowest no of discharged people are in Andaman and Nicobar"
      ]
    },
    {
      "cell_type": "markdown",
      "metadata": {
        "id": "KjRt42druqLc"
      },
      "source": [
        "**Q13)Sort the entire data wrt to No.of Confirmed cases in ascending order**"
      ]
    },
    {
      "cell_type": "code",
      "metadata": {
        "id": "e2WFww3fQrJn",
        "colab": {
          "base_uri": "https://localhost:8080/",
          "height": 1000
        },
        "outputId": "c433858c-30c6-46c1-af75-0d93eedf0131"
      },
      "source": [
        "df.sort_values(by='Active',ascending=True,ignore_index=True)"
      ],
      "execution_count": null,
      "outputs": [
        {
          "output_type": "execute_result",
          "data": {
            "text/html": [
              "<div>\n",
              "<style scoped>\n",
              "    .dataframe tbody tr th:only-of-type {\n",
              "        vertical-align: middle;\n",
              "    }\n",
              "\n",
              "    .dataframe tbody tr th {\n",
              "        vertical-align: top;\n",
              "    }\n",
              "\n",
              "    .dataframe thead th {\n",
              "        text-align: right;\n",
              "    }\n",
              "</style>\n",
              "<table border=\"1\" class=\"dataframe\">\n",
              "  <thead>\n",
              "    <tr style=\"text-align: right;\">\n",
              "      <th></th>\n",
              "      <th>State/UTs</th>\n",
              "      <th>Total Cases</th>\n",
              "      <th>Active</th>\n",
              "      <th>Discharged</th>\n",
              "      <th>Deaths</th>\n",
              "      <th>Active Ratio (%)</th>\n",
              "      <th>Discharge Ratio (%)</th>\n",
              "      <th>Death Ratio (%)</th>\n",
              "    </tr>\n",
              "  </thead>\n",
              "  <tbody>\n",
              "    <tr>\n",
              "      <th>0</th>\n",
              "      <td>Andaman and Nicobar</td>\n",
              "      <td>7525</td>\n",
              "      <td>14</td>\n",
              "      <td>7382</td>\n",
              "      <td>129</td>\n",
              "      <td>0.19</td>\n",
              "      <td>98.10</td>\n",
              "      <td>1.71</td>\n",
              "    </tr>\n",
              "    <tr>\n",
              "      <th>1</th>\n",
              "      <td>Chandigarh</td>\n",
              "      <td>61922</td>\n",
              "      <td>32</td>\n",
              "      <td>61081</td>\n",
              "      <td>809</td>\n",
              "      <td>0.05</td>\n",
              "      <td>98.64</td>\n",
              "      <td>1.31</td>\n",
              "    </tr>\n",
              "    <tr>\n",
              "      <th>2</th>\n",
              "      <td>Daman and Diu</td>\n",
              "      <td>10637</td>\n",
              "      <td>48</td>\n",
              "      <td>10585</td>\n",
              "      <td>4</td>\n",
              "      <td>0.45</td>\n",
              "      <td>99.51</td>\n",
              "      <td>0.04</td>\n",
              "    </tr>\n",
              "    <tr>\n",
              "      <th>3</th>\n",
              "      <td>Ladakh</td>\n",
              "      <td>20296</td>\n",
              "      <td>68</td>\n",
              "      <td>20021</td>\n",
              "      <td>207</td>\n",
              "      <td>0.34</td>\n",
              "      <td>98.65</td>\n",
              "      <td>1.02</td>\n",
              "    </tr>\n",
              "    <tr>\n",
              "      <th>4</th>\n",
              "      <td>Lakshadweep</td>\n",
              "      <td>10127</td>\n",
              "      <td>81</td>\n",
              "      <td>9997</td>\n",
              "      <td>49</td>\n",
              "      <td>0.80</td>\n",
              "      <td>98.72</td>\n",
              "      <td>0.48</td>\n",
              "    </tr>\n",
              "    <tr>\n",
              "      <th>5</th>\n",
              "      <td>Madhya Pradesh</td>\n",
              "      <td>791738</td>\n",
              "      <td>149</td>\n",
              "      <td>781077</td>\n",
              "      <td>10512</td>\n",
              "      <td>0.02</td>\n",
              "      <td>98.65</td>\n",
              "      <td>1.33</td>\n",
              "    </tr>\n",
              "    <tr>\n",
              "      <th>6</th>\n",
              "      <td>Jharkhand</td>\n",
              "      <td>346918</td>\n",
              "      <td>276</td>\n",
              "      <td>341518</td>\n",
              "      <td>5124</td>\n",
              "      <td>0.08</td>\n",
              "      <td>98.44</td>\n",
              "      <td>1.48</td>\n",
              "    </tr>\n",
              "    <tr>\n",
              "      <th>7</th>\n",
              "      <td>Rajasthan</td>\n",
              "      <td>953522</td>\n",
              "      <td>328</td>\n",
              "      <td>944242</td>\n",
              "      <td>8952</td>\n",
              "      <td>0.03</td>\n",
              "      <td>99.03</td>\n",
              "      <td>0.94</td>\n",
              "    </tr>\n",
              "    <tr>\n",
              "      <th>8</th>\n",
              "      <td>Gujarat</td>\n",
              "      <td>824683</td>\n",
              "      <td>342</td>\n",
              "      <td>814265</td>\n",
              "      <td>10076</td>\n",
              "      <td>0.04</td>\n",
              "      <td>98.74</td>\n",
              "      <td>1.22</td>\n",
              "    </tr>\n",
              "    <tr>\n",
              "      <th>9</th>\n",
              "      <td>Bihar</td>\n",
              "      <td>724390</td>\n",
              "      <td>530</td>\n",
              "      <td>714223</td>\n",
              "      <td>9637</td>\n",
              "      <td>0.07</td>\n",
              "      <td>98.60</td>\n",
              "      <td>1.33</td>\n",
              "    </tr>\n",
              "    <tr>\n",
              "      <th>10</th>\n",
              "      <td>Delhi</td>\n",
              "      <td>1435844</td>\n",
              "      <td>587</td>\n",
              "      <td>1410216</td>\n",
              "      <td>25041</td>\n",
              "      <td>0.04</td>\n",
              "      <td>98.22</td>\n",
              "      <td>1.74</td>\n",
              "    </tr>\n",
              "    <tr>\n",
              "      <th>11</th>\n",
              "      <td>Uttarakhand</td>\n",
              "      <td>341673</td>\n",
              "      <td>611</td>\n",
              "      <td>333703</td>\n",
              "      <td>7359</td>\n",
              "      <td>0.18</td>\n",
              "      <td>97.67</td>\n",
              "      <td>2.15</td>\n",
              "    </tr>\n",
              "    <tr>\n",
              "      <th>12</th>\n",
              "      <td>Haryana</td>\n",
              "      <td>769717</td>\n",
              "      <td>740</td>\n",
              "      <td>759360</td>\n",
              "      <td>9617</td>\n",
              "      <td>0.10</td>\n",
              "      <td>98.65</td>\n",
              "      <td>1.25</td>\n",
              "    </tr>\n",
              "    <tr>\n",
              "      <th>13</th>\n",
              "      <td>Punjab</td>\n",
              "      <td>598741</td>\n",
              "      <td>771</td>\n",
              "      <td>581712</td>\n",
              "      <td>16258</td>\n",
              "      <td>0.13</td>\n",
              "      <td>97.16</td>\n",
              "      <td>2.72</td>\n",
              "    </tr>\n",
              "    <tr>\n",
              "      <th>14</th>\n",
              "      <td>Puducherry</td>\n",
              "      <td>120227</td>\n",
              "      <td>922</td>\n",
              "      <td>117518</td>\n",
              "      <td>1787</td>\n",
              "      <td>0.77</td>\n",
              "      <td>97.75</td>\n",
              "      <td>1.49</td>\n",
              "    </tr>\n",
              "    <tr>\n",
              "      <th>15</th>\n",
              "      <td>Himachal Pradesh</td>\n",
              "      <td>205017</td>\n",
              "      <td>931</td>\n",
              "      <td>200573</td>\n",
              "      <td>3513</td>\n",
              "      <td>0.45</td>\n",
              "      <td>97.83</td>\n",
              "      <td>1.71</td>\n",
              "    </tr>\n",
              "    <tr>\n",
              "      <th>16</th>\n",
              "      <td>Uttar Pradesh</td>\n",
              "      <td>1708152</td>\n",
              "      <td>932</td>\n",
              "      <td>1684471</td>\n",
              "      <td>22749</td>\n",
              "      <td>0.05</td>\n",
              "      <td>98.61</td>\n",
              "      <td>1.33</td>\n",
              "    </tr>\n",
              "    <tr>\n",
              "      <th>17</th>\n",
              "      <td>Goa</td>\n",
              "      <td>170416</td>\n",
              "      <td>1238</td>\n",
              "      <td>166052</td>\n",
              "      <td>3126</td>\n",
              "      <td>0.73</td>\n",
              "      <td>97.44</td>\n",
              "      <td>1.83</td>\n",
              "    </tr>\n",
              "    <tr>\n",
              "      <th>18</th>\n",
              "      <td>Nagaland</td>\n",
              "      <td>27240</td>\n",
              "      <td>1312</td>\n",
              "      <td>25390</td>\n",
              "      <td>538</td>\n",
              "      <td>4.82</td>\n",
              "      <td>93.21</td>\n",
              "      <td>1.98</td>\n",
              "    </tr>\n",
              "    <tr>\n",
              "      <th>19</th>\n",
              "      <td>Jammu and Kashmir</td>\n",
              "      <td>320491</td>\n",
              "      <td>1319</td>\n",
              "      <td>314798</td>\n",
              "      <td>4374</td>\n",
              "      <td>0.41</td>\n",
              "      <td>98.22</td>\n",
              "      <td>1.36</td>\n",
              "    </tr>\n",
              "    <tr>\n",
              "      <th>20</th>\n",
              "      <td>Chhattisgarh</td>\n",
              "      <td>1001037</td>\n",
              "      <td>2789</td>\n",
              "      <td>984737</td>\n",
              "      <td>13511</td>\n",
              "      <td>0.28</td>\n",
              "      <td>98.37</td>\n",
              "      <td>1.35</td>\n",
              "    </tr>\n",
              "    <tr>\n",
              "      <th>21</th>\n",
              "      <td>Sikkim</td>\n",
              "      <td>24823</td>\n",
              "      <td>2849</td>\n",
              "      <td>21644</td>\n",
              "      <td>330</td>\n",
              "      <td>11.48</td>\n",
              "      <td>87.19</td>\n",
              "      <td>1.33</td>\n",
              "    </tr>\n",
              "    <tr>\n",
              "      <th>22</th>\n",
              "      <td>Tripura</td>\n",
              "      <td>76315</td>\n",
              "      <td>3934</td>\n",
              "      <td>71642</td>\n",
              "      <td>739</td>\n",
              "      <td>5.15</td>\n",
              "      <td>93.88</td>\n",
              "      <td>0.97</td>\n",
              "    </tr>\n",
              "    <tr>\n",
              "      <th>23</th>\n",
              "      <td>Arunachal Pradesh</td>\n",
              "      <td>45703</td>\n",
              "      <td>4465</td>\n",
              "      <td>41025</td>\n",
              "      <td>213</td>\n",
              "      <td>9.77</td>\n",
              "      <td>89.76</td>\n",
              "      <td>0.47</td>\n",
              "    </tr>\n",
              "    <tr>\n",
              "      <th>24</th>\n",
              "      <td>Meghalaya</td>\n",
              "      <td>60597</td>\n",
              "      <td>4708</td>\n",
              "      <td>54875</td>\n",
              "      <td>1014</td>\n",
              "      <td>7.77</td>\n",
              "      <td>90.56</td>\n",
              "      <td>1.67</td>\n",
              "    </tr>\n",
              "    <tr>\n",
              "      <th>25</th>\n",
              "      <td>Mizoram</td>\n",
              "      <td>31145</td>\n",
              "      <td>7772</td>\n",
              "      <td>23238</td>\n",
              "      <td>135</td>\n",
              "      <td>24.95</td>\n",
              "      <td>74.61</td>\n",
              "      <td>0.43</td>\n",
              "    </tr>\n",
              "    <tr>\n",
              "      <th>26</th>\n",
              "      <td>Telengana</td>\n",
              "      <td>640659</td>\n",
              "      <td>9625</td>\n",
              "      <td>627254</td>\n",
              "      <td>3780</td>\n",
              "      <td>1.50</td>\n",
              "      <td>97.91</td>\n",
              "      <td>0.59</td>\n",
              "    </tr>\n",
              "    <tr>\n",
              "      <th>27</th>\n",
              "      <td>Manipur</td>\n",
              "      <td>91460</td>\n",
              "      <td>10251</td>\n",
              "      <td>79744</td>\n",
              "      <td>1465</td>\n",
              "      <td>11.21</td>\n",
              "      <td>87.19</td>\n",
              "      <td>1.60</td>\n",
              "    </tr>\n",
              "    <tr>\n",
              "      <th>28</th>\n",
              "      <td>West Bengal</td>\n",
              "      <td>1522833</td>\n",
              "      <td>11891</td>\n",
              "      <td>1492878</td>\n",
              "      <td>18064</td>\n",
              "      <td>0.78</td>\n",
              "      <td>98.03</td>\n",
              "      <td>1.19</td>\n",
              "    </tr>\n",
              "    <tr>\n",
              "      <th>29</th>\n",
              "      <td>Assam</td>\n",
              "      <td>557437</td>\n",
              "      <td>15726</td>\n",
              "      <td>536597</td>\n",
              "      <td>5114</td>\n",
              "      <td>2.82</td>\n",
              "      <td>96.26</td>\n",
              "      <td>0.92</td>\n",
              "    </tr>\n",
              "    <tr>\n",
              "      <th>30</th>\n",
              "      <td>Odisha</td>\n",
              "      <td>965715</td>\n",
              "      <td>17201</td>\n",
              "      <td>943069</td>\n",
              "      <td>5445</td>\n",
              "      <td>1.78</td>\n",
              "      <td>97.66</td>\n",
              "      <td>0.56</td>\n",
              "    </tr>\n",
              "    <tr>\n",
              "      <th>31</th>\n",
              "      <td>Andhra Pradesh</td>\n",
              "      <td>1952513</td>\n",
              "      <td>22358</td>\n",
              "      <td>1916914</td>\n",
              "      <td>13241</td>\n",
              "      <td>1.15</td>\n",
              "      <td>98.18</td>\n",
              "      <td>0.68</td>\n",
              "    </tr>\n",
              "    <tr>\n",
              "      <th>32</th>\n",
              "      <td>Karnataka</td>\n",
              "      <td>2893556</td>\n",
              "      <td>23928</td>\n",
              "      <td>2833276</td>\n",
              "      <td>36352</td>\n",
              "      <td>0.83</td>\n",
              "      <td>97.92</td>\n",
              "      <td>1.26</td>\n",
              "    </tr>\n",
              "    <tr>\n",
              "      <th>33</th>\n",
              "      <td>Tamil Nadu</td>\n",
              "      <td>2546689</td>\n",
              "      <td>24025</td>\n",
              "      <td>2488775</td>\n",
              "      <td>33889</td>\n",
              "      <td>0.94</td>\n",
              "      <td>97.73</td>\n",
              "      <td>1.33</td>\n",
              "    </tr>\n",
              "    <tr>\n",
              "      <th>34</th>\n",
              "      <td>Maharashtra</td>\n",
              "      <td>6258079</td>\n",
              "      <td>96833</td>\n",
              "      <td>6029817</td>\n",
              "      <td>131429</td>\n",
              "      <td>1.55</td>\n",
              "      <td>96.35</td>\n",
              "      <td>2.10</td>\n",
              "    </tr>\n",
              "    <tr>\n",
              "      <th>35</th>\n",
              "      <td>Kerala</td>\n",
              "      <td>3254064</td>\n",
              "      <td>1386262</td>\n",
              "      <td>3099469</td>\n",
              "      <td>15969</td>\n",
              "      <td>4.26</td>\n",
              "      <td>95.25</td>\n",
              "      <td>0.49</td>\n",
              "    </tr>\n",
              "  </tbody>\n",
              "</table>\n",
              "</div>"
            ],
            "text/plain": [
              "              State/UTs  Total Cases  ...  Discharge Ratio (%)  Death Ratio (%)\n",
              "0   Andaman and Nicobar         7525  ...                98.10             1.71\n",
              "1            Chandigarh        61922  ...                98.64             1.31\n",
              "2         Daman and Diu        10637  ...                99.51             0.04\n",
              "3                Ladakh        20296  ...                98.65             1.02\n",
              "4           Lakshadweep        10127  ...                98.72             0.48\n",
              "5        Madhya Pradesh       791738  ...                98.65             1.33\n",
              "6             Jharkhand       346918  ...                98.44             1.48\n",
              "7             Rajasthan       953522  ...                99.03             0.94\n",
              "8               Gujarat       824683  ...                98.74             1.22\n",
              "9                 Bihar       724390  ...                98.60             1.33\n",
              "10                Delhi      1435844  ...                98.22             1.74\n",
              "11          Uttarakhand       341673  ...                97.67             2.15\n",
              "12              Haryana       769717  ...                98.65             1.25\n",
              "13               Punjab       598741  ...                97.16             2.72\n",
              "14           Puducherry       120227  ...                97.75             1.49\n",
              "15     Himachal Pradesh       205017  ...                97.83             1.71\n",
              "16        Uttar Pradesh      1708152  ...                98.61             1.33\n",
              "17                  Goa       170416  ...                97.44             1.83\n",
              "18             Nagaland        27240  ...                93.21             1.98\n",
              "19    Jammu and Kashmir       320491  ...                98.22             1.36\n",
              "20         Chhattisgarh      1001037  ...                98.37             1.35\n",
              "21               Sikkim        24823  ...                87.19             1.33\n",
              "22              Tripura        76315  ...                93.88             0.97\n",
              "23    Arunachal Pradesh        45703  ...                89.76             0.47\n",
              "24            Meghalaya        60597  ...                90.56             1.67\n",
              "25              Mizoram        31145  ...                74.61             0.43\n",
              "26            Telengana       640659  ...                97.91             0.59\n",
              "27              Manipur        91460  ...                87.19             1.60\n",
              "28          West Bengal      1522833  ...                98.03             1.19\n",
              "29                Assam       557437  ...                96.26             0.92\n",
              "30               Odisha       965715  ...                97.66             0.56\n",
              "31       Andhra Pradesh      1952513  ...                98.18             0.68\n",
              "32            Karnataka      2893556  ...                97.92             1.26\n",
              "33           Tamil Nadu      2546689  ...                97.73             1.33\n",
              "34          Maharashtra      6258079  ...                96.35             2.10\n",
              "35               Kerala      3254064  ...                95.25             0.49\n",
              "\n",
              "[36 rows x 8 columns]"
            ]
          },
          "metadata": {
            "tags": []
          },
          "execution_count": 32
        }
      ]
    },
    {
      "cell_type": "markdown",
      "metadata": {
        "id": "WxAGYpYuv98O"
      },
      "source": [
        "**Q14)Sort the entire data wrt to No.of death in descending order**"
      ]
    },
    {
      "cell_type": "code",
      "metadata": {
        "colab": {
          "base_uri": "https://localhost:8080/",
          "height": 1000
        },
        "id": "qmAjn3_ewLJi",
        "outputId": "b8598699-e59d-4ee6-9225-9afa3a3829c1"
      },
      "source": [
        "df.sort_values(by='Deaths',ascending=False,ignore_index=True)"
      ],
      "execution_count": null,
      "outputs": [
        {
          "output_type": "execute_result",
          "data": {
            "text/html": [
              "<div>\n",
              "<style scoped>\n",
              "    .dataframe tbody tr th:only-of-type {\n",
              "        vertical-align: middle;\n",
              "    }\n",
              "\n",
              "    .dataframe tbody tr th {\n",
              "        vertical-align: top;\n",
              "    }\n",
              "\n",
              "    .dataframe thead th {\n",
              "        text-align: right;\n",
              "    }\n",
              "</style>\n",
              "<table border=\"1\" class=\"dataframe\">\n",
              "  <thead>\n",
              "    <tr style=\"text-align: right;\">\n",
              "      <th></th>\n",
              "      <th>State/UTs</th>\n",
              "      <th>Total Cases</th>\n",
              "      <th>Active</th>\n",
              "      <th>Discharged</th>\n",
              "      <th>Deaths</th>\n",
              "      <th>Active Ratio (%)</th>\n",
              "      <th>Discharge Ratio (%)</th>\n",
              "      <th>Death Ratio (%)</th>\n",
              "    </tr>\n",
              "  </thead>\n",
              "  <tbody>\n",
              "    <tr>\n",
              "      <th>0</th>\n",
              "      <td>Maharashtra</td>\n",
              "      <td>6258079</td>\n",
              "      <td>96833</td>\n",
              "      <td>6029817</td>\n",
              "      <td>131429</td>\n",
              "      <td>1.55</td>\n",
              "      <td>96.35</td>\n",
              "      <td>2.10</td>\n",
              "    </tr>\n",
              "    <tr>\n",
              "      <th>1</th>\n",
              "      <td>Karnataka</td>\n",
              "      <td>2893556</td>\n",
              "      <td>23928</td>\n",
              "      <td>2833276</td>\n",
              "      <td>36352</td>\n",
              "      <td>0.83</td>\n",
              "      <td>97.92</td>\n",
              "      <td>1.26</td>\n",
              "    </tr>\n",
              "    <tr>\n",
              "      <th>2</th>\n",
              "      <td>Tamil Nadu</td>\n",
              "      <td>2546689</td>\n",
              "      <td>24025</td>\n",
              "      <td>2488775</td>\n",
              "      <td>33889</td>\n",
              "      <td>0.94</td>\n",
              "      <td>97.73</td>\n",
              "      <td>1.33</td>\n",
              "    </tr>\n",
              "    <tr>\n",
              "      <th>3</th>\n",
              "      <td>Delhi</td>\n",
              "      <td>1435844</td>\n",
              "      <td>587</td>\n",
              "      <td>1410216</td>\n",
              "      <td>25041</td>\n",
              "      <td>0.04</td>\n",
              "      <td>98.22</td>\n",
              "      <td>1.74</td>\n",
              "    </tr>\n",
              "    <tr>\n",
              "      <th>4</th>\n",
              "      <td>Uttar Pradesh</td>\n",
              "      <td>1708152</td>\n",
              "      <td>932</td>\n",
              "      <td>1684471</td>\n",
              "      <td>22749</td>\n",
              "      <td>0.05</td>\n",
              "      <td>98.61</td>\n",
              "      <td>1.33</td>\n",
              "    </tr>\n",
              "    <tr>\n",
              "      <th>5</th>\n",
              "      <td>West Bengal</td>\n",
              "      <td>1522833</td>\n",
              "      <td>11891</td>\n",
              "      <td>1492878</td>\n",
              "      <td>18064</td>\n",
              "      <td>0.78</td>\n",
              "      <td>98.03</td>\n",
              "      <td>1.19</td>\n",
              "    </tr>\n",
              "    <tr>\n",
              "      <th>6</th>\n",
              "      <td>Punjab</td>\n",
              "      <td>598741</td>\n",
              "      <td>771</td>\n",
              "      <td>581712</td>\n",
              "      <td>16258</td>\n",
              "      <td>0.13</td>\n",
              "      <td>97.16</td>\n",
              "      <td>2.72</td>\n",
              "    </tr>\n",
              "    <tr>\n",
              "      <th>7</th>\n",
              "      <td>Kerala</td>\n",
              "      <td>3254064</td>\n",
              "      <td>1386262</td>\n",
              "      <td>3099469</td>\n",
              "      <td>15969</td>\n",
              "      <td>4.26</td>\n",
              "      <td>95.25</td>\n",
              "      <td>0.49</td>\n",
              "    </tr>\n",
              "    <tr>\n",
              "      <th>8</th>\n",
              "      <td>Chhattisgarh</td>\n",
              "      <td>1001037</td>\n",
              "      <td>2789</td>\n",
              "      <td>984737</td>\n",
              "      <td>13511</td>\n",
              "      <td>0.28</td>\n",
              "      <td>98.37</td>\n",
              "      <td>1.35</td>\n",
              "    </tr>\n",
              "    <tr>\n",
              "      <th>9</th>\n",
              "      <td>Andhra Pradesh</td>\n",
              "      <td>1952513</td>\n",
              "      <td>22358</td>\n",
              "      <td>1916914</td>\n",
              "      <td>13241</td>\n",
              "      <td>1.15</td>\n",
              "      <td>98.18</td>\n",
              "      <td>0.68</td>\n",
              "    </tr>\n",
              "    <tr>\n",
              "      <th>10</th>\n",
              "      <td>Madhya Pradesh</td>\n",
              "      <td>791738</td>\n",
              "      <td>149</td>\n",
              "      <td>781077</td>\n",
              "      <td>10512</td>\n",
              "      <td>0.02</td>\n",
              "      <td>98.65</td>\n",
              "      <td>1.33</td>\n",
              "    </tr>\n",
              "    <tr>\n",
              "      <th>11</th>\n",
              "      <td>Gujarat</td>\n",
              "      <td>824683</td>\n",
              "      <td>342</td>\n",
              "      <td>814265</td>\n",
              "      <td>10076</td>\n",
              "      <td>0.04</td>\n",
              "      <td>98.74</td>\n",
              "      <td>1.22</td>\n",
              "    </tr>\n",
              "    <tr>\n",
              "      <th>12</th>\n",
              "      <td>Bihar</td>\n",
              "      <td>724390</td>\n",
              "      <td>530</td>\n",
              "      <td>714223</td>\n",
              "      <td>9637</td>\n",
              "      <td>0.07</td>\n",
              "      <td>98.60</td>\n",
              "      <td>1.33</td>\n",
              "    </tr>\n",
              "    <tr>\n",
              "      <th>13</th>\n",
              "      <td>Haryana</td>\n",
              "      <td>769717</td>\n",
              "      <td>740</td>\n",
              "      <td>759360</td>\n",
              "      <td>9617</td>\n",
              "      <td>0.10</td>\n",
              "      <td>98.65</td>\n",
              "      <td>1.25</td>\n",
              "    </tr>\n",
              "    <tr>\n",
              "      <th>14</th>\n",
              "      <td>Rajasthan</td>\n",
              "      <td>953522</td>\n",
              "      <td>328</td>\n",
              "      <td>944242</td>\n",
              "      <td>8952</td>\n",
              "      <td>0.03</td>\n",
              "      <td>99.03</td>\n",
              "      <td>0.94</td>\n",
              "    </tr>\n",
              "    <tr>\n",
              "      <th>15</th>\n",
              "      <td>Uttarakhand</td>\n",
              "      <td>341673</td>\n",
              "      <td>611</td>\n",
              "      <td>333703</td>\n",
              "      <td>7359</td>\n",
              "      <td>0.18</td>\n",
              "      <td>97.67</td>\n",
              "      <td>2.15</td>\n",
              "    </tr>\n",
              "    <tr>\n",
              "      <th>16</th>\n",
              "      <td>Odisha</td>\n",
              "      <td>965715</td>\n",
              "      <td>17201</td>\n",
              "      <td>943069</td>\n",
              "      <td>5445</td>\n",
              "      <td>1.78</td>\n",
              "      <td>97.66</td>\n",
              "      <td>0.56</td>\n",
              "    </tr>\n",
              "    <tr>\n",
              "      <th>17</th>\n",
              "      <td>Jharkhand</td>\n",
              "      <td>346918</td>\n",
              "      <td>276</td>\n",
              "      <td>341518</td>\n",
              "      <td>5124</td>\n",
              "      <td>0.08</td>\n",
              "      <td>98.44</td>\n",
              "      <td>1.48</td>\n",
              "    </tr>\n",
              "    <tr>\n",
              "      <th>18</th>\n",
              "      <td>Assam</td>\n",
              "      <td>557437</td>\n",
              "      <td>15726</td>\n",
              "      <td>536597</td>\n",
              "      <td>5114</td>\n",
              "      <td>2.82</td>\n",
              "      <td>96.26</td>\n",
              "      <td>0.92</td>\n",
              "    </tr>\n",
              "    <tr>\n",
              "      <th>19</th>\n",
              "      <td>Jammu and Kashmir</td>\n",
              "      <td>320491</td>\n",
              "      <td>1319</td>\n",
              "      <td>314798</td>\n",
              "      <td>4374</td>\n",
              "      <td>0.41</td>\n",
              "      <td>98.22</td>\n",
              "      <td>1.36</td>\n",
              "    </tr>\n",
              "    <tr>\n",
              "      <th>20</th>\n",
              "      <td>Telengana</td>\n",
              "      <td>640659</td>\n",
              "      <td>9625</td>\n",
              "      <td>627254</td>\n",
              "      <td>3780</td>\n",
              "      <td>1.50</td>\n",
              "      <td>97.91</td>\n",
              "      <td>0.59</td>\n",
              "    </tr>\n",
              "    <tr>\n",
              "      <th>21</th>\n",
              "      <td>Himachal Pradesh</td>\n",
              "      <td>205017</td>\n",
              "      <td>931</td>\n",
              "      <td>200573</td>\n",
              "      <td>3513</td>\n",
              "      <td>0.45</td>\n",
              "      <td>97.83</td>\n",
              "      <td>1.71</td>\n",
              "    </tr>\n",
              "    <tr>\n",
              "      <th>22</th>\n",
              "      <td>Goa</td>\n",
              "      <td>170416</td>\n",
              "      <td>1238</td>\n",
              "      <td>166052</td>\n",
              "      <td>3126</td>\n",
              "      <td>0.73</td>\n",
              "      <td>97.44</td>\n",
              "      <td>1.83</td>\n",
              "    </tr>\n",
              "    <tr>\n",
              "      <th>23</th>\n",
              "      <td>Puducherry</td>\n",
              "      <td>120227</td>\n",
              "      <td>922</td>\n",
              "      <td>117518</td>\n",
              "      <td>1787</td>\n",
              "      <td>0.77</td>\n",
              "      <td>97.75</td>\n",
              "      <td>1.49</td>\n",
              "    </tr>\n",
              "    <tr>\n",
              "      <th>24</th>\n",
              "      <td>Manipur</td>\n",
              "      <td>91460</td>\n",
              "      <td>10251</td>\n",
              "      <td>79744</td>\n",
              "      <td>1465</td>\n",
              "      <td>11.21</td>\n",
              "      <td>87.19</td>\n",
              "      <td>1.60</td>\n",
              "    </tr>\n",
              "    <tr>\n",
              "      <th>25</th>\n",
              "      <td>Meghalaya</td>\n",
              "      <td>60597</td>\n",
              "      <td>4708</td>\n",
              "      <td>54875</td>\n",
              "      <td>1014</td>\n",
              "      <td>7.77</td>\n",
              "      <td>90.56</td>\n",
              "      <td>1.67</td>\n",
              "    </tr>\n",
              "    <tr>\n",
              "      <th>26</th>\n",
              "      <td>Chandigarh</td>\n",
              "      <td>61922</td>\n",
              "      <td>32</td>\n",
              "      <td>61081</td>\n",
              "      <td>809</td>\n",
              "      <td>0.05</td>\n",
              "      <td>98.64</td>\n",
              "      <td>1.31</td>\n",
              "    </tr>\n",
              "    <tr>\n",
              "      <th>27</th>\n",
              "      <td>Tripura</td>\n",
              "      <td>76315</td>\n",
              "      <td>3934</td>\n",
              "      <td>71642</td>\n",
              "      <td>739</td>\n",
              "      <td>5.15</td>\n",
              "      <td>93.88</td>\n",
              "      <td>0.97</td>\n",
              "    </tr>\n",
              "    <tr>\n",
              "      <th>28</th>\n",
              "      <td>Nagaland</td>\n",
              "      <td>27240</td>\n",
              "      <td>1312</td>\n",
              "      <td>25390</td>\n",
              "      <td>538</td>\n",
              "      <td>4.82</td>\n",
              "      <td>93.21</td>\n",
              "      <td>1.98</td>\n",
              "    </tr>\n",
              "    <tr>\n",
              "      <th>29</th>\n",
              "      <td>Sikkim</td>\n",
              "      <td>24823</td>\n",
              "      <td>2849</td>\n",
              "      <td>21644</td>\n",
              "      <td>330</td>\n",
              "      <td>11.48</td>\n",
              "      <td>87.19</td>\n",
              "      <td>1.33</td>\n",
              "    </tr>\n",
              "    <tr>\n",
              "      <th>30</th>\n",
              "      <td>Arunachal Pradesh</td>\n",
              "      <td>45703</td>\n",
              "      <td>4465</td>\n",
              "      <td>41025</td>\n",
              "      <td>213</td>\n",
              "      <td>9.77</td>\n",
              "      <td>89.76</td>\n",
              "      <td>0.47</td>\n",
              "    </tr>\n",
              "    <tr>\n",
              "      <th>31</th>\n",
              "      <td>Ladakh</td>\n",
              "      <td>20296</td>\n",
              "      <td>68</td>\n",
              "      <td>20021</td>\n",
              "      <td>207</td>\n",
              "      <td>0.34</td>\n",
              "      <td>98.65</td>\n",
              "      <td>1.02</td>\n",
              "    </tr>\n",
              "    <tr>\n",
              "      <th>32</th>\n",
              "      <td>Mizoram</td>\n",
              "      <td>31145</td>\n",
              "      <td>7772</td>\n",
              "      <td>23238</td>\n",
              "      <td>135</td>\n",
              "      <td>24.95</td>\n",
              "      <td>74.61</td>\n",
              "      <td>0.43</td>\n",
              "    </tr>\n",
              "    <tr>\n",
              "      <th>33</th>\n",
              "      <td>Andaman and Nicobar</td>\n",
              "      <td>7525</td>\n",
              "      <td>14</td>\n",
              "      <td>7382</td>\n",
              "      <td>129</td>\n",
              "      <td>0.19</td>\n",
              "      <td>98.10</td>\n",
              "      <td>1.71</td>\n",
              "    </tr>\n",
              "    <tr>\n",
              "      <th>34</th>\n",
              "      <td>Lakshadweep</td>\n",
              "      <td>10127</td>\n",
              "      <td>81</td>\n",
              "      <td>9997</td>\n",
              "      <td>49</td>\n",
              "      <td>0.80</td>\n",
              "      <td>98.72</td>\n",
              "      <td>0.48</td>\n",
              "    </tr>\n",
              "    <tr>\n",
              "      <th>35</th>\n",
              "      <td>Daman and Diu</td>\n",
              "      <td>10637</td>\n",
              "      <td>48</td>\n",
              "      <td>10585</td>\n",
              "      <td>4</td>\n",
              "      <td>0.45</td>\n",
              "      <td>99.51</td>\n",
              "      <td>0.04</td>\n",
              "    </tr>\n",
              "  </tbody>\n",
              "</table>\n",
              "</div>"
            ],
            "text/plain": [
              "              State/UTs  Total Cases  ...  Discharge Ratio (%)  Death Ratio (%)\n",
              "0           Maharashtra      6258079  ...                96.35             2.10\n",
              "1             Karnataka      2893556  ...                97.92             1.26\n",
              "2            Tamil Nadu      2546689  ...                97.73             1.33\n",
              "3                 Delhi      1435844  ...                98.22             1.74\n",
              "4         Uttar Pradesh      1708152  ...                98.61             1.33\n",
              "5           West Bengal      1522833  ...                98.03             1.19\n",
              "6                Punjab       598741  ...                97.16             2.72\n",
              "7                Kerala      3254064  ...                95.25             0.49\n",
              "8          Chhattisgarh      1001037  ...                98.37             1.35\n",
              "9        Andhra Pradesh      1952513  ...                98.18             0.68\n",
              "10       Madhya Pradesh       791738  ...                98.65             1.33\n",
              "11              Gujarat       824683  ...                98.74             1.22\n",
              "12                Bihar       724390  ...                98.60             1.33\n",
              "13              Haryana       769717  ...                98.65             1.25\n",
              "14            Rajasthan       953522  ...                99.03             0.94\n",
              "15          Uttarakhand       341673  ...                97.67             2.15\n",
              "16               Odisha       965715  ...                97.66             0.56\n",
              "17            Jharkhand       346918  ...                98.44             1.48\n",
              "18                Assam       557437  ...                96.26             0.92\n",
              "19    Jammu and Kashmir       320491  ...                98.22             1.36\n",
              "20            Telengana       640659  ...                97.91             0.59\n",
              "21     Himachal Pradesh       205017  ...                97.83             1.71\n",
              "22                  Goa       170416  ...                97.44             1.83\n",
              "23           Puducherry       120227  ...                97.75             1.49\n",
              "24              Manipur        91460  ...                87.19             1.60\n",
              "25            Meghalaya        60597  ...                90.56             1.67\n",
              "26           Chandigarh        61922  ...                98.64             1.31\n",
              "27              Tripura        76315  ...                93.88             0.97\n",
              "28             Nagaland        27240  ...                93.21             1.98\n",
              "29               Sikkim        24823  ...                87.19             1.33\n",
              "30    Arunachal Pradesh        45703  ...                89.76             0.47\n",
              "31               Ladakh        20296  ...                98.65             1.02\n",
              "32              Mizoram        31145  ...                74.61             0.43\n",
              "33  Andaman and Nicobar         7525  ...                98.10             1.71\n",
              "34          Lakshadweep        10127  ...                98.72             0.48\n",
              "35        Daman and Diu        10637  ...                99.51             0.04\n",
              "\n",
              "[36 rows x 8 columns]"
            ]
          },
          "metadata": {
            "tags": []
          },
          "execution_count": 33
        }
      ]
    },
    {
      "cell_type": "markdown",
      "metadata": {
        "id": "1xTmmUHZxL06"
      },
      "source": [
        "**Q15)List out states which has death ratio above 2%**"
      ]
    },
    {
      "cell_type": "code",
      "metadata": {
        "colab": {
          "base_uri": "https://localhost:8080/",
          "height": 142
        },
        "id": "Jkth8ffpxfwh",
        "outputId": "44cf522b-23e1-4c1e-f96d-3f01e98dd7ec"
      },
      "source": [
        "death_ratio_2 = df[df['Death Ratio (%)'] >2]\n",
        "death_ratio_2"
      ],
      "execution_count": null,
      "outputs": [
        {
          "output_type": "execute_result",
          "data": {
            "text/html": [
              "<div>\n",
              "<style scoped>\n",
              "    .dataframe tbody tr th:only-of-type {\n",
              "        vertical-align: middle;\n",
              "    }\n",
              "\n",
              "    .dataframe tbody tr th {\n",
              "        vertical-align: top;\n",
              "    }\n",
              "\n",
              "    .dataframe thead th {\n",
              "        text-align: right;\n",
              "    }\n",
              "</style>\n",
              "<table border=\"1\" class=\"dataframe\">\n",
              "  <thead>\n",
              "    <tr style=\"text-align: right;\">\n",
              "      <th></th>\n",
              "      <th>State/UTs</th>\n",
              "      <th>Total Cases</th>\n",
              "      <th>Active</th>\n",
              "      <th>Discharged</th>\n",
              "      <th>Deaths</th>\n",
              "      <th>Active Ratio (%)</th>\n",
              "      <th>Discharge Ratio (%)</th>\n",
              "      <th>Death Ratio (%)</th>\n",
              "    </tr>\n",
              "  </thead>\n",
              "  <tbody>\n",
              "    <tr>\n",
              "      <th>20</th>\n",
              "      <td>Maharashtra</td>\n",
              "      <td>6258079</td>\n",
              "      <td>96833</td>\n",
              "      <td>6029817</td>\n",
              "      <td>131429</td>\n",
              "      <td>1.55</td>\n",
              "      <td>96.35</td>\n",
              "      <td>2.10</td>\n",
              "    </tr>\n",
              "    <tr>\n",
              "      <th>27</th>\n",
              "      <td>Punjab</td>\n",
              "      <td>598741</td>\n",
              "      <td>771</td>\n",
              "      <td>581712</td>\n",
              "      <td>16258</td>\n",
              "      <td>0.13</td>\n",
              "      <td>97.16</td>\n",
              "      <td>2.72</td>\n",
              "    </tr>\n",
              "    <tr>\n",
              "      <th>34</th>\n",
              "      <td>Uttarakhand</td>\n",
              "      <td>341673</td>\n",
              "      <td>611</td>\n",
              "      <td>333703</td>\n",
              "      <td>7359</td>\n",
              "      <td>0.18</td>\n",
              "      <td>97.67</td>\n",
              "      <td>2.15</td>\n",
              "    </tr>\n",
              "  </tbody>\n",
              "</table>\n",
              "</div>"
            ],
            "text/plain": [
              "      State/UTs  Total Cases  ...  Discharge Ratio (%)  Death Ratio (%)\n",
              "20  Maharashtra      6258079  ...                96.35             2.10\n",
              "27       Punjab       598741  ...                97.16             2.72\n",
              "34  Uttarakhand       341673  ...                97.67             2.15\n",
              "\n",
              "[3 rows x 8 columns]"
            ]
          },
          "metadata": {
            "tags": []
          },
          "execution_count": 34
        }
      ]
    }
  ]
}